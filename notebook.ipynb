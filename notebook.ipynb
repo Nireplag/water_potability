{
  "nbformat": 4,
  "nbformat_minor": 0,
  "metadata": {
    "colab": {
      "provenance": [],
      "authorship_tag": "ABX9TyMFpw3etr6PZBEoBGUzK7Qk",
      "include_colab_link": true
    },
    "kernelspec": {
      "name": "python3",
      "display_name": "Python 3"
    },
    "language_info": {
      "name": "python"
    }
  },
  "cells": [
    {
      "cell_type": "markdown",
      "metadata": {
        "id": "view-in-github",
        "colab_type": "text"
      },
      "source": [
        "<a href=\"https://colab.research.google.com/github/Nireplag/water_potability/blob/main/notebook.ipynb\" target=\"_parent\"><img src=\"https://colab.research.google.com/assets/colab-badge.svg\" alt=\"Open In Colab\"/></a>"
      ]
    },
    {
      "cell_type": "code",
      "execution_count": 38,
      "metadata": {
        "id": "_ryVVd_6-ycm"
      },
      "outputs": [],
      "source": [
        "# import necessary packages\n",
        "import pandas as pd\n",
        "import numpy as np\n",
        "from sklearn.model_selection import train_test_split"
      ]
    },
    {
      "cell_type": "code",
      "source": [
        "# download dataset from github repository\n",
        "df = pd.read_csv('https://raw.githubusercontent.com/MainakRepositor/Datasets/master/water_potability.csv')\n",
        "df.head()\n"
      ],
      "metadata": {
        "colab": {
          "base_uri": "https://localhost:8080/",
          "height": 206
        },
        "id": "V8vWv2OC_Km9",
        "outputId": "24ae8ace-4697-476d-aec5-24584583e3e8"
      },
      "execution_count": 39,
      "outputs": [
        {
          "output_type": "execute_result",
          "data": {
            "text/plain": [
              "         ph    Hardness        Solids  Chloramines     Sulfate  Conductivity  \\\n",
              "0       NaN  204.890455  20791.318981     7.300212  368.516441    564.308654   \n",
              "1  3.716080  129.422921  18630.057858     6.635246         NaN    592.885359   \n",
              "2  8.099124  224.236259  19909.541732     9.275884         NaN    418.606213   \n",
              "3  8.316766  214.373394  22018.417441     8.059332  356.886136    363.266516   \n",
              "4  9.092223  181.101509  17978.986339     6.546600  310.135738    398.410813   \n",
              "\n",
              "   Organic_carbon  Trihalomethanes  Turbidity  Potability  \n",
              "0       10.379783        86.990970   2.963135           0  \n",
              "1       15.180013        56.329076   4.500656           0  \n",
              "2       16.868637        66.420093   3.055934           0  \n",
              "3       18.436524       100.341674   4.628771           0  \n",
              "4       11.558279        31.997993   4.075075           0  "
            ],
            "text/html": [
              "\n",
              "  <div id=\"df-71330103-abe9-474b-ad23-9b7125c4d82e\" class=\"colab-df-container\">\n",
              "    <div>\n",
              "<style scoped>\n",
              "    .dataframe tbody tr th:only-of-type {\n",
              "        vertical-align: middle;\n",
              "    }\n",
              "\n",
              "    .dataframe tbody tr th {\n",
              "        vertical-align: top;\n",
              "    }\n",
              "\n",
              "    .dataframe thead th {\n",
              "        text-align: right;\n",
              "    }\n",
              "</style>\n",
              "<table border=\"1\" class=\"dataframe\">\n",
              "  <thead>\n",
              "    <tr style=\"text-align: right;\">\n",
              "      <th></th>\n",
              "      <th>ph</th>\n",
              "      <th>Hardness</th>\n",
              "      <th>Solids</th>\n",
              "      <th>Chloramines</th>\n",
              "      <th>Sulfate</th>\n",
              "      <th>Conductivity</th>\n",
              "      <th>Organic_carbon</th>\n",
              "      <th>Trihalomethanes</th>\n",
              "      <th>Turbidity</th>\n",
              "      <th>Potability</th>\n",
              "    </tr>\n",
              "  </thead>\n",
              "  <tbody>\n",
              "    <tr>\n",
              "      <th>0</th>\n",
              "      <td>NaN</td>\n",
              "      <td>204.890455</td>\n",
              "      <td>20791.318981</td>\n",
              "      <td>7.300212</td>\n",
              "      <td>368.516441</td>\n",
              "      <td>564.308654</td>\n",
              "      <td>10.379783</td>\n",
              "      <td>86.990970</td>\n",
              "      <td>2.963135</td>\n",
              "      <td>0</td>\n",
              "    </tr>\n",
              "    <tr>\n",
              "      <th>1</th>\n",
              "      <td>3.716080</td>\n",
              "      <td>129.422921</td>\n",
              "      <td>18630.057858</td>\n",
              "      <td>6.635246</td>\n",
              "      <td>NaN</td>\n",
              "      <td>592.885359</td>\n",
              "      <td>15.180013</td>\n",
              "      <td>56.329076</td>\n",
              "      <td>4.500656</td>\n",
              "      <td>0</td>\n",
              "    </tr>\n",
              "    <tr>\n",
              "      <th>2</th>\n",
              "      <td>8.099124</td>\n",
              "      <td>224.236259</td>\n",
              "      <td>19909.541732</td>\n",
              "      <td>9.275884</td>\n",
              "      <td>NaN</td>\n",
              "      <td>418.606213</td>\n",
              "      <td>16.868637</td>\n",
              "      <td>66.420093</td>\n",
              "      <td>3.055934</td>\n",
              "      <td>0</td>\n",
              "    </tr>\n",
              "    <tr>\n",
              "      <th>3</th>\n",
              "      <td>8.316766</td>\n",
              "      <td>214.373394</td>\n",
              "      <td>22018.417441</td>\n",
              "      <td>8.059332</td>\n",
              "      <td>356.886136</td>\n",
              "      <td>363.266516</td>\n",
              "      <td>18.436524</td>\n",
              "      <td>100.341674</td>\n",
              "      <td>4.628771</td>\n",
              "      <td>0</td>\n",
              "    </tr>\n",
              "    <tr>\n",
              "      <th>4</th>\n",
              "      <td>9.092223</td>\n",
              "      <td>181.101509</td>\n",
              "      <td>17978.986339</td>\n",
              "      <td>6.546600</td>\n",
              "      <td>310.135738</td>\n",
              "      <td>398.410813</td>\n",
              "      <td>11.558279</td>\n",
              "      <td>31.997993</td>\n",
              "      <td>4.075075</td>\n",
              "      <td>0</td>\n",
              "    </tr>\n",
              "  </tbody>\n",
              "</table>\n",
              "</div>\n",
              "    <div class=\"colab-df-buttons\">\n",
              "\n",
              "  <div class=\"colab-df-container\">\n",
              "    <button class=\"colab-df-convert\" onclick=\"convertToInteractive('df-71330103-abe9-474b-ad23-9b7125c4d82e')\"\n",
              "            title=\"Convert this dataframe to an interactive table.\"\n",
              "            style=\"display:none;\">\n",
              "\n",
              "  <svg xmlns=\"http://www.w3.org/2000/svg\" height=\"24px\" viewBox=\"0 -960 960 960\">\n",
              "    <path d=\"M120-120v-720h720v720H120Zm60-500h600v-160H180v160Zm220 220h160v-160H400v160Zm0 220h160v-160H400v160ZM180-400h160v-160H180v160Zm440 0h160v-160H620v160ZM180-180h160v-160H180v160Zm440 0h160v-160H620v160Z\"/>\n",
              "  </svg>\n",
              "    </button>\n",
              "\n",
              "  <style>\n",
              "    .colab-df-container {\n",
              "      display:flex;\n",
              "      gap: 12px;\n",
              "    }\n",
              "\n",
              "    .colab-df-convert {\n",
              "      background-color: #E8F0FE;\n",
              "      border: none;\n",
              "      border-radius: 50%;\n",
              "      cursor: pointer;\n",
              "      display: none;\n",
              "      fill: #1967D2;\n",
              "      height: 32px;\n",
              "      padding: 0 0 0 0;\n",
              "      width: 32px;\n",
              "    }\n",
              "\n",
              "    .colab-df-convert:hover {\n",
              "      background-color: #E2EBFA;\n",
              "      box-shadow: 0px 1px 2px rgba(60, 64, 67, 0.3), 0px 1px 3px 1px rgba(60, 64, 67, 0.15);\n",
              "      fill: #174EA6;\n",
              "    }\n",
              "\n",
              "    .colab-df-buttons div {\n",
              "      margin-bottom: 4px;\n",
              "    }\n",
              "\n",
              "    [theme=dark] .colab-df-convert {\n",
              "      background-color: #3B4455;\n",
              "      fill: #D2E3FC;\n",
              "    }\n",
              "\n",
              "    [theme=dark] .colab-df-convert:hover {\n",
              "      background-color: #434B5C;\n",
              "      box-shadow: 0px 1px 3px 1px rgba(0, 0, 0, 0.15);\n",
              "      filter: drop-shadow(0px 1px 2px rgba(0, 0, 0, 0.3));\n",
              "      fill: #FFFFFF;\n",
              "    }\n",
              "  </style>\n",
              "\n",
              "    <script>\n",
              "      const buttonEl =\n",
              "        document.querySelector('#df-71330103-abe9-474b-ad23-9b7125c4d82e button.colab-df-convert');\n",
              "      buttonEl.style.display =\n",
              "        google.colab.kernel.accessAllowed ? 'block' : 'none';\n",
              "\n",
              "      async function convertToInteractive(key) {\n",
              "        const element = document.querySelector('#df-71330103-abe9-474b-ad23-9b7125c4d82e');\n",
              "        const dataTable =\n",
              "          await google.colab.kernel.invokeFunction('convertToInteractive',\n",
              "                                                    [key], {});\n",
              "        if (!dataTable) return;\n",
              "\n",
              "        const docLinkHtml = 'Like what you see? Visit the ' +\n",
              "          '<a target=\"_blank\" href=https://colab.research.google.com/notebooks/data_table.ipynb>data table notebook</a>'\n",
              "          + ' to learn more about interactive tables.';\n",
              "        element.innerHTML = '';\n",
              "        dataTable['output_type'] = 'display_data';\n",
              "        await google.colab.output.renderOutput(dataTable, element);\n",
              "        const docLink = document.createElement('div');\n",
              "        docLink.innerHTML = docLinkHtml;\n",
              "        element.appendChild(docLink);\n",
              "      }\n",
              "    </script>\n",
              "  </div>\n",
              "\n",
              "\n",
              "<div id=\"df-b1a65ecb-7b58-4371-82b7-86049e4e05aa\">\n",
              "  <button class=\"colab-df-quickchart\" onclick=\"quickchart('df-b1a65ecb-7b58-4371-82b7-86049e4e05aa')\"\n",
              "            title=\"Suggest charts.\"\n",
              "            style=\"display:none;\">\n",
              "\n",
              "<svg xmlns=\"http://www.w3.org/2000/svg\" height=\"24px\"viewBox=\"0 0 24 24\"\n",
              "     width=\"24px\">\n",
              "    <g>\n",
              "        <path d=\"M19 3H5c-1.1 0-2 .9-2 2v14c0 1.1.9 2 2 2h14c1.1 0 2-.9 2-2V5c0-1.1-.9-2-2-2zM9 17H7v-7h2v7zm4 0h-2V7h2v10zm4 0h-2v-4h2v4z\"/>\n",
              "    </g>\n",
              "</svg>\n",
              "  </button>\n",
              "\n",
              "<style>\n",
              "  .colab-df-quickchart {\n",
              "      --bg-color: #E8F0FE;\n",
              "      --fill-color: #1967D2;\n",
              "      --hover-bg-color: #E2EBFA;\n",
              "      --hover-fill-color: #174EA6;\n",
              "      --disabled-fill-color: #AAA;\n",
              "      --disabled-bg-color: #DDD;\n",
              "  }\n",
              "\n",
              "  [theme=dark] .colab-df-quickchart {\n",
              "      --bg-color: #3B4455;\n",
              "      --fill-color: #D2E3FC;\n",
              "      --hover-bg-color: #434B5C;\n",
              "      --hover-fill-color: #FFFFFF;\n",
              "      --disabled-bg-color: #3B4455;\n",
              "      --disabled-fill-color: #666;\n",
              "  }\n",
              "\n",
              "  .colab-df-quickchart {\n",
              "    background-color: var(--bg-color);\n",
              "    border: none;\n",
              "    border-radius: 50%;\n",
              "    cursor: pointer;\n",
              "    display: none;\n",
              "    fill: var(--fill-color);\n",
              "    height: 32px;\n",
              "    padding: 0;\n",
              "    width: 32px;\n",
              "  }\n",
              "\n",
              "  .colab-df-quickchart:hover {\n",
              "    background-color: var(--hover-bg-color);\n",
              "    box-shadow: 0 1px 2px rgba(60, 64, 67, 0.3), 0 1px 3px 1px rgba(60, 64, 67, 0.15);\n",
              "    fill: var(--button-hover-fill-color);\n",
              "  }\n",
              "\n",
              "  .colab-df-quickchart-complete:disabled,\n",
              "  .colab-df-quickchart-complete:disabled:hover {\n",
              "    background-color: var(--disabled-bg-color);\n",
              "    fill: var(--disabled-fill-color);\n",
              "    box-shadow: none;\n",
              "  }\n",
              "\n",
              "  .colab-df-spinner {\n",
              "    border: 2px solid var(--fill-color);\n",
              "    border-color: transparent;\n",
              "    border-bottom-color: var(--fill-color);\n",
              "    animation:\n",
              "      spin 1s steps(1) infinite;\n",
              "  }\n",
              "\n",
              "  @keyframes spin {\n",
              "    0% {\n",
              "      border-color: transparent;\n",
              "      border-bottom-color: var(--fill-color);\n",
              "      border-left-color: var(--fill-color);\n",
              "    }\n",
              "    20% {\n",
              "      border-color: transparent;\n",
              "      border-left-color: var(--fill-color);\n",
              "      border-top-color: var(--fill-color);\n",
              "    }\n",
              "    30% {\n",
              "      border-color: transparent;\n",
              "      border-left-color: var(--fill-color);\n",
              "      border-top-color: var(--fill-color);\n",
              "      border-right-color: var(--fill-color);\n",
              "    }\n",
              "    40% {\n",
              "      border-color: transparent;\n",
              "      border-right-color: var(--fill-color);\n",
              "      border-top-color: var(--fill-color);\n",
              "    }\n",
              "    60% {\n",
              "      border-color: transparent;\n",
              "      border-right-color: var(--fill-color);\n",
              "    }\n",
              "    80% {\n",
              "      border-color: transparent;\n",
              "      border-right-color: var(--fill-color);\n",
              "      border-bottom-color: var(--fill-color);\n",
              "    }\n",
              "    90% {\n",
              "      border-color: transparent;\n",
              "      border-bottom-color: var(--fill-color);\n",
              "    }\n",
              "  }\n",
              "</style>\n",
              "\n",
              "  <script>\n",
              "    async function quickchart(key) {\n",
              "      const quickchartButtonEl =\n",
              "        document.querySelector('#' + key + ' button');\n",
              "      quickchartButtonEl.disabled = true;  // To prevent multiple clicks.\n",
              "      quickchartButtonEl.classList.add('colab-df-spinner');\n",
              "      try {\n",
              "        const charts = await google.colab.kernel.invokeFunction(\n",
              "            'suggestCharts', [key], {});\n",
              "      } catch (error) {\n",
              "        console.error('Error during call to suggestCharts:', error);\n",
              "      }\n",
              "      quickchartButtonEl.classList.remove('colab-df-spinner');\n",
              "      quickchartButtonEl.classList.add('colab-df-quickchart-complete');\n",
              "    }\n",
              "    (() => {\n",
              "      let quickchartButtonEl =\n",
              "        document.querySelector('#df-b1a65ecb-7b58-4371-82b7-86049e4e05aa button');\n",
              "      quickchartButtonEl.style.display =\n",
              "        google.colab.kernel.accessAllowed ? 'block' : 'none';\n",
              "    })();\n",
              "  </script>\n",
              "</div>\n",
              "    </div>\n",
              "  </div>\n"
            ]
          },
          "metadata": {},
          "execution_count": 39
        }
      ]
    },
    {
      "cell_type": "markdown",
      "source": [
        "EDA"
      ],
      "metadata": {
        "id": "FcyOUeSwQZBp"
      }
    },
    {
      "cell_type": "code",
      "source": [
        "# make all columns lowercase and check for null values\n",
        "df.columns = df.columns.str.replace(' ', '_').str.lower()\n",
        "df.isnull().sum()"
      ],
      "metadata": {
        "colab": {
          "base_uri": "https://localhost:8080/"
        },
        "id": "dP-vionSUbzK",
        "outputId": "9c568baa-be61-4b19-e213-418ced2e36d0"
      },
      "execution_count": 40,
      "outputs": [
        {
          "output_type": "execute_result",
          "data": {
            "text/plain": [
              "ph                 491\n",
              "hardness             0\n",
              "solids               0\n",
              "chloramines          0\n",
              "sulfate            781\n",
              "conductivity         0\n",
              "organic_carbon       0\n",
              "trihalomethanes    162\n",
              "turbidity            0\n",
              "potability           0\n",
              "dtype: int64"
            ]
          },
          "metadata": {},
          "execution_count": 40
        }
      ]
    },
    {
      "cell_type": "code",
      "source": [
        "# check for variables descriptive statistics\n",
        "df.describe()"
      ],
      "metadata": {
        "colab": {
          "base_uri": "https://localhost:8080/",
          "height": 300
        },
        "id": "27mG8Yp2Vynb",
        "outputId": "dd87be8c-575d-4fd0-f6ba-715e380170e8"
      },
      "execution_count": 41,
      "outputs": [
        {
          "output_type": "execute_result",
          "data": {
            "text/plain": [
              "                ph     hardness        solids  chloramines      sulfate  \\\n",
              "count  2785.000000  3276.000000   3276.000000  3276.000000  2495.000000   \n",
              "mean      7.080795   196.369496  22014.092526     7.122277   333.775777   \n",
              "std       1.594320    32.879761   8768.570828     1.583085    41.416840   \n",
              "min       0.000000    47.432000    320.942611     0.352000   129.000000   \n",
              "25%       6.093092   176.850538  15666.690297     6.127421   307.699498   \n",
              "50%       7.036752   196.967627  20927.833607     7.130299   333.073546   \n",
              "75%       8.062066   216.667456  27332.762127     8.114887   359.950170   \n",
              "max      14.000000   323.124000  61227.196008    13.127000   481.030642   \n",
              "\n",
              "       conductivity  organic_carbon  trihalomethanes    turbidity   potability  \n",
              "count   3276.000000     3276.000000      3114.000000  3276.000000  3276.000000  \n",
              "mean     426.205111       14.284970        66.396293     3.966786     0.390110  \n",
              "std       80.824064        3.308162        16.175008     0.780382     0.487849  \n",
              "min      181.483754        2.200000         0.738000     1.450000     0.000000  \n",
              "25%      365.734414       12.065801        55.844536     3.439711     0.000000  \n",
              "50%      421.884968       14.218338        66.622485     3.955028     0.000000  \n",
              "75%      481.792304       16.557652        77.337473     4.500320     1.000000  \n",
              "max      753.342620       28.300000       124.000000     6.739000     1.000000  "
            ],
            "text/html": [
              "\n",
              "  <div id=\"df-8535214d-d6a9-49dc-a6a2-d75cb236ac8a\" class=\"colab-df-container\">\n",
              "    <div>\n",
              "<style scoped>\n",
              "    .dataframe tbody tr th:only-of-type {\n",
              "        vertical-align: middle;\n",
              "    }\n",
              "\n",
              "    .dataframe tbody tr th {\n",
              "        vertical-align: top;\n",
              "    }\n",
              "\n",
              "    .dataframe thead th {\n",
              "        text-align: right;\n",
              "    }\n",
              "</style>\n",
              "<table border=\"1\" class=\"dataframe\">\n",
              "  <thead>\n",
              "    <tr style=\"text-align: right;\">\n",
              "      <th></th>\n",
              "      <th>ph</th>\n",
              "      <th>hardness</th>\n",
              "      <th>solids</th>\n",
              "      <th>chloramines</th>\n",
              "      <th>sulfate</th>\n",
              "      <th>conductivity</th>\n",
              "      <th>organic_carbon</th>\n",
              "      <th>trihalomethanes</th>\n",
              "      <th>turbidity</th>\n",
              "      <th>potability</th>\n",
              "    </tr>\n",
              "  </thead>\n",
              "  <tbody>\n",
              "    <tr>\n",
              "      <th>count</th>\n",
              "      <td>2785.000000</td>\n",
              "      <td>3276.000000</td>\n",
              "      <td>3276.000000</td>\n",
              "      <td>3276.000000</td>\n",
              "      <td>2495.000000</td>\n",
              "      <td>3276.000000</td>\n",
              "      <td>3276.000000</td>\n",
              "      <td>3114.000000</td>\n",
              "      <td>3276.000000</td>\n",
              "      <td>3276.000000</td>\n",
              "    </tr>\n",
              "    <tr>\n",
              "      <th>mean</th>\n",
              "      <td>7.080795</td>\n",
              "      <td>196.369496</td>\n",
              "      <td>22014.092526</td>\n",
              "      <td>7.122277</td>\n",
              "      <td>333.775777</td>\n",
              "      <td>426.205111</td>\n",
              "      <td>14.284970</td>\n",
              "      <td>66.396293</td>\n",
              "      <td>3.966786</td>\n",
              "      <td>0.390110</td>\n",
              "    </tr>\n",
              "    <tr>\n",
              "      <th>std</th>\n",
              "      <td>1.594320</td>\n",
              "      <td>32.879761</td>\n",
              "      <td>8768.570828</td>\n",
              "      <td>1.583085</td>\n",
              "      <td>41.416840</td>\n",
              "      <td>80.824064</td>\n",
              "      <td>3.308162</td>\n",
              "      <td>16.175008</td>\n",
              "      <td>0.780382</td>\n",
              "      <td>0.487849</td>\n",
              "    </tr>\n",
              "    <tr>\n",
              "      <th>min</th>\n",
              "      <td>0.000000</td>\n",
              "      <td>47.432000</td>\n",
              "      <td>320.942611</td>\n",
              "      <td>0.352000</td>\n",
              "      <td>129.000000</td>\n",
              "      <td>181.483754</td>\n",
              "      <td>2.200000</td>\n",
              "      <td>0.738000</td>\n",
              "      <td>1.450000</td>\n",
              "      <td>0.000000</td>\n",
              "    </tr>\n",
              "    <tr>\n",
              "      <th>25%</th>\n",
              "      <td>6.093092</td>\n",
              "      <td>176.850538</td>\n",
              "      <td>15666.690297</td>\n",
              "      <td>6.127421</td>\n",
              "      <td>307.699498</td>\n",
              "      <td>365.734414</td>\n",
              "      <td>12.065801</td>\n",
              "      <td>55.844536</td>\n",
              "      <td>3.439711</td>\n",
              "      <td>0.000000</td>\n",
              "    </tr>\n",
              "    <tr>\n",
              "      <th>50%</th>\n",
              "      <td>7.036752</td>\n",
              "      <td>196.967627</td>\n",
              "      <td>20927.833607</td>\n",
              "      <td>7.130299</td>\n",
              "      <td>333.073546</td>\n",
              "      <td>421.884968</td>\n",
              "      <td>14.218338</td>\n",
              "      <td>66.622485</td>\n",
              "      <td>3.955028</td>\n",
              "      <td>0.000000</td>\n",
              "    </tr>\n",
              "    <tr>\n",
              "      <th>75%</th>\n",
              "      <td>8.062066</td>\n",
              "      <td>216.667456</td>\n",
              "      <td>27332.762127</td>\n",
              "      <td>8.114887</td>\n",
              "      <td>359.950170</td>\n",
              "      <td>481.792304</td>\n",
              "      <td>16.557652</td>\n",
              "      <td>77.337473</td>\n",
              "      <td>4.500320</td>\n",
              "      <td>1.000000</td>\n",
              "    </tr>\n",
              "    <tr>\n",
              "      <th>max</th>\n",
              "      <td>14.000000</td>\n",
              "      <td>323.124000</td>\n",
              "      <td>61227.196008</td>\n",
              "      <td>13.127000</td>\n",
              "      <td>481.030642</td>\n",
              "      <td>753.342620</td>\n",
              "      <td>28.300000</td>\n",
              "      <td>124.000000</td>\n",
              "      <td>6.739000</td>\n",
              "      <td>1.000000</td>\n",
              "    </tr>\n",
              "  </tbody>\n",
              "</table>\n",
              "</div>\n",
              "    <div class=\"colab-df-buttons\">\n",
              "\n",
              "  <div class=\"colab-df-container\">\n",
              "    <button class=\"colab-df-convert\" onclick=\"convertToInteractive('df-8535214d-d6a9-49dc-a6a2-d75cb236ac8a')\"\n",
              "            title=\"Convert this dataframe to an interactive table.\"\n",
              "            style=\"display:none;\">\n",
              "\n",
              "  <svg xmlns=\"http://www.w3.org/2000/svg\" height=\"24px\" viewBox=\"0 -960 960 960\">\n",
              "    <path d=\"M120-120v-720h720v720H120Zm60-500h600v-160H180v160Zm220 220h160v-160H400v160Zm0 220h160v-160H400v160ZM180-400h160v-160H180v160Zm440 0h160v-160H620v160ZM180-180h160v-160H180v160Zm440 0h160v-160H620v160Z\"/>\n",
              "  </svg>\n",
              "    </button>\n",
              "\n",
              "  <style>\n",
              "    .colab-df-container {\n",
              "      display:flex;\n",
              "      gap: 12px;\n",
              "    }\n",
              "\n",
              "    .colab-df-convert {\n",
              "      background-color: #E8F0FE;\n",
              "      border: none;\n",
              "      border-radius: 50%;\n",
              "      cursor: pointer;\n",
              "      display: none;\n",
              "      fill: #1967D2;\n",
              "      height: 32px;\n",
              "      padding: 0 0 0 0;\n",
              "      width: 32px;\n",
              "    }\n",
              "\n",
              "    .colab-df-convert:hover {\n",
              "      background-color: #E2EBFA;\n",
              "      box-shadow: 0px 1px 2px rgba(60, 64, 67, 0.3), 0px 1px 3px 1px rgba(60, 64, 67, 0.15);\n",
              "      fill: #174EA6;\n",
              "    }\n",
              "\n",
              "    .colab-df-buttons div {\n",
              "      margin-bottom: 4px;\n",
              "    }\n",
              "\n",
              "    [theme=dark] .colab-df-convert {\n",
              "      background-color: #3B4455;\n",
              "      fill: #D2E3FC;\n",
              "    }\n",
              "\n",
              "    [theme=dark] .colab-df-convert:hover {\n",
              "      background-color: #434B5C;\n",
              "      box-shadow: 0px 1px 3px 1px rgba(0, 0, 0, 0.15);\n",
              "      filter: drop-shadow(0px 1px 2px rgba(0, 0, 0, 0.3));\n",
              "      fill: #FFFFFF;\n",
              "    }\n",
              "  </style>\n",
              "\n",
              "    <script>\n",
              "      const buttonEl =\n",
              "        document.querySelector('#df-8535214d-d6a9-49dc-a6a2-d75cb236ac8a button.colab-df-convert');\n",
              "      buttonEl.style.display =\n",
              "        google.colab.kernel.accessAllowed ? 'block' : 'none';\n",
              "\n",
              "      async function convertToInteractive(key) {\n",
              "        const element = document.querySelector('#df-8535214d-d6a9-49dc-a6a2-d75cb236ac8a');\n",
              "        const dataTable =\n",
              "          await google.colab.kernel.invokeFunction('convertToInteractive',\n",
              "                                                    [key], {});\n",
              "        if (!dataTable) return;\n",
              "\n",
              "        const docLinkHtml = 'Like what you see? Visit the ' +\n",
              "          '<a target=\"_blank\" href=https://colab.research.google.com/notebooks/data_table.ipynb>data table notebook</a>'\n",
              "          + ' to learn more about interactive tables.';\n",
              "        element.innerHTML = '';\n",
              "        dataTable['output_type'] = 'display_data';\n",
              "        await google.colab.output.renderOutput(dataTable, element);\n",
              "        const docLink = document.createElement('div');\n",
              "        docLink.innerHTML = docLinkHtml;\n",
              "        element.appendChild(docLink);\n",
              "      }\n",
              "    </script>\n",
              "  </div>\n",
              "\n",
              "\n",
              "<div id=\"df-c24de490-8694-426d-bea9-64e01b18fd4b\">\n",
              "  <button class=\"colab-df-quickchart\" onclick=\"quickchart('df-c24de490-8694-426d-bea9-64e01b18fd4b')\"\n",
              "            title=\"Suggest charts.\"\n",
              "            style=\"display:none;\">\n",
              "\n",
              "<svg xmlns=\"http://www.w3.org/2000/svg\" height=\"24px\"viewBox=\"0 0 24 24\"\n",
              "     width=\"24px\">\n",
              "    <g>\n",
              "        <path d=\"M19 3H5c-1.1 0-2 .9-2 2v14c0 1.1.9 2 2 2h14c1.1 0 2-.9 2-2V5c0-1.1-.9-2-2-2zM9 17H7v-7h2v7zm4 0h-2V7h2v10zm4 0h-2v-4h2v4z\"/>\n",
              "    </g>\n",
              "</svg>\n",
              "  </button>\n",
              "\n",
              "<style>\n",
              "  .colab-df-quickchart {\n",
              "      --bg-color: #E8F0FE;\n",
              "      --fill-color: #1967D2;\n",
              "      --hover-bg-color: #E2EBFA;\n",
              "      --hover-fill-color: #174EA6;\n",
              "      --disabled-fill-color: #AAA;\n",
              "      --disabled-bg-color: #DDD;\n",
              "  }\n",
              "\n",
              "  [theme=dark] .colab-df-quickchart {\n",
              "      --bg-color: #3B4455;\n",
              "      --fill-color: #D2E3FC;\n",
              "      --hover-bg-color: #434B5C;\n",
              "      --hover-fill-color: #FFFFFF;\n",
              "      --disabled-bg-color: #3B4455;\n",
              "      --disabled-fill-color: #666;\n",
              "  }\n",
              "\n",
              "  .colab-df-quickchart {\n",
              "    background-color: var(--bg-color);\n",
              "    border: none;\n",
              "    border-radius: 50%;\n",
              "    cursor: pointer;\n",
              "    display: none;\n",
              "    fill: var(--fill-color);\n",
              "    height: 32px;\n",
              "    padding: 0;\n",
              "    width: 32px;\n",
              "  }\n",
              "\n",
              "  .colab-df-quickchart:hover {\n",
              "    background-color: var(--hover-bg-color);\n",
              "    box-shadow: 0 1px 2px rgba(60, 64, 67, 0.3), 0 1px 3px 1px rgba(60, 64, 67, 0.15);\n",
              "    fill: var(--button-hover-fill-color);\n",
              "  }\n",
              "\n",
              "  .colab-df-quickchart-complete:disabled,\n",
              "  .colab-df-quickchart-complete:disabled:hover {\n",
              "    background-color: var(--disabled-bg-color);\n",
              "    fill: var(--disabled-fill-color);\n",
              "    box-shadow: none;\n",
              "  }\n",
              "\n",
              "  .colab-df-spinner {\n",
              "    border: 2px solid var(--fill-color);\n",
              "    border-color: transparent;\n",
              "    border-bottom-color: var(--fill-color);\n",
              "    animation:\n",
              "      spin 1s steps(1) infinite;\n",
              "  }\n",
              "\n",
              "  @keyframes spin {\n",
              "    0% {\n",
              "      border-color: transparent;\n",
              "      border-bottom-color: var(--fill-color);\n",
              "      border-left-color: var(--fill-color);\n",
              "    }\n",
              "    20% {\n",
              "      border-color: transparent;\n",
              "      border-left-color: var(--fill-color);\n",
              "      border-top-color: var(--fill-color);\n",
              "    }\n",
              "    30% {\n",
              "      border-color: transparent;\n",
              "      border-left-color: var(--fill-color);\n",
              "      border-top-color: var(--fill-color);\n",
              "      border-right-color: var(--fill-color);\n",
              "    }\n",
              "    40% {\n",
              "      border-color: transparent;\n",
              "      border-right-color: var(--fill-color);\n",
              "      border-top-color: var(--fill-color);\n",
              "    }\n",
              "    60% {\n",
              "      border-color: transparent;\n",
              "      border-right-color: var(--fill-color);\n",
              "    }\n",
              "    80% {\n",
              "      border-color: transparent;\n",
              "      border-right-color: var(--fill-color);\n",
              "      border-bottom-color: var(--fill-color);\n",
              "    }\n",
              "    90% {\n",
              "      border-color: transparent;\n",
              "      border-bottom-color: var(--fill-color);\n",
              "    }\n",
              "  }\n",
              "</style>\n",
              "\n",
              "  <script>\n",
              "    async function quickchart(key) {\n",
              "      const quickchartButtonEl =\n",
              "        document.querySelector('#' + key + ' button');\n",
              "      quickchartButtonEl.disabled = true;  // To prevent multiple clicks.\n",
              "      quickchartButtonEl.classList.add('colab-df-spinner');\n",
              "      try {\n",
              "        const charts = await google.colab.kernel.invokeFunction(\n",
              "            'suggestCharts', [key], {});\n",
              "      } catch (error) {\n",
              "        console.error('Error during call to suggestCharts:', error);\n",
              "      }\n",
              "      quickchartButtonEl.classList.remove('colab-df-spinner');\n",
              "      quickchartButtonEl.classList.add('colab-df-quickchart-complete');\n",
              "    }\n",
              "    (() => {\n",
              "      let quickchartButtonEl =\n",
              "        document.querySelector('#df-c24de490-8694-426d-bea9-64e01b18fd4b button');\n",
              "      quickchartButtonEl.style.display =\n",
              "        google.colab.kernel.accessAllowed ? 'block' : 'none';\n",
              "    })();\n",
              "  </script>\n",
              "</div>\n",
              "    </div>\n",
              "  </div>\n"
            ]
          },
          "metadata": {},
          "execution_count": 41
        }
      ]
    },
    {
      "cell_type": "code",
      "source": [
        "df.dtypes\n",
        "# no categorical values"
      ],
      "metadata": {
        "colab": {
          "base_uri": "https://localhost:8080/"
        },
        "id": "6Vczan2bR97u",
        "outputId": "6b88d925-9426-44c0-f0be-a6a8dc77d3b4"
      },
      "execution_count": 42,
      "outputs": [
        {
          "output_type": "execute_result",
          "data": {
            "text/plain": [
              "ph                 float64\n",
              "hardness           float64\n",
              "solids             float64\n",
              "chloramines        float64\n",
              "sulfate            float64\n",
              "conductivity       float64\n",
              "organic_carbon     float64\n",
              "trihalomethanes    float64\n",
              "turbidity          float64\n",
              "potability           int64\n",
              "dtype: object"
            ]
          },
          "metadata": {},
          "execution_count": 42
        }
      ]
    },
    {
      "cell_type": "code",
      "source": [
        "# check percentage of blank data -> losing more than a third of dataset to just drop missing values.\n",
        "total_size = len(df)\n",
        "\n",
        "ph_null_index = df.ph.isnull()\n",
        "sulfate_null_index = df.sulfate.isnull()\n",
        "trihalomethanes_null_index = df.trihalomethanes.isnull()\n",
        "\n",
        "null_df = df[ph_null_index|sulfate_null_index|trihalomethanes_null_index]\n",
        "\n",
        "print('Percentage of missing data: ' + str(len(null_df)/len(df)))"
      ],
      "metadata": {
        "colab": {
          "base_uri": "https://localhost:8080/"
        },
        "id": "cEs9DomLLIxA",
        "outputId": "7cacad2a-73e0-4d54-fbfc-575354c25025"
      },
      "execution_count": 43,
      "outputs": [
        {
          "output_type": "stream",
          "name": "stdout",
          "text": [
            "Percentage of missing data: 0.38614163614163616\n"
          ]
        }
      ]
    },
    {
      "cell_type": "code",
      "source": [
        "# missing data will be populated with mean values of the dataset split by potability\n",
        "\n",
        "#split data\n",
        "df_pot = df[df.potability == 1]\n",
        "df_non_pot = df[df.potability == 0]\n",
        "\n",
        "#calculate means\n",
        "pot_ph = df_pot.ph.mean()\n",
        "pot_sulfate = df_pot.sulfate.mean()\n",
        "pot_trihalomethanes = df_pot.trihalomethanes.mean()\n",
        "\n",
        "non_pot_ph = df_non_pot.ph.mean()\n",
        "non_pot_sulfate = df_non_pot.sulfate.mean()\n",
        "non_pot_trihalomethanes = df_non_pot.trihalomethanes.mean()\n",
        "\n",
        "# populate potable data\n",
        "df_pot.ph = df_pot.ph.fillna(pot_ph)\n",
        "df_pot.sulfate = df_pot.sulfate.fillna(pot_sulfate)\n",
        "df_pot.trihalomethanes = df_pot.trihalomethanes.fillna(pot_trihalomethanes)\n",
        "\n",
        "# populate non potable data\n",
        "df_non_pot.ph = df_non_pot.ph.fillna(non_pot_ph)\n",
        "df_non_pot.sulfate = df_non_pot.sulfate.fillna(non_pot_sulfate)\n",
        "df_non_pot.trihalomethanes = df_non_pot.trihalomethanes.fillna(non_pot_trihalomethanes)\n",
        "\n"
      ],
      "metadata": {
        "colab": {
          "base_uri": "https://localhost:8080/"
        },
        "id": "B5jIIFF3Nd6G",
        "outputId": "db6946a0-88c9-4e77-c2a9-8cf75e603afa"
      },
      "execution_count": 44,
      "outputs": [
        {
          "output_type": "stream",
          "name": "stderr",
          "text": [
            "<ipython-input-44-14ec1ba2c905>:17: SettingWithCopyWarning: \n",
            "A value is trying to be set on a copy of a slice from a DataFrame.\n",
            "Try using .loc[row_indexer,col_indexer] = value instead\n",
            "\n",
            "See the caveats in the documentation: https://pandas.pydata.org/pandas-docs/stable/user_guide/indexing.html#returning-a-view-versus-a-copy\n",
            "  df_pot.ph = df_pot.ph.fillna(pot_ph)\n",
            "<ipython-input-44-14ec1ba2c905>:18: SettingWithCopyWarning: \n",
            "A value is trying to be set on a copy of a slice from a DataFrame.\n",
            "Try using .loc[row_indexer,col_indexer] = value instead\n",
            "\n",
            "See the caveats in the documentation: https://pandas.pydata.org/pandas-docs/stable/user_guide/indexing.html#returning-a-view-versus-a-copy\n",
            "  df_pot.sulfate = df_pot.sulfate.fillna(pot_sulfate)\n",
            "<ipython-input-44-14ec1ba2c905>:19: SettingWithCopyWarning: \n",
            "A value is trying to be set on a copy of a slice from a DataFrame.\n",
            "Try using .loc[row_indexer,col_indexer] = value instead\n",
            "\n",
            "See the caveats in the documentation: https://pandas.pydata.org/pandas-docs/stable/user_guide/indexing.html#returning-a-view-versus-a-copy\n",
            "  df_pot.trihalomethanes = df_pot.trihalomethanes.fillna(pot_trihalomethanes)\n",
            "<ipython-input-44-14ec1ba2c905>:22: SettingWithCopyWarning: \n",
            "A value is trying to be set on a copy of a slice from a DataFrame.\n",
            "Try using .loc[row_indexer,col_indexer] = value instead\n",
            "\n",
            "See the caveats in the documentation: https://pandas.pydata.org/pandas-docs/stable/user_guide/indexing.html#returning-a-view-versus-a-copy\n",
            "  df_non_pot.ph = df_non_pot.ph.fillna(non_pot_ph)\n",
            "<ipython-input-44-14ec1ba2c905>:23: SettingWithCopyWarning: \n",
            "A value is trying to be set on a copy of a slice from a DataFrame.\n",
            "Try using .loc[row_indexer,col_indexer] = value instead\n",
            "\n",
            "See the caveats in the documentation: https://pandas.pydata.org/pandas-docs/stable/user_guide/indexing.html#returning-a-view-versus-a-copy\n",
            "  df_non_pot.sulfate = df_non_pot.sulfate.fillna(non_pot_sulfate)\n",
            "<ipython-input-44-14ec1ba2c905>:24: SettingWithCopyWarning: \n",
            "A value is trying to be set on a copy of a slice from a DataFrame.\n",
            "Try using .loc[row_indexer,col_indexer] = value instead\n",
            "\n",
            "See the caveats in the documentation: https://pandas.pydata.org/pandas-docs/stable/user_guide/indexing.html#returning-a-view-versus-a-copy\n",
            "  df_non_pot.trihalomethanes = df_non_pot.trihalomethanes.fillna(non_pot_trihalomethanes)\n"
          ]
        }
      ]
    },
    {
      "cell_type": "code",
      "source": [
        "# join data and check for missing values\n",
        "\n",
        "df = pd.concat([df_pot, df_non_pot])\n",
        "df.isnull().sum()"
      ],
      "metadata": {
        "colab": {
          "base_uri": "https://localhost:8080/"
        },
        "id": "z2VhJhq_Q2ST",
        "outputId": "017afde4-4f1f-41c7-f41a-e5d5debc3313"
      },
      "execution_count": 45,
      "outputs": [
        {
          "output_type": "execute_result",
          "data": {
            "text/plain": [
              "ph                 0\n",
              "hardness           0\n",
              "solids             0\n",
              "chloramines        0\n",
              "sulfate            0\n",
              "conductivity       0\n",
              "organic_carbon     0\n",
              "trihalomethanes    0\n",
              "turbidity          0\n",
              "potability         0\n",
              "dtype: int64"
            ]
          },
          "metadata": {},
          "execution_count": 45
        }
      ]
    },
    {
      "cell_type": "code",
      "source": [
        "# Check data distribution\n",
        "df.ph.hist()"
      ],
      "metadata": {
        "colab": {
          "base_uri": "https://localhost:8080/",
          "height": 447
        },
        "id": "HbCNC13oRDz5",
        "outputId": "438c0934-8833-44aa-d62b-2e9e596e8142"
      },
      "execution_count": 46,
      "outputs": [
        {
          "output_type": "execute_result",
          "data": {
            "text/plain": [
              "<Axes: >"
            ]
          },
          "metadata": {},
          "execution_count": 46
        },
        {
          "output_type": "display_data",
          "data": {
            "text/plain": [
              "<Figure size 640x480 with 1 Axes>"
            ],
            "image/png": "[encoded data removed]"
          },
          "metadata": {}
        }
      ]
    },
    {
      "cell_type": "code",
      "source": [
        "df.hardness.hist()"
      ],
      "metadata": {
        "colab": {
          "base_uri": "https://localhost:8080/",
          "height": 447
        },
        "id": "XtUKMfPQEeQj",
        "outputId": "1941ef7a-3045-4abf-bee5-feb2130f1bf2"
      },
      "execution_count": 47,
      "outputs": [
        {
          "output_type": "execute_result",
          "data": {
            "text/plain": [
              "<Axes: >"
            ]
          },
          "metadata": {},
          "execution_count": 47
        },
        {
          "output_type": "display_data",
          "data": {
            "text/plain": [
              "<Figure size 640x480 with 1 Axes>"
            ],
            "image/png": "[encoded data removed]"
          },
          "metadata": {}
        }
      ]
    },
    {
      "cell_type": "code",
      "source": [
        "df.solids.hist()"
      ],
      "metadata": {
        "colab": {
          "base_uri": "https://localhost:8080/",
          "height": 447
        },
        "id": "bQF55LZwEiqo",
        "outputId": "21340814-6840-4bef-b87f-ef10543b9122"
      },
      "execution_count": 48,
      "outputs": [
        {
          "output_type": "execute_result",
          "data": {
            "text/plain": [
              "<Axes: >"
            ]
          },
          "metadata": {},
          "execution_count": 48
        },
        {
          "output_type": "display_data",
          "data": {
            "text/plain": [
              "<Figure size 640x480 with 1 Axes>"
            ],
            "image/png": "[encoded data removed]"
          },
          "metadata": {}
        }
      ]
    },
    {
      "cell_type": "code",
      "source": [
        "df.chloramines.hist()"
      ],
      "metadata": {
        "colab": {
          "base_uri": "https://localhost:8080/",
          "height": 447
        },
        "id": "ZyZTdNOeEw1_",
        "outputId": "c8327f47-e736-4e81-ac2e-748426dd9969"
      },
      "execution_count": 49,
      "outputs": [
        {
          "output_type": "execute_result",
          "data": {
            "text/plain": [
              "<Axes: >"
            ]
          },
          "metadata": {},
          "execution_count": 49
        },
        {
          "output_type": "display_data",
          "data": {
            "text/plain": [
              "<Figure size 640x480 with 1 Axes>"
            ],
            "image/png": "[encoded data removed]"
          },
          "metadata": {}
        }
      ]
    },
    {
      "cell_type": "code",
      "source": [
        "df.sulfate.hist()"
      ],
      "metadata": {
        "colab": {
          "base_uri": "https://localhost:8080/",
          "height": 447
        },
        "id": "_Yh7OB3BE5NK",
        "outputId": "9114316c-fffd-4a75-c092-492caa0b6083"
      },
      "execution_count": 50,
      "outputs": [
        {
          "output_type": "execute_result",
          "data": {
            "text/plain": [
              "<Axes: >"
            ]
          },
          "metadata": {},
          "execution_count": 50
        },
        {
          "output_type": "display_data",
          "data": {
            "text/plain": [
              "<Figure size 640x480 with 1 Axes>"
            ],
            "image/png": "[encoded data removed]"
          },
          "metadata": {}
        }
      ]
    },
    {
      "cell_type": "code",
      "source": [
        "df.conductivity.hist()"
      ],
      "metadata": {
        "colab": {
          "base_uri": "https://localhost:8080/",
          "height": 447
        },
        "id": "miFvtD-OFOfe",
        "outputId": "a2bf1935-f79a-4a77-b3fb-20f6630c4028"
      },
      "execution_count": 51,
      "outputs": [
        {
          "output_type": "execute_result",
          "data": {
            "text/plain": [
              "<Axes: >"
            ]
          },
          "metadata": {},
          "execution_count": 51
        },
        {
          "output_type": "display_data",
          "data": {
            "text/plain": [
              "<Figure size 640x480 with 1 Axes>"
            ],
            "image/png": "[encoded data removed]"
          },
          "metadata": {}
        }
      ]
    },
    {
      "cell_type": "code",
      "source": [
        "df.organic_carbon.hist()"
      ],
      "metadata": {
        "colab": {
          "base_uri": "https://localhost:8080/",
          "height": 447
        },
        "id": "qBnD5MTJFbef",
        "outputId": "5ae4fe33-3219-4f82-c531-459eea646cbf"
      },
      "execution_count": 52,
      "outputs": [
        {
          "output_type": "execute_result",
          "data": {
            "text/plain": [
              "<Axes: >"
            ]
          },
          "metadata": {},
          "execution_count": 52
        },
        {
          "output_type": "display_data",
          "data": {
            "text/plain": [
              "<Figure size 640x480 with 1 Axes>"
            ],
            "image/png": "[encoded data removed]"
          },
          "metadata": {}
        }
      ]
    },
    {
      "cell_type": "code",
      "source": [
        "df.trihalomethanes.hist()"
      ],
      "metadata": {
        "colab": {
          "base_uri": "https://localhost:8080/",
          "height": 447
        },
        "id": "QvZA1nFEGqWG",
        "outputId": "84c5f097-deb3-40e7-d8fc-1f44383ceaf7"
      },
      "execution_count": 53,
      "outputs": [
        {
          "output_type": "execute_result",
          "data": {
            "text/plain": [
              "<Axes: >"
            ]
          },
          "metadata": {},
          "execution_count": 53
        },
        {
          "output_type": "display_data",
          "data": {
            "text/plain": [
              "<Figure size 640x480 with 1 Axes>"
            ],
            "image/png": "[encoded data removed]"
          },
          "metadata": {}
        }
      ]
    },
    {
      "cell_type": "code",
      "source": [
        "df.turbidity.hist()"
      ],
      "metadata": {
        "colab": {
          "base_uri": "https://localhost:8080/",
          "height": 447
        },
        "id": "zgHMi-A5GvDq",
        "outputId": "703a11b7-e9c6-4a08-b078-5f9be601c2ab"
      },
      "execution_count": 54,
      "outputs": [
        {
          "output_type": "execute_result",
          "data": {
            "text/plain": [
              "<Axes: >"
            ]
          },
          "metadata": {},
          "execution_count": 54
        },
        {
          "output_type": "display_data",
          "data": {
            "text/plain": [
              "<Figure size 640x480 with 1 Axes>"
            ],
            "image/png": "[encoded data removed]"
          },
          "metadata": {}
        }
      ]
    },
    {
      "cell_type": "code",
      "source": [
        "# split dataset into test and train\n",
        "\n",
        "#test data will be 15% of the total\n",
        "#since data was split by potability before, it need to be suffled\n",
        "# stratify parameter is used to keep proporcion of potability into datasets\n",
        "\n",
        "df_train, df_test = train_test_split(df,test_size=0.15, shuffle=True, random_state=7, stratify=df.potability)"
      ],
      "metadata": {
        "id": "qledACCiJzUg"
      },
      "execution_count": 55,
      "outputs": []
    },
    {
      "cell_type": "markdown",
      "source": [
        "Feature Importance Analysis"
      ],
      "metadata": {
        "id": "FGdoBUJGQOAc"
      }
    },
    {
      "cell_type": "code",
      "source": [
        "x_train = df_train.drop(['potability'], axis = 1)\n",
        "y_train = df_train.potability\n",
        "\n",
        "x_test = df_test.drop(['potability'], axis = 1)\n",
        "y_test = df_test.potability"
      ],
      "metadata": {
        "id": "BskLyM01QVUJ"
      },
      "execution_count": 19,
      "outputs": []
    },
    {
      "cell_type": "code",
      "source": [
        "# Check correlation\n",
        "x_train.corrwith(y_train)\n",
        "\n",
        "# no feature is specifically determining of potability"
      ],
      "metadata": {
        "colab": {
          "base_uri": "https://localhost:8080/"
        },
        "id": "mKe3vGHeR2Gn",
        "outputId": "e7452b23-de98-42a7-eb00-65c0ced7a68e"
      },
      "execution_count": 20,
      "outputs": [
        {
          "output_type": "execute_result",
          "data": {
            "text/plain": [
              "ph                -0.003237\n",
              "hardness          -0.008622\n",
              "solids             0.035368\n",
              "chloramines        0.021102\n",
              "sulfate           -0.021631\n",
              "conductivity      -0.010341\n",
              "organic_carbon    -0.027405\n",
              "trihalomethanes   -0.010182\n",
              "turbidity          0.001408\n",
              "dtype: float64"
            ]
          },
          "metadata": {},
          "execution_count": 20
        }
      ]
    },
    {
      "cell_type": "code",
      "source": [
        "# check correlation between features -> no correlation\n",
        "for col in x_train.columns:\n",
        "  print(col)\n",
        "  print('')\n",
        "  print(x_train.corrwith(x_train[col]))\n",
        "  print('')"
      ],
      "metadata": {
        "colab": {
          "base_uri": "https://localhost:8080/"
        },
        "id": "pM10QzF8UFqb",
        "outputId": "8cb3c98a-be78-43f3-f77f-c66e88f1630b"
      },
      "execution_count": 21,
      "outputs": [
        {
          "output_type": "stream",
          "name": "stdout",
          "text": [
            "ph\n",
            "\n",
            "ph                 1.000000\n",
            "hardness           0.076744\n",
            "solids            -0.085212\n",
            "chloramines       -0.035678\n",
            "sulfate            0.022458\n",
            "conductivity       0.026754\n",
            "organic_carbon     0.047678\n",
            "trihalomethanes    0.003328\n",
            "turbidity         -0.023062\n",
            "dtype: float64\n",
            "\n",
            "hardness\n",
            "\n",
            "ph                 0.076744\n",
            "hardness           1.000000\n",
            "solids            -0.031213\n",
            "chloramines       -0.033432\n",
            "sulfate           -0.096646\n",
            "conductivity      -0.026177\n",
            "organic_carbon     0.014615\n",
            "trihalomethanes   -0.000902\n",
            "turbidity         -0.010810\n",
            "dtype: float64\n",
            "\n",
            "solids\n",
            "\n",
            "ph                -0.085212\n",
            "hardness          -0.031213\n",
            "solids             1.000000\n",
            "chloramines       -0.054436\n",
            "sulfate           -0.146611\n",
            "conductivity       0.019751\n",
            "organic_carbon     0.005497\n",
            "trihalomethanes   -0.004385\n",
            "turbidity          0.030454\n",
            "dtype: float64\n",
            "\n",
            "chloramines\n",
            "\n",
            "ph                -0.035678\n",
            "hardness          -0.033432\n",
            "solids            -0.054436\n",
            "chloramines        1.000000\n",
            "sulfate            0.024950\n",
            "conductivity      -0.020798\n",
            "organic_carbon    -0.011348\n",
            "trihalomethanes    0.011099\n",
            "turbidity         -0.001330\n",
            "dtype: float64\n",
            "\n",
            "sulfate\n",
            "\n",
            "ph                 0.022458\n",
            "hardness          -0.096646\n",
            "solids            -0.146611\n",
            "chloramines        0.024950\n",
            "sulfate            1.000000\n",
            "conductivity      -0.020342\n",
            "organic_carbon     0.037385\n",
            "trihalomethanes   -0.023300\n",
            "turbidity         -0.013180\n",
            "dtype: float64\n",
            "\n",
            "conductivity\n",
            "\n",
            "ph                 0.026754\n",
            "hardness          -0.026177\n",
            "solids             0.019751\n",
            "chloramines       -0.020798\n",
            "sulfate           -0.020342\n",
            "conductivity       1.000000\n",
            "organic_carbon     0.011390\n",
            "trihalomethanes   -0.000050\n",
            "turbidity          0.007831\n",
            "dtype: float64\n",
            "\n",
            "organic_carbon\n",
            "\n",
            "ph                 0.047678\n",
            "hardness           0.014615\n",
            "solids             0.005497\n",
            "chloramines       -0.011348\n",
            "sulfate            0.037385\n",
            "conductivity       0.011390\n",
            "organic_carbon     1.000000\n",
            "trihalomethanes   -0.009009\n",
            "turbidity         -0.021210\n",
            "dtype: float64\n",
            "\n",
            "trihalomethanes\n",
            "\n",
            "ph                 0.003328\n",
            "hardness          -0.000902\n",
            "solids            -0.004385\n",
            "chloramines        0.011099\n",
            "sulfate           -0.023300\n",
            "conductivity      -0.000050\n",
            "organic_carbon    -0.009009\n",
            "trihalomethanes    1.000000\n",
            "turbidity         -0.019060\n",
            "dtype: float64\n",
            "\n",
            "turbidity\n",
            "\n",
            "ph                -0.023062\n",
            "hardness          -0.010810\n",
            "solids             0.030454\n",
            "chloramines       -0.001330\n",
            "sulfate           -0.013180\n",
            "conductivity       0.007831\n",
            "organic_carbon    -0.021210\n",
            "trihalomethanes   -0.019060\n",
            "turbidity          1.000000\n",
            "dtype: float64\n",
            "\n"
          ]
        }
      ]
    },
    {
      "cell_type": "markdown",
      "source": [
        "Model selection\n",
        "\n",
        "---\n",
        "We will use 4 different models for this classification problem:\n",
        "\n",
        "\n",
        "*   Logistic Regression\n",
        "*   RandomForestClassifier\n",
        "*   XGBoost\n",
        "*    MLPClassifier\n",
        "\n",
        "\n",
        "\n",
        "\n",
        "\n",
        "\n"
      ],
      "metadata": {
        "id": "7GSX9bWdVI9_"
      }
    },
    {
      "cell_type": "code",
      "source": [
        "from sklearn.linear_model import LogisticRegression\n",
        "from sklearn.metrics import roc_auc_score"
      ],
      "metadata": {
        "id": "xhJRXyViX-kg"
      },
      "execution_count": 22,
      "outputs": []
    },
    {
      "cell_type": "code",
      "source": [
        "solvers = ['lbfgs', 'liblinear', 'newton-cg', 'newton-cholesky', 'sag', 'saga']\n",
        "Cs = np.linspace(0.1,1,11)\n",
        "iters = [50, 70, 100, 200]\n",
        "\n",
        "best = [0,0,0,0]\n",
        "\n",
        "for solv in solvers:\n",
        "  for C in Cs:\n",
        "    for iter in iters:\n",
        "      model = LogisticRegression(solver=solv, C=C, max_iter=iter, random_state=7)\n",
        "      model.fit(x_train, y_train)\n",
        "      y_pred = model.predict_proba(x_test)[:, 1]\n",
        "\n",
        "      auc = roc_auc_score(y_test, y_pred)\n",
        "      print(f'solver = {solv} C = {C} iterations = {iter} auc = {auc}')\n",
        "\n",
        "      if auc > best[3]:\n",
        "        best = [solv, C, iter, auc]\n",
        "\n",
        "print('Best model is: ', best)"
      ],
      "metadata": {
        "colab": {
          "base_uri": "https://localhost:8080/"
        },
        "id": "HvNhSpT8VNBJ",
        "outputId": "86d812f1-42e2-4914-941d-aba3b71e6eb6"
      },
      "execution_count": 30,
      "outputs": [
        {
          "output_type": "stream",
          "name": "stdout",
          "text": [
            "solver = lbfgs C = 0.1 iterations = 50 auc = 0.4903819444444445\n",
            "solver = lbfgs C = 0.1 iterations = 70 auc = 0.4903819444444445\n",
            "solver = lbfgs C = 0.1 iterations = 100 auc = 0.4903819444444445\n",
            "solver = lbfgs C = 0.1 iterations = 200 auc = 0.4903819444444445\n",
            "solver = lbfgs C = 0.19 iterations = 50 auc = 0.4903819444444445\n",
            "solver = lbfgs C = 0.19 iterations = 70 auc = 0.4903819444444445\n",
            "solver = lbfgs C = 0.19 iterations = 100 auc = 0.4903819444444445\n",
            "solver = lbfgs C = 0.19 iterations = 200 auc = 0.4903819444444445\n",
            "solver = lbfgs C = 0.28 iterations = 50 auc = 0.4903819444444445\n",
            "solver = lbfgs C = 0.28 iterations = 70 auc = 0.4903819444444445\n",
            "solver = lbfgs C = 0.28 iterations = 100 auc = 0.4903819444444445\n",
            "solver = lbfgs C = 0.28 iterations = 200 auc = 0.4903819444444445\n",
            "solver = lbfgs C = 0.37 iterations = 50 auc = 0.4903819444444445\n",
            "solver = lbfgs C = 0.37 iterations = 70 auc = 0.4903819444444445\n",
            "solver = lbfgs C = 0.37 iterations = 100 auc = 0.4903819444444445\n",
            "solver = lbfgs C = 0.37 iterations = 200 auc = 0.4903819444444445\n",
            "solver = lbfgs C = 0.45999999999999996 iterations = 50 auc = 0.4903819444444445\n",
            "solver = lbfgs C = 0.45999999999999996 iterations = 70 auc = 0.4903819444444445\n",
            "solver = lbfgs C = 0.45999999999999996 iterations = 100 auc = 0.4903819444444445\n",
            "solver = lbfgs C = 0.45999999999999996 iterations = 200 auc = 0.4903819444444445\n",
            "solver = lbfgs C = 0.5499999999999999 iterations = 50 auc = 0.4903819444444445\n",
            "solver = lbfgs C = 0.5499999999999999 iterations = 70 auc = 0.4903819444444445\n",
            "solver = lbfgs C = 0.5499999999999999 iterations = 100 auc = 0.4903819444444445\n",
            "solver = lbfgs C = 0.5499999999999999 iterations = 200 auc = 0.4903819444444445\n",
            "solver = lbfgs C = 0.64 iterations = 50 auc = 0.4903819444444445\n",
            "solver = lbfgs C = 0.64 iterations = 70 auc = 0.4903819444444445\n",
            "solver = lbfgs C = 0.64 iterations = 100 auc = 0.4903819444444445\n",
            "solver = lbfgs C = 0.64 iterations = 200 auc = 0.4903819444444445\n",
            "solver = lbfgs C = 0.73 iterations = 50 auc = 0.4903819444444445\n",
            "solver = lbfgs C = 0.73 iterations = 70 auc = 0.4903819444444445\n",
            "solver = lbfgs C = 0.73 iterations = 100 auc = 0.4903819444444445\n",
            "solver = lbfgs C = 0.73 iterations = 200 auc = 0.4903819444444445\n",
            "solver = lbfgs C = 0.82 iterations = 50 auc = 0.4903819444444445\n",
            "solver = lbfgs C = 0.82 iterations = 70 auc = 0.4903819444444445\n",
            "solver = lbfgs C = 0.82 iterations = 100 auc = 0.4903819444444445\n",
            "solver = lbfgs C = 0.82 iterations = 200 auc = 0.4903819444444445\n",
            "solver = lbfgs C = 0.9099999999999999 iterations = 50 auc = 0.4903819444444445\n",
            "solver = lbfgs C = 0.9099999999999999 iterations = 70 auc = 0.4903819444444445\n",
            "solver = lbfgs C = 0.9099999999999999 iterations = 100 auc = 0.4903819444444445\n",
            "solver = lbfgs C = 0.9099999999999999 iterations = 200 auc = 0.4903819444444445\n",
            "solver = lbfgs C = 1.0 iterations = 50 auc = 0.4903819444444445\n",
            "solver = lbfgs C = 1.0 iterations = 70 auc = 0.4903819444444445\n",
            "solver = lbfgs C = 1.0 iterations = 100 auc = 0.4903819444444445\n",
            "solver = lbfgs C = 1.0 iterations = 200 auc = 0.4903819444444445\n",
            "solver = liblinear C = 0.1 iterations = 50 auc = 0.49906249999999996\n",
            "solver = liblinear C = 0.1 iterations = 70 auc = 0.49906249999999996\n",
            "solver = liblinear C = 0.1 iterations = 100 auc = 0.49906249999999996\n",
            "solver = liblinear C = 0.1 iterations = 200 auc = 0.49906249999999996\n",
            "solver = liblinear C = 0.19 iterations = 50 auc = 0.49906249999999996\n",
            "solver = liblinear C = 0.19 iterations = 70 auc = 0.49906249999999996\n",
            "solver = liblinear C = 0.19 iterations = 100 auc = 0.49906249999999996\n",
            "solver = liblinear C = 0.19 iterations = 200 auc = 0.49906249999999996\n",
            "solver = liblinear C = 0.28 iterations = 50 auc = 0.49906249999999996\n",
            "solver = liblinear C = 0.28 iterations = 70 auc = 0.49906249999999996\n",
            "solver = liblinear C = 0.28 iterations = 100 auc = 0.49906249999999996\n",
            "solver = liblinear C = 0.28 iterations = 200 auc = 0.49906249999999996\n",
            "solver = liblinear C = 0.37 iterations = 50 auc = 0.49906249999999996\n",
            "solver = liblinear C = 0.37 iterations = 70 auc = 0.49906249999999996\n",
            "solver = liblinear C = 0.37 iterations = 100 auc = 0.49906249999999996\n",
            "solver = liblinear C = 0.37 iterations = 200 auc = 0.49906249999999996\n",
            "solver = liblinear C = 0.45999999999999996 iterations = 50 auc = 0.49906249999999996\n",
            "solver = liblinear C = 0.45999999999999996 iterations = 70 auc = 0.49906249999999996\n",
            "solver = liblinear C = 0.45999999999999996 iterations = 100 auc = 0.49906249999999996\n",
            "solver = liblinear C = 0.45999999999999996 iterations = 200 auc = 0.49906249999999996\n",
            "solver = liblinear C = 0.5499999999999999 iterations = 50 auc = 0.49906249999999996\n",
            "solver = liblinear C = 0.5499999999999999 iterations = 70 auc = 0.49906249999999996\n",
            "solver = liblinear C = 0.5499999999999999 iterations = 100 auc = 0.49906249999999996\n",
            "solver = liblinear C = 0.5499999999999999 iterations = 200 auc = 0.49906249999999996\n",
            "solver = liblinear C = 0.64 iterations = 50 auc = 0.49906249999999996\n",
            "solver = liblinear C = 0.64 iterations = 70 auc = 0.49906249999999996\n",
            "solver = liblinear C = 0.64 iterations = 100 auc = 0.49906249999999996\n",
            "solver = liblinear C = 0.64 iterations = 200 auc = 0.49906249999999996\n",
            "solver = liblinear C = 0.73 iterations = 50 auc = 0.49906249999999996\n",
            "solver = liblinear C = 0.73 iterations = 70 auc = 0.49906249999999996\n",
            "solver = liblinear C = 0.73 iterations = 100 auc = 0.49906249999999996\n",
            "solver = liblinear C = 0.73 iterations = 200 auc = 0.49906249999999996\n",
            "solver = liblinear C = 0.82 iterations = 50 auc = 0.49906249999999996\n",
            "solver = liblinear C = 0.82 iterations = 70 auc = 0.49906249999999996\n",
            "solver = liblinear C = 0.82 iterations = 100 auc = 0.49906249999999996\n",
            "solver = liblinear C = 0.82 iterations = 200 auc = 0.49906249999999996\n",
            "solver = liblinear C = 0.9099999999999999 iterations = 50 auc = 0.49906249999999996\n",
            "solver = liblinear C = 0.9099999999999999 iterations = 70 auc = 0.49906249999999996\n",
            "solver = liblinear C = 0.9099999999999999 iterations = 100 auc = 0.49906249999999996\n",
            "solver = liblinear C = 0.9099999999999999 iterations = 200 auc = 0.49906249999999996\n",
            "solver = liblinear C = 1.0 iterations = 50 auc = 0.49906249999999996\n",
            "solver = liblinear C = 1.0 iterations = 70 auc = 0.49906249999999996\n",
            "solver = liblinear C = 1.0 iterations = 100 auc = 0.49906249999999996\n",
            "solver = liblinear C = 1.0 iterations = 200 auc = 0.49906249999999996\n"
          ]
        },
        {
          "output_type": "stream",
          "name": "stderr",
          "text": [
            "/usr/local/lib/python3.10/dist-packages/scipy/optimize/_linesearch.py:466: LineSearchWarning: The line search algorithm did not converge\n",
            "  warn('The line search algorithm did not converge', LineSearchWarning)\n",
            "/usr/local/lib/python3.10/dist-packages/scipy/optimize/_linesearch.py:314: LineSearchWarning: The line search algorithm did not converge\n",
            "  warn('The line search algorithm did not converge', LineSearchWarning)\n",
            "/usr/local/lib/python3.10/dist-packages/scipy/optimize/_linesearch.py:425: LineSearchWarning: Rounding errors prevent the line search from converging\n",
            "  warn(msg, LineSearchWarning)\n",
            "/usr/local/lib/python3.10/dist-packages/sklearn/utils/optimize.py:203: UserWarning: Line Search failed\n",
            "  warnings.warn(\"Line Search failed\")\n",
            "/usr/local/lib/python3.10/dist-packages/scipy/optimize/_linesearch.py:466: LineSearchWarning: The line search algorithm did not converge\n",
            "  warn('The line search algorithm did not converge', LineSearchWarning)\n",
            "/usr/local/lib/python3.10/dist-packages/scipy/optimize/_linesearch.py:314: LineSearchWarning: The line search algorithm did not converge\n",
            "  warn('The line search algorithm did not converge', LineSearchWarning)\n",
            "/usr/local/lib/python3.10/dist-packages/scipy/optimize/_linesearch.py:425: LineSearchWarning: Rounding errors prevent the line search from converging\n",
            "  warn(msg, LineSearchWarning)\n",
            "/usr/local/lib/python3.10/dist-packages/sklearn/utils/optimize.py:203: UserWarning: Line Search failed\n",
            "  warnings.warn(\"Line Search failed\")\n"
          ]
        },
        {
          "output_type": "stream",
          "name": "stdout",
          "text": [
            "solver = newton-cg C = 0.1 iterations = 50 auc = 0.5158159722222222\n",
            "solver = newton-cg C = 0.1 iterations = 70 auc = 0.5158159722222222\n"
          ]
        },
        {
          "output_type": "stream",
          "name": "stderr",
          "text": [
            "/usr/local/lib/python3.10/dist-packages/scipy/optimize/_linesearch.py:466: LineSearchWarning: The line search algorithm did not converge\n",
            "  warn('The line search algorithm did not converge', LineSearchWarning)\n",
            "/usr/local/lib/python3.10/dist-packages/scipy/optimize/_linesearch.py:314: LineSearchWarning: The line search algorithm did not converge\n",
            "  warn('The line search algorithm did not converge', LineSearchWarning)\n",
            "/usr/local/lib/python3.10/dist-packages/scipy/optimize/_linesearch.py:425: LineSearchWarning: Rounding errors prevent the line search from converging\n",
            "  warn(msg, LineSearchWarning)\n",
            "/usr/local/lib/python3.10/dist-packages/sklearn/utils/optimize.py:203: UserWarning: Line Search failed\n",
            "  warnings.warn(\"Line Search failed\")\n",
            "/usr/local/lib/python3.10/dist-packages/scipy/optimize/_linesearch.py:466: LineSearchWarning: The line search algorithm did not converge\n",
            "  warn('The line search algorithm did not converge', LineSearchWarning)\n",
            "/usr/local/lib/python3.10/dist-packages/scipy/optimize/_linesearch.py:314: LineSearchWarning: The line search algorithm did not converge\n",
            "  warn('The line search algorithm did not converge', LineSearchWarning)\n",
            "/usr/local/lib/python3.10/dist-packages/scipy/optimize/_linesearch.py:425: LineSearchWarning: Rounding errors prevent the line search from converging\n",
            "  warn(msg, LineSearchWarning)\n",
            "/usr/local/lib/python3.10/dist-packages/sklearn/utils/optimize.py:203: UserWarning: Line Search failed\n",
            "  warnings.warn(\"Line Search failed\")\n"
          ]
        },
        {
          "output_type": "stream",
          "name": "stdout",
          "text": [
            "solver = newton-cg C = 0.1 iterations = 100 auc = 0.5158159722222222\n",
            "solver = newton-cg C = 0.1 iterations = 200 auc = 0.5158159722222222\n"
          ]
        },
        {
          "output_type": "stream",
          "name": "stderr",
          "text": [
            "/usr/local/lib/python3.10/dist-packages/scipy/optimize/_linesearch.py:466: LineSearchWarning: The line search algorithm did not converge\n",
            "  warn('The line search algorithm did not converge', LineSearchWarning)\n",
            "/usr/local/lib/python3.10/dist-packages/scipy/optimize/_linesearch.py:314: LineSearchWarning: The line search algorithm did not converge\n",
            "  warn('The line search algorithm did not converge', LineSearchWarning)\n",
            "/usr/local/lib/python3.10/dist-packages/scipy/optimize/_linesearch.py:425: LineSearchWarning: Rounding errors prevent the line search from converging\n",
            "  warn(msg, LineSearchWarning)\n",
            "/usr/local/lib/python3.10/dist-packages/sklearn/utils/optimize.py:203: UserWarning: Line Search failed\n",
            "  warnings.warn(\"Line Search failed\")\n",
            "/usr/local/lib/python3.10/dist-packages/scipy/optimize/_linesearch.py:466: LineSearchWarning: The line search algorithm did not converge\n",
            "  warn('The line search algorithm did not converge', LineSearchWarning)\n",
            "/usr/local/lib/python3.10/dist-packages/scipy/optimize/_linesearch.py:314: LineSearchWarning: The line search algorithm did not converge\n",
            "  warn('The line search algorithm did not converge', LineSearchWarning)\n",
            "/usr/local/lib/python3.10/dist-packages/scipy/optimize/_linesearch.py:425: LineSearchWarning: Rounding errors prevent the line search from converging\n",
            "  warn(msg, LineSearchWarning)\n",
            "/usr/local/lib/python3.10/dist-packages/sklearn/utils/optimize.py:203: UserWarning: Line Search failed\n",
            "  warnings.warn(\"Line Search failed\")\n"
          ]
        },
        {
          "output_type": "stream",
          "name": "stdout",
          "text": [
            "solver = newton-cg C = 0.19 iterations = 50 auc = 0.5159548611111111\n",
            "solver = newton-cg C = 0.19 iterations = 70 auc = 0.5159548611111111\n"
          ]
        },
        {
          "output_type": "stream",
          "name": "stderr",
          "text": [
            "/usr/local/lib/python3.10/dist-packages/scipy/optimize/_linesearch.py:466: LineSearchWarning: The line search algorithm did not converge\n",
            "  warn('The line search algorithm did not converge', LineSearchWarning)\n",
            "/usr/local/lib/python3.10/dist-packages/scipy/optimize/_linesearch.py:314: LineSearchWarning: The line search algorithm did not converge\n",
            "  warn('The line search algorithm did not converge', LineSearchWarning)\n",
            "/usr/local/lib/python3.10/dist-packages/scipy/optimize/_linesearch.py:425: LineSearchWarning: Rounding errors prevent the line search from converging\n",
            "  warn(msg, LineSearchWarning)\n",
            "/usr/local/lib/python3.10/dist-packages/sklearn/utils/optimize.py:203: UserWarning: Line Search failed\n",
            "  warnings.warn(\"Line Search failed\")\n",
            "/usr/local/lib/python3.10/dist-packages/scipy/optimize/_linesearch.py:466: LineSearchWarning: The line search algorithm did not converge\n",
            "  warn('The line search algorithm did not converge', LineSearchWarning)\n",
            "/usr/local/lib/python3.10/dist-packages/scipy/optimize/_linesearch.py:314: LineSearchWarning: The line search algorithm did not converge\n",
            "  warn('The line search algorithm did not converge', LineSearchWarning)\n",
            "/usr/local/lib/python3.10/dist-packages/scipy/optimize/_linesearch.py:425: LineSearchWarning: Rounding errors prevent the line search from converging\n",
            "  warn(msg, LineSearchWarning)\n",
            "/usr/local/lib/python3.10/dist-packages/sklearn/utils/optimize.py:203: UserWarning: Line Search failed\n",
            "  warnings.warn(\"Line Search failed\")\n"
          ]
        },
        {
          "output_type": "stream",
          "name": "stdout",
          "text": [
            "solver = newton-cg C = 0.19 iterations = 100 auc = 0.5159548611111111\n",
            "solver = newton-cg C = 0.19 iterations = 200 auc = 0.5159548611111111\n"
          ]
        },
        {
          "output_type": "stream",
          "name": "stderr",
          "text": [
            "/usr/local/lib/python3.10/dist-packages/scipy/optimize/_linesearch.py:466: LineSearchWarning: The line search algorithm did not converge\n",
            "  warn('The line search algorithm did not converge', LineSearchWarning)\n",
            "/usr/local/lib/python3.10/dist-packages/scipy/optimize/_linesearch.py:314: LineSearchWarning: The line search algorithm did not converge\n",
            "  warn('The line search algorithm did not converge', LineSearchWarning)\n",
            "/usr/local/lib/python3.10/dist-packages/scipy/optimize/_linesearch.py:425: LineSearchWarning: Rounding errors prevent the line search from converging\n",
            "  warn(msg, LineSearchWarning)\n",
            "/usr/local/lib/python3.10/dist-packages/sklearn/utils/optimize.py:203: UserWarning: Line Search failed\n",
            "  warnings.warn(\"Line Search failed\")\n",
            "/usr/local/lib/python3.10/dist-packages/scipy/optimize/_linesearch.py:466: LineSearchWarning: The line search algorithm did not converge\n",
            "  warn('The line search algorithm did not converge', LineSearchWarning)\n",
            "/usr/local/lib/python3.10/dist-packages/scipy/optimize/_linesearch.py:314: LineSearchWarning: The line search algorithm did not converge\n",
            "  warn('The line search algorithm did not converge', LineSearchWarning)\n",
            "/usr/local/lib/python3.10/dist-packages/scipy/optimize/_linesearch.py:425: LineSearchWarning: Rounding errors prevent the line search from converging\n",
            "  warn(msg, LineSearchWarning)\n",
            "/usr/local/lib/python3.10/dist-packages/sklearn/utils/optimize.py:203: UserWarning: Line Search failed\n",
            "  warnings.warn(\"Line Search failed\")\n"
          ]
        },
        {
          "output_type": "stream",
          "name": "stdout",
          "text": [
            "solver = newton-cg C = 0.28 iterations = 50 auc = 0.5158506944444444\n",
            "solver = newton-cg C = 0.28 iterations = 70 auc = 0.5158506944444444\n"
          ]
        },
        {
          "output_type": "stream",
          "name": "stderr",
          "text": [
            "/usr/local/lib/python3.10/dist-packages/scipy/optimize/_linesearch.py:466: LineSearchWarning: The line search algorithm did not converge\n",
            "  warn('The line search algorithm did not converge', LineSearchWarning)\n",
            "/usr/local/lib/python3.10/dist-packages/scipy/optimize/_linesearch.py:314: LineSearchWarning: The line search algorithm did not converge\n",
            "  warn('The line search algorithm did not converge', LineSearchWarning)\n",
            "/usr/local/lib/python3.10/dist-packages/scipy/optimize/_linesearch.py:425: LineSearchWarning: Rounding errors prevent the line search from converging\n",
            "  warn(msg, LineSearchWarning)\n",
            "/usr/local/lib/python3.10/dist-packages/sklearn/utils/optimize.py:203: UserWarning: Line Search failed\n",
            "  warnings.warn(\"Line Search failed\")\n",
            "/usr/local/lib/python3.10/dist-packages/scipy/optimize/_linesearch.py:466: LineSearchWarning: The line search algorithm did not converge\n",
            "  warn('The line search algorithm did not converge', LineSearchWarning)\n",
            "/usr/local/lib/python3.10/dist-packages/scipy/optimize/_linesearch.py:314: LineSearchWarning: The line search algorithm did not converge\n",
            "  warn('The line search algorithm did not converge', LineSearchWarning)\n",
            "/usr/local/lib/python3.10/dist-packages/scipy/optimize/_linesearch.py:425: LineSearchWarning: Rounding errors prevent the line search from converging\n",
            "  warn(msg, LineSearchWarning)\n",
            "/usr/local/lib/python3.10/dist-packages/sklearn/utils/optimize.py:203: UserWarning: Line Search failed\n",
            "  warnings.warn(\"Line Search failed\")\n"
          ]
        },
        {
          "output_type": "stream",
          "name": "stdout",
          "text": [
            "solver = newton-cg C = 0.28 iterations = 100 auc = 0.5158506944444444\n",
            "solver = newton-cg C = 0.28 iterations = 200 auc = 0.5158506944444444\n"
          ]
        },
        {
          "output_type": "stream",
          "name": "stderr",
          "text": [
            "/usr/local/lib/python3.10/dist-packages/scipy/optimize/_linesearch.py:466: LineSearchWarning: The line search algorithm did not converge\n",
            "  warn('The line search algorithm did not converge', LineSearchWarning)\n",
            "/usr/local/lib/python3.10/dist-packages/scipy/optimize/_linesearch.py:314: LineSearchWarning: The line search algorithm did not converge\n",
            "  warn('The line search algorithm did not converge', LineSearchWarning)\n",
            "/usr/local/lib/python3.10/dist-packages/scipy/optimize/_linesearch.py:425: LineSearchWarning: Rounding errors prevent the line search from converging\n",
            "  warn(msg, LineSearchWarning)\n",
            "/usr/local/lib/python3.10/dist-packages/sklearn/utils/optimize.py:203: UserWarning: Line Search failed\n",
            "  warnings.warn(\"Line Search failed\")\n"
          ]
        },
        {
          "output_type": "stream",
          "name": "stdout",
          "text": [
            "solver = newton-cg C = 0.37 iterations = 50 auc = 0.5158159722222222\n"
          ]
        },
        {
          "output_type": "stream",
          "name": "stderr",
          "text": [
            "/usr/local/lib/python3.10/dist-packages/scipy/optimize/_linesearch.py:466: LineSearchWarning: The line search algorithm did not converge\n",
            "  warn('The line search algorithm did not converge', LineSearchWarning)\n",
            "/usr/local/lib/python3.10/dist-packages/scipy/optimize/_linesearch.py:314: LineSearchWarning: The line search algorithm did not converge\n",
            "  warn('The line search algorithm did not converge', LineSearchWarning)\n",
            "/usr/local/lib/python3.10/dist-packages/scipy/optimize/_linesearch.py:425: LineSearchWarning: Rounding errors prevent the line search from converging\n",
            "  warn(msg, LineSearchWarning)\n",
            "/usr/local/lib/python3.10/dist-packages/sklearn/utils/optimize.py:203: UserWarning: Line Search failed\n",
            "  warnings.warn(\"Line Search failed\")\n"
          ]
        },
        {
          "output_type": "stream",
          "name": "stdout",
          "text": [
            "solver = newton-cg C = 0.37 iterations = 70 auc = 0.5158159722222222\n"
          ]
        },
        {
          "output_type": "stream",
          "name": "stderr",
          "text": [
            "/usr/local/lib/python3.10/dist-packages/scipy/optimize/_linesearch.py:466: LineSearchWarning: The line search algorithm did not converge\n",
            "  warn('The line search algorithm did not converge', LineSearchWarning)\n",
            "/usr/local/lib/python3.10/dist-packages/scipy/optimize/_linesearch.py:314: LineSearchWarning: The line search algorithm did not converge\n",
            "  warn('The line search algorithm did not converge', LineSearchWarning)\n",
            "/usr/local/lib/python3.10/dist-packages/scipy/optimize/_linesearch.py:425: LineSearchWarning: Rounding errors prevent the line search from converging\n",
            "  warn(msg, LineSearchWarning)\n",
            "/usr/local/lib/python3.10/dist-packages/sklearn/utils/optimize.py:203: UserWarning: Line Search failed\n",
            "  warnings.warn(\"Line Search failed\")\n"
          ]
        },
        {
          "output_type": "stream",
          "name": "stdout",
          "text": [
            "solver = newton-cg C = 0.37 iterations = 100 auc = 0.5158159722222222\n"
          ]
        },
        {
          "output_type": "stream",
          "name": "stderr",
          "text": [
            "/usr/local/lib/python3.10/dist-packages/scipy/optimize/_linesearch.py:466: LineSearchWarning: The line search algorithm did not converge\n",
            "  warn('The line search algorithm did not converge', LineSearchWarning)\n",
            "/usr/local/lib/python3.10/dist-packages/scipy/optimize/_linesearch.py:314: LineSearchWarning: The line search algorithm did not converge\n",
            "  warn('The line search algorithm did not converge', LineSearchWarning)\n",
            "/usr/local/lib/python3.10/dist-packages/scipy/optimize/_linesearch.py:425: LineSearchWarning: Rounding errors prevent the line search from converging\n",
            "  warn(msg, LineSearchWarning)\n",
            "/usr/local/lib/python3.10/dist-packages/sklearn/utils/optimize.py:203: UserWarning: Line Search failed\n",
            "  warnings.warn(\"Line Search failed\")\n"
          ]
        },
        {
          "output_type": "stream",
          "name": "stdout",
          "text": [
            "solver = newton-cg C = 0.37 iterations = 200 auc = 0.5158159722222222\n"
          ]
        },
        {
          "output_type": "stream",
          "name": "stderr",
          "text": [
            "/usr/local/lib/python3.10/dist-packages/scipy/optimize/_linesearch.py:466: LineSearchWarning: The line search algorithm did not converge\n",
            "  warn('The line search algorithm did not converge', LineSearchWarning)\n",
            "/usr/local/lib/python3.10/dist-packages/scipy/optimize/_linesearch.py:314: LineSearchWarning: The line search algorithm did not converge\n",
            "  warn('The line search algorithm did not converge', LineSearchWarning)\n",
            "/usr/local/lib/python3.10/dist-packages/scipy/optimize/_linesearch.py:425: LineSearchWarning: Rounding errors prevent the line search from converging\n",
            "  warn(msg, LineSearchWarning)\n",
            "/usr/local/lib/python3.10/dist-packages/sklearn/utils/optimize.py:203: UserWarning: Line Search failed\n",
            "  warnings.warn(\"Line Search failed\")\n"
          ]
        },
        {
          "output_type": "stream",
          "name": "stdout",
          "text": [
            "solver = newton-cg C = 0.45999999999999996 iterations = 50 auc = 0.5158680555555555\n"
          ]
        },
        {
          "output_type": "stream",
          "name": "stderr",
          "text": [
            "/usr/local/lib/python3.10/dist-packages/scipy/optimize/_linesearch.py:466: LineSearchWarning: The line search algorithm did not converge\n",
            "  warn('The line search algorithm did not converge', LineSearchWarning)\n",
            "/usr/local/lib/python3.10/dist-packages/scipy/optimize/_linesearch.py:314: LineSearchWarning: The line search algorithm did not converge\n",
            "  warn('The line search algorithm did not converge', LineSearchWarning)\n",
            "/usr/local/lib/python3.10/dist-packages/scipy/optimize/_linesearch.py:425: LineSearchWarning: Rounding errors prevent the line search from converging\n",
            "  warn(msg, LineSearchWarning)\n",
            "/usr/local/lib/python3.10/dist-packages/sklearn/utils/optimize.py:203: UserWarning: Line Search failed\n",
            "  warnings.warn(\"Line Search failed\")\n"
          ]
        },
        {
          "output_type": "stream",
          "name": "stdout",
          "text": [
            "solver = newton-cg C = 0.45999999999999996 iterations = 70 auc = 0.5158680555555555\n"
          ]
        },
        {
          "output_type": "stream",
          "name": "stderr",
          "text": [
            "/usr/local/lib/python3.10/dist-packages/scipy/optimize/_linesearch.py:466: LineSearchWarning: The line search algorithm did not converge\n",
            "  warn('The line search algorithm did not converge', LineSearchWarning)\n",
            "/usr/local/lib/python3.10/dist-packages/scipy/optimize/_linesearch.py:314: LineSearchWarning: The line search algorithm did not converge\n",
            "  warn('The line search algorithm did not converge', LineSearchWarning)\n",
            "/usr/local/lib/python3.10/dist-packages/scipy/optimize/_linesearch.py:425: LineSearchWarning: Rounding errors prevent the line search from converging\n",
            "  warn(msg, LineSearchWarning)\n",
            "/usr/local/lib/python3.10/dist-packages/sklearn/utils/optimize.py:203: UserWarning: Line Search failed\n",
            "  warnings.warn(\"Line Search failed\")\n"
          ]
        },
        {
          "output_type": "stream",
          "name": "stdout",
          "text": [
            "solver = newton-cg C = 0.45999999999999996 iterations = 100 auc = 0.5158680555555555\n"
          ]
        },
        {
          "output_type": "stream",
          "name": "stderr",
          "text": [
            "/usr/local/lib/python3.10/dist-packages/scipy/optimize/_linesearch.py:466: LineSearchWarning: The line search algorithm did not converge\n",
            "  warn('The line search algorithm did not converge', LineSearchWarning)\n",
            "/usr/local/lib/python3.10/dist-packages/scipy/optimize/_linesearch.py:314: LineSearchWarning: The line search algorithm did not converge\n",
            "  warn('The line search algorithm did not converge', LineSearchWarning)\n",
            "/usr/local/lib/python3.10/dist-packages/scipy/optimize/_linesearch.py:425: LineSearchWarning: Rounding errors prevent the line search from converging\n",
            "  warn(msg, LineSearchWarning)\n",
            "/usr/local/lib/python3.10/dist-packages/sklearn/utils/optimize.py:203: UserWarning: Line Search failed\n",
            "  warnings.warn(\"Line Search failed\")\n"
          ]
        },
        {
          "output_type": "stream",
          "name": "stdout",
          "text": [
            "solver = newton-cg C = 0.45999999999999996 iterations = 200 auc = 0.5158680555555555\n",
            "solver = newton-cg C = 0.5499999999999999 iterations = 50 auc = 0.5159027777777777\n"
          ]
        },
        {
          "output_type": "stream",
          "name": "stderr",
          "text": [
            "/usr/local/lib/python3.10/dist-packages/scipy/optimize/_linesearch.py:425: LineSearchWarning: Rounding errors prevent the line search from converging\n",
            "  warn(msg, LineSearchWarning)\n",
            "/usr/local/lib/python3.10/dist-packages/scipy/optimize/_linesearch.py:314: LineSearchWarning: The line search algorithm did not converge\n",
            "  warn('The line search algorithm did not converge', LineSearchWarning)\n",
            "/usr/local/lib/python3.10/dist-packages/sklearn/utils/optimize.py:203: UserWarning: Line Search failed\n",
            "  warnings.warn(\"Line Search failed\")\n",
            "/usr/local/lib/python3.10/dist-packages/scipy/optimize/_linesearch.py:425: LineSearchWarning: Rounding errors prevent the line search from converging\n",
            "  warn(msg, LineSearchWarning)\n",
            "/usr/local/lib/python3.10/dist-packages/scipy/optimize/_linesearch.py:314: LineSearchWarning: The line search algorithm did not converge\n",
            "  warn('The line search algorithm did not converge', LineSearchWarning)\n",
            "/usr/local/lib/python3.10/dist-packages/sklearn/utils/optimize.py:203: UserWarning: Line Search failed\n",
            "  warnings.warn(\"Line Search failed\")\n"
          ]
        },
        {
          "output_type": "stream",
          "name": "stdout",
          "text": [
            "solver = newton-cg C = 0.5499999999999999 iterations = 70 auc = 0.5159027777777777\n",
            "solver = newton-cg C = 0.5499999999999999 iterations = 100 auc = 0.5159027777777777\n"
          ]
        },
        {
          "output_type": "stream",
          "name": "stderr",
          "text": [
            "/usr/local/lib/python3.10/dist-packages/scipy/optimize/_linesearch.py:425: LineSearchWarning: Rounding errors prevent the line search from converging\n",
            "  warn(msg, LineSearchWarning)\n",
            "/usr/local/lib/python3.10/dist-packages/scipy/optimize/_linesearch.py:314: LineSearchWarning: The line search algorithm did not converge\n",
            "  warn('The line search algorithm did not converge', LineSearchWarning)\n",
            "/usr/local/lib/python3.10/dist-packages/sklearn/utils/optimize.py:203: UserWarning: Line Search failed\n",
            "  warnings.warn(\"Line Search failed\")\n",
            "/usr/local/lib/python3.10/dist-packages/scipy/optimize/_linesearch.py:425: LineSearchWarning: Rounding errors prevent the line search from converging\n",
            "  warn(msg, LineSearchWarning)\n",
            "/usr/local/lib/python3.10/dist-packages/scipy/optimize/_linesearch.py:314: LineSearchWarning: The line search algorithm did not converge\n",
            "  warn('The line search algorithm did not converge', LineSearchWarning)\n",
            "/usr/local/lib/python3.10/dist-packages/sklearn/utils/optimize.py:203: UserWarning: Line Search failed\n",
            "  warnings.warn(\"Line Search failed\")\n"
          ]
        },
        {
          "output_type": "stream",
          "name": "stdout",
          "text": [
            "solver = newton-cg C = 0.5499999999999999 iterations = 200 auc = 0.5159027777777777\n"
          ]
        },
        {
          "output_type": "stream",
          "name": "stderr",
          "text": [
            "/usr/local/lib/python3.10/dist-packages/scipy/optimize/_linesearch.py:466: LineSearchWarning: The line search algorithm did not converge\n",
            "  warn('The line search algorithm did not converge', LineSearchWarning)\n",
            "/usr/local/lib/python3.10/dist-packages/scipy/optimize/_linesearch.py:314: LineSearchWarning: The line search algorithm did not converge\n",
            "  warn('The line search algorithm did not converge', LineSearchWarning)\n",
            "/usr/local/lib/python3.10/dist-packages/scipy/optimize/_linesearch.py:425: LineSearchWarning: Rounding errors prevent the line search from converging\n",
            "  warn(msg, LineSearchWarning)\n",
            "/usr/local/lib/python3.10/dist-packages/sklearn/utils/optimize.py:203: UserWarning: Line Search failed\n",
            "  warnings.warn(\"Line Search failed\")\n"
          ]
        },
        {
          "output_type": "stream",
          "name": "stdout",
          "text": [
            "solver = newton-cg C = 0.64 iterations = 50 auc = 0.5158506944444444\n"
          ]
        },
        {
          "output_type": "stream",
          "name": "stderr",
          "text": [
            "/usr/local/lib/python3.10/dist-packages/scipy/optimize/_linesearch.py:466: LineSearchWarning: The line search algorithm did not converge\n",
            "  warn('The line search algorithm did not converge', LineSearchWarning)\n",
            "/usr/local/lib/python3.10/dist-packages/scipy/optimize/_linesearch.py:314: LineSearchWarning: The line search algorithm did not converge\n",
            "  warn('The line search algorithm did not converge', LineSearchWarning)\n",
            "/usr/local/lib/python3.10/dist-packages/scipy/optimize/_linesearch.py:425: LineSearchWarning: Rounding errors prevent the line search from converging\n",
            "  warn(msg, LineSearchWarning)\n",
            "/usr/local/lib/python3.10/dist-packages/sklearn/utils/optimize.py:203: UserWarning: Line Search failed\n",
            "  warnings.warn(\"Line Search failed\")\n",
            "/usr/local/lib/python3.10/dist-packages/scipy/optimize/_linesearch.py:466: LineSearchWarning: The line search algorithm did not converge\n",
            "  warn('The line search algorithm did not converge', LineSearchWarning)\n",
            "/usr/local/lib/python3.10/dist-packages/scipy/optimize/_linesearch.py:314: LineSearchWarning: The line search algorithm did not converge\n",
            "  warn('The line search algorithm did not converge', LineSearchWarning)\n",
            "/usr/local/lib/python3.10/dist-packages/scipy/optimize/_linesearch.py:425: LineSearchWarning: Rounding errors prevent the line search from converging\n",
            "  warn(msg, LineSearchWarning)\n",
            "/usr/local/lib/python3.10/dist-packages/sklearn/utils/optimize.py:203: UserWarning: Line Search failed\n",
            "  warnings.warn(\"Line Search failed\")\n"
          ]
        },
        {
          "output_type": "stream",
          "name": "stdout",
          "text": [
            "solver = newton-cg C = 0.64 iterations = 70 auc = 0.5158506944444444\n",
            "solver = newton-cg C = 0.64 iterations = 100 auc = 0.5158506944444444\n"
          ]
        },
        {
          "output_type": "stream",
          "name": "stderr",
          "text": [
            "/usr/local/lib/python3.10/dist-packages/scipy/optimize/_linesearch.py:466: LineSearchWarning: The line search algorithm did not converge\n",
            "  warn('The line search algorithm did not converge', LineSearchWarning)\n",
            "/usr/local/lib/python3.10/dist-packages/scipy/optimize/_linesearch.py:314: LineSearchWarning: The line search algorithm did not converge\n",
            "  warn('The line search algorithm did not converge', LineSearchWarning)\n",
            "/usr/local/lib/python3.10/dist-packages/scipy/optimize/_linesearch.py:425: LineSearchWarning: Rounding errors prevent the line search from converging\n",
            "  warn(msg, LineSearchWarning)\n",
            "/usr/local/lib/python3.10/dist-packages/sklearn/utils/optimize.py:203: UserWarning: Line Search failed\n",
            "  warnings.warn(\"Line Search failed\")\n",
            "/usr/local/lib/python3.10/dist-packages/scipy/optimize/_linesearch.py:466: LineSearchWarning: The line search algorithm did not converge\n",
            "  warn('The line search algorithm did not converge', LineSearchWarning)\n",
            "/usr/local/lib/python3.10/dist-packages/scipy/optimize/_linesearch.py:314: LineSearchWarning: The line search algorithm did not converge\n",
            "  warn('The line search algorithm did not converge', LineSearchWarning)\n"
          ]
        },
        {
          "output_type": "stream",
          "name": "stdout",
          "text": [
            "solver = newton-cg C = 0.64 iterations = 200 auc = 0.5158506944444444\n",
            "solver = newton-cg C = 0.73 iterations = 50 auc = 0.5158333333333334\n"
          ]
        },
        {
          "output_type": "stream",
          "name": "stderr",
          "text": [
            "/usr/local/lib/python3.10/dist-packages/scipy/optimize/_linesearch.py:466: LineSearchWarning: The line search algorithm did not converge\n",
            "  warn('The line search algorithm did not converge', LineSearchWarning)\n",
            "/usr/local/lib/python3.10/dist-packages/scipy/optimize/_linesearch.py:314: LineSearchWarning: The line search algorithm did not converge\n",
            "  warn('The line search algorithm did not converge', LineSearchWarning)\n",
            "/usr/local/lib/python3.10/dist-packages/scipy/optimize/_linesearch.py:466: LineSearchWarning: The line search algorithm did not converge\n",
            "  warn('The line search algorithm did not converge', LineSearchWarning)\n",
            "/usr/local/lib/python3.10/dist-packages/scipy/optimize/_linesearch.py:314: LineSearchWarning: The line search algorithm did not converge\n",
            "  warn('The line search algorithm did not converge', LineSearchWarning)\n"
          ]
        },
        {
          "output_type": "stream",
          "name": "stdout",
          "text": [
            "solver = newton-cg C = 0.73 iterations = 70 auc = 0.5158333333333334\n",
            "solver = newton-cg C = 0.73 iterations = 100 auc = 0.5158333333333334\n"
          ]
        },
        {
          "output_type": "stream",
          "name": "stderr",
          "text": [
            "/usr/local/lib/python3.10/dist-packages/scipy/optimize/_linesearch.py:466: LineSearchWarning: The line search algorithm did not converge\n",
            "  warn('The line search algorithm did not converge', LineSearchWarning)\n",
            "/usr/local/lib/python3.10/dist-packages/scipy/optimize/_linesearch.py:314: LineSearchWarning: The line search algorithm did not converge\n",
            "  warn('The line search algorithm did not converge', LineSearchWarning)\n",
            "/usr/local/lib/python3.10/dist-packages/scipy/optimize/_linesearch.py:466: LineSearchWarning: The line search algorithm did not converge\n",
            "  warn('The line search algorithm did not converge', LineSearchWarning)\n",
            "/usr/local/lib/python3.10/dist-packages/scipy/optimize/_linesearch.py:314: LineSearchWarning: The line search algorithm did not converge\n",
            "  warn('The line search algorithm did not converge', LineSearchWarning)\n",
            "/usr/local/lib/python3.10/dist-packages/scipy/optimize/_linesearch.py:425: LineSearchWarning: Rounding errors prevent the line search from converging\n",
            "  warn(msg, LineSearchWarning)\n",
            "/usr/local/lib/python3.10/dist-packages/sklearn/utils/optimize.py:203: UserWarning: Line Search failed\n",
            "  warnings.warn(\"Line Search failed\")\n"
          ]
        },
        {
          "output_type": "stream",
          "name": "stdout",
          "text": [
            "solver = newton-cg C = 0.73 iterations = 200 auc = 0.5158333333333334\n",
            "solver = newton-cg C = 0.82 iterations = 50 auc = 0.5159027777777777\n"
          ]
        },
        {
          "output_type": "stream",
          "name": "stderr",
          "text": [
            "/usr/local/lib/python3.10/dist-packages/scipy/optimize/_linesearch.py:466: LineSearchWarning: The line search algorithm did not converge\n",
            "  warn('The line search algorithm did not converge', LineSearchWarning)\n",
            "/usr/local/lib/python3.10/dist-packages/scipy/optimize/_linesearch.py:314: LineSearchWarning: The line search algorithm did not converge\n",
            "  warn('The line search algorithm did not converge', LineSearchWarning)\n",
            "/usr/local/lib/python3.10/dist-packages/scipy/optimize/_linesearch.py:425: LineSearchWarning: Rounding errors prevent the line search from converging\n",
            "  warn(msg, LineSearchWarning)\n",
            "/usr/local/lib/python3.10/dist-packages/sklearn/utils/optimize.py:203: UserWarning: Line Search failed\n",
            "  warnings.warn(\"Line Search failed\")\n",
            "/usr/local/lib/python3.10/dist-packages/scipy/optimize/_linesearch.py:466: LineSearchWarning: The line search algorithm did not converge\n",
            "  warn('The line search algorithm did not converge', LineSearchWarning)\n",
            "/usr/local/lib/python3.10/dist-packages/scipy/optimize/_linesearch.py:314: LineSearchWarning: The line search algorithm did not converge\n",
            "  warn('The line search algorithm did not converge', LineSearchWarning)\n",
            "/usr/local/lib/python3.10/dist-packages/scipy/optimize/_linesearch.py:425: LineSearchWarning: Rounding errors prevent the line search from converging\n",
            "  warn(msg, LineSearchWarning)\n",
            "/usr/local/lib/python3.10/dist-packages/sklearn/utils/optimize.py:203: UserWarning: Line Search failed\n",
            "  warnings.warn(\"Line Search failed\")\n"
          ]
        },
        {
          "output_type": "stream",
          "name": "stdout",
          "text": [
            "solver = newton-cg C = 0.82 iterations = 70 auc = 0.5159027777777777\n",
            "solver = newton-cg C = 0.82 iterations = 100 auc = 0.5159027777777777\n"
          ]
        },
        {
          "output_type": "stream",
          "name": "stderr",
          "text": [
            "/usr/local/lib/python3.10/dist-packages/scipy/optimize/_linesearch.py:466: LineSearchWarning: The line search algorithm did not converge\n",
            "  warn('The line search algorithm did not converge', LineSearchWarning)\n",
            "/usr/local/lib/python3.10/dist-packages/scipy/optimize/_linesearch.py:314: LineSearchWarning: The line search algorithm did not converge\n",
            "  warn('The line search algorithm did not converge', LineSearchWarning)\n",
            "/usr/local/lib/python3.10/dist-packages/scipy/optimize/_linesearch.py:425: LineSearchWarning: Rounding errors prevent the line search from converging\n",
            "  warn(msg, LineSearchWarning)\n",
            "/usr/local/lib/python3.10/dist-packages/sklearn/utils/optimize.py:203: UserWarning: Line Search failed\n",
            "  warnings.warn(\"Line Search failed\")\n",
            "/usr/local/lib/python3.10/dist-packages/scipy/optimize/_linesearch.py:466: LineSearchWarning: The line search algorithm did not converge\n",
            "  warn('The line search algorithm did not converge', LineSearchWarning)\n",
            "/usr/local/lib/python3.10/dist-packages/scipy/optimize/_linesearch.py:314: LineSearchWarning: The line search algorithm did not converge\n",
            "  warn('The line search algorithm did not converge', LineSearchWarning)\n",
            "/usr/local/lib/python3.10/dist-packages/scipy/optimize/_linesearch.py:425: LineSearchWarning: Rounding errors prevent the line search from converging\n",
            "  warn(msg, LineSearchWarning)\n",
            "/usr/local/lib/python3.10/dist-packages/sklearn/utils/optimize.py:203: UserWarning: Line Search failed\n",
            "  warnings.warn(\"Line Search failed\")\n"
          ]
        },
        {
          "output_type": "stream",
          "name": "stdout",
          "text": [
            "solver = newton-cg C = 0.82 iterations = 200 auc = 0.5159027777777777\n",
            "solver = newton-cg C = 0.9099999999999999 iterations = 50 auc = 0.51625\n"
          ]
        },
        {
          "output_type": "stream",
          "name": "stderr",
          "text": [
            "/usr/local/lib/python3.10/dist-packages/scipy/optimize/_linesearch.py:466: LineSearchWarning: The line search algorithm did not converge\n",
            "  warn('The line search algorithm did not converge', LineSearchWarning)\n",
            "/usr/local/lib/python3.10/dist-packages/scipy/optimize/_linesearch.py:314: LineSearchWarning: The line search algorithm did not converge\n",
            "  warn('The line search algorithm did not converge', LineSearchWarning)\n",
            "/usr/local/lib/python3.10/dist-packages/scipy/optimize/_linesearch.py:425: LineSearchWarning: Rounding errors prevent the line search from converging\n",
            "  warn(msg, LineSearchWarning)\n",
            "/usr/local/lib/python3.10/dist-packages/sklearn/utils/optimize.py:203: UserWarning: Line Search failed\n",
            "  warnings.warn(\"Line Search failed\")\n",
            "/usr/local/lib/python3.10/dist-packages/scipy/optimize/_linesearch.py:466: LineSearchWarning: The line search algorithm did not converge\n",
            "  warn('The line search algorithm did not converge', LineSearchWarning)\n",
            "/usr/local/lib/python3.10/dist-packages/scipy/optimize/_linesearch.py:314: LineSearchWarning: The line search algorithm did not converge\n",
            "  warn('The line search algorithm did not converge', LineSearchWarning)\n",
            "/usr/local/lib/python3.10/dist-packages/scipy/optimize/_linesearch.py:425: LineSearchWarning: Rounding errors prevent the line search from converging\n",
            "  warn(msg, LineSearchWarning)\n",
            "/usr/local/lib/python3.10/dist-packages/sklearn/utils/optimize.py:203: UserWarning: Line Search failed\n",
            "  warnings.warn(\"Line Search failed\")\n"
          ]
        },
        {
          "output_type": "stream",
          "name": "stdout",
          "text": [
            "solver = newton-cg C = 0.9099999999999999 iterations = 70 auc = 0.51625\n",
            "solver = newton-cg C = 0.9099999999999999 iterations = 100 auc = 0.51625\n"
          ]
        },
        {
          "output_type": "stream",
          "name": "stderr",
          "text": [
            "/usr/local/lib/python3.10/dist-packages/scipy/optimize/_linesearch.py:466: LineSearchWarning: The line search algorithm did not converge\n",
            "  warn('The line search algorithm did not converge', LineSearchWarning)\n",
            "/usr/local/lib/python3.10/dist-packages/scipy/optimize/_linesearch.py:314: LineSearchWarning: The line search algorithm did not converge\n",
            "  warn('The line search algorithm did not converge', LineSearchWarning)\n",
            "/usr/local/lib/python3.10/dist-packages/scipy/optimize/_linesearch.py:425: LineSearchWarning: Rounding errors prevent the line search from converging\n",
            "  warn(msg, LineSearchWarning)\n",
            "/usr/local/lib/python3.10/dist-packages/sklearn/utils/optimize.py:203: UserWarning: Line Search failed\n",
            "  warnings.warn(\"Line Search failed\")\n",
            "/usr/local/lib/python3.10/dist-packages/scipy/optimize/_linesearch.py:466: LineSearchWarning: The line search algorithm did not converge\n",
            "  warn('The line search algorithm did not converge', LineSearchWarning)\n",
            "/usr/local/lib/python3.10/dist-packages/scipy/optimize/_linesearch.py:314: LineSearchWarning: The line search algorithm did not converge\n",
            "  warn('The line search algorithm did not converge', LineSearchWarning)\n",
            "/usr/local/lib/python3.10/dist-packages/scipy/optimize/_linesearch.py:425: LineSearchWarning: Rounding errors prevent the line search from converging\n",
            "  warn(msg, LineSearchWarning)\n",
            "/usr/local/lib/python3.10/dist-packages/sklearn/utils/optimize.py:203: UserWarning: Line Search failed\n",
            "  warnings.warn(\"Line Search failed\")\n"
          ]
        },
        {
          "output_type": "stream",
          "name": "stdout",
          "text": [
            "solver = newton-cg C = 0.9099999999999999 iterations = 200 auc = 0.51625\n",
            "solver = newton-cg C = 1.0 iterations = 50 auc = 0.5161458333333333\n"
          ]
        },
        {
          "output_type": "stream",
          "name": "stderr",
          "text": [
            "/usr/local/lib/python3.10/dist-packages/scipy/optimize/_linesearch.py:466: LineSearchWarning: The line search algorithm did not converge\n",
            "  warn('The line search algorithm did not converge', LineSearchWarning)\n",
            "/usr/local/lib/python3.10/dist-packages/scipy/optimize/_linesearch.py:314: LineSearchWarning: The line search algorithm did not converge\n",
            "  warn('The line search algorithm did not converge', LineSearchWarning)\n",
            "/usr/local/lib/python3.10/dist-packages/scipy/optimize/_linesearch.py:425: LineSearchWarning: Rounding errors prevent the line search from converging\n",
            "  warn(msg, LineSearchWarning)\n",
            "/usr/local/lib/python3.10/dist-packages/sklearn/utils/optimize.py:203: UserWarning: Line Search failed\n",
            "  warnings.warn(\"Line Search failed\")\n",
            "/usr/local/lib/python3.10/dist-packages/scipy/optimize/_linesearch.py:466: LineSearchWarning: The line search algorithm did not converge\n",
            "  warn('The line search algorithm did not converge', LineSearchWarning)\n",
            "/usr/local/lib/python3.10/dist-packages/scipy/optimize/_linesearch.py:314: LineSearchWarning: The line search algorithm did not converge\n",
            "  warn('The line search algorithm did not converge', LineSearchWarning)\n",
            "/usr/local/lib/python3.10/dist-packages/scipy/optimize/_linesearch.py:425: LineSearchWarning: Rounding errors prevent the line search from converging\n",
            "  warn(msg, LineSearchWarning)\n",
            "/usr/local/lib/python3.10/dist-packages/sklearn/utils/optimize.py:203: UserWarning: Line Search failed\n",
            "  warnings.warn(\"Line Search failed\")\n",
            "/usr/local/lib/python3.10/dist-packages/scipy/optimize/_linesearch.py:466: LineSearchWarning: The line search algorithm did not converge\n",
            "  warn('The line search algorithm did not converge', LineSearchWarning)\n",
            "/usr/local/lib/python3.10/dist-packages/scipy/optimize/_linesearch.py:314: LineSearchWarning: The line search algorithm did not converge\n",
            "  warn('The line search algorithm did not converge', LineSearchWarning)\n",
            "/usr/local/lib/python3.10/dist-packages/scipy/optimize/_linesearch.py:425: LineSearchWarning: Rounding errors prevent the line search from converging\n",
            "  warn(msg, LineSearchWarning)\n",
            "/usr/local/lib/python3.10/dist-packages/sklearn/utils/optimize.py:203: UserWarning: Line Search failed\n",
            "  warnings.warn(\"Line Search failed\")\n"
          ]
        },
        {
          "output_type": "stream",
          "name": "stdout",
          "text": [
            "solver = newton-cg C = 1.0 iterations = 70 auc = 0.5161458333333333\n",
            "solver = newton-cg C = 1.0 iterations = 100 auc = 0.5161458333333333\n",
            "solver = newton-cg C = 1.0 iterations = 200 auc = 0.5161458333333333\n",
            "solver = newton-cholesky C = 0.1 iterations = 50 auc = 0.5158159722222222\n",
            "solver = newton-cholesky C = 0.1 iterations = 70 auc = 0.5158159722222222\n",
            "solver = newton-cholesky C = 0.1 iterations = 100 auc = 0.5158159722222222\n",
            "solver = newton-cholesky C = 0.1 iterations = 200 auc = 0.5158159722222222\n",
            "solver = newton-cholesky C = 0.19 iterations = 50 auc = 0.5157986111111111\n",
            "solver = newton-cholesky C = 0.19 iterations = 70 auc = 0.5157986111111111\n",
            "solver = newton-cholesky C = 0.19 iterations = 100 auc = 0.5157986111111111\n",
            "solver = newton-cholesky C = 0.19 iterations = 200 auc = 0.5157986111111111\n",
            "solver = newton-cholesky C = 0.28 iterations = 50 auc = 0.5158333333333333\n",
            "solver = newton-cholesky C = 0.28 iterations = 70 auc = 0.5158333333333333\n",
            "solver = newton-cholesky C = 0.28 iterations = 100 auc = 0.5158333333333333\n",
            "solver = newton-cholesky C = 0.28 iterations = 200 auc = 0.5158333333333333\n",
            "solver = newton-cholesky C = 0.37 iterations = 50 auc = 0.5158680555555555\n",
            "solver = newton-cholesky C = 0.37 iterations = 70 auc = 0.5158680555555555\n",
            "solver = newton-cholesky C = 0.37 iterations = 100 auc = 0.5158680555555555\n",
            "solver = newton-cholesky C = 0.37 iterations = 200 auc = 0.5158680555555555\n",
            "solver = newton-cholesky C = 0.45999999999999996 iterations = 50 auc = 0.5158680555555555\n",
            "solver = newton-cholesky C = 0.45999999999999996 iterations = 70 auc = 0.5158680555555555\n",
            "solver = newton-cholesky C = 0.45999999999999996 iterations = 100 auc = 0.5158680555555555\n",
            "solver = newton-cholesky C = 0.45999999999999996 iterations = 200 auc = 0.5158680555555555\n",
            "solver = newton-cholesky C = 0.5499999999999999 iterations = 50 auc = 0.5158680555555555\n",
            "solver = newton-cholesky C = 0.5499999999999999 iterations = 70 auc = 0.5158680555555555\n",
            "solver = newton-cholesky C = 0.5499999999999999 iterations = 100 auc = 0.5158680555555555\n",
            "solver = newton-cholesky C = 0.5499999999999999 iterations = 200 auc = 0.5158680555555555\n",
            "solver = newton-cholesky C = 0.64 iterations = 50 auc = 0.5158506944444444\n",
            "solver = newton-cholesky C = 0.64 iterations = 70 auc = 0.5158506944444444\n",
            "solver = newton-cholesky C = 0.64 iterations = 100 auc = 0.5158506944444444\n",
            "solver = newton-cholesky C = 0.64 iterations = 200 auc = 0.5158506944444444\n",
            "solver = newton-cholesky C = 0.73 iterations = 50 auc = 0.5158333333333334\n",
            "solver = newton-cholesky C = 0.73 iterations = 70 auc = 0.5158333333333334\n",
            "solver = newton-cholesky C = 0.73 iterations = 100 auc = 0.5158333333333334\n",
            "solver = newton-cholesky C = 0.73 iterations = 200 auc = 0.5158333333333334\n",
            "solver = newton-cholesky C = 0.82 iterations = 50 auc = 0.5158159722222222\n",
            "solver = newton-cholesky C = 0.82 iterations = 70 auc = 0.5158159722222222\n",
            "solver = newton-cholesky C = 0.82 iterations = 100 auc = 0.5158159722222222\n",
            "solver = newton-cholesky C = 0.82 iterations = 200 auc = 0.5158159722222222\n",
            "solver = newton-cholesky C = 0.9099999999999999 iterations = 50 auc = 0.5158159722222222\n",
            "solver = newton-cholesky C = 0.9099999999999999 iterations = 70 auc = 0.5158159722222222\n",
            "solver = newton-cholesky C = 0.9099999999999999 iterations = 100 auc = 0.5158159722222222\n",
            "solver = newton-cholesky C = 0.9099999999999999 iterations = 200 auc = 0.5158159722222222\n",
            "solver = newton-cholesky C = 1.0 iterations = 50 auc = 0.5158159722222222\n",
            "solver = newton-cholesky C = 1.0 iterations = 70 auc = 0.5158159722222222\n",
            "solver = newton-cholesky C = 1.0 iterations = 100 auc = 0.5158159722222222\n",
            "solver = newton-cholesky C = 1.0 iterations = 200 auc = 0.5158159722222222\n",
            "solver = sag C = 0.1 iterations = 50 auc = 0.5077951388888889\n",
            "solver = sag C = 0.1 iterations = 70 auc = 0.5052430555555555\n"
          ]
        },
        {
          "output_type": "stream",
          "name": "stderr",
          "text": [
            "/usr/local/lib/python3.10/dist-packages/sklearn/linear_model/_sag.py:350: ConvergenceWarning: The max_iter was reached which means the coef_ did not converge\n",
            "  warnings.warn(\n",
            "/usr/local/lib/python3.10/dist-packages/sklearn/linear_model/_sag.py:350: ConvergenceWarning: The max_iter was reached which means the coef_ did not converge\n",
            "  warnings.warn(\n",
            "/usr/local/lib/python3.10/dist-packages/sklearn/linear_model/_sag.py:350: ConvergenceWarning: The max_iter was reached which means the coef_ did not converge\n",
            "  warnings.warn(\n"
          ]
        },
        {
          "output_type": "stream",
          "name": "stdout",
          "text": [
            "solver = sag C = 0.1 iterations = 100 auc = 0.5044097222222221\n",
            "solver = sag C = 0.1 iterations = 200 auc = 0.5045138888888889\n",
            "solver = sag C = 0.19 iterations = 50 auc = 0.5077951388888889\n",
            "solver = sag C = 0.19 iterations = 70 auc = 0.5052430555555555\n"
          ]
        },
        {
          "output_type": "stream",
          "name": "stderr",
          "text": [
            "/usr/local/lib/python3.10/dist-packages/sklearn/linear_model/_sag.py:350: ConvergenceWarning: The max_iter was reached which means the coef_ did not converge\n",
            "  warnings.warn(\n",
            "/usr/local/lib/python3.10/dist-packages/sklearn/linear_model/_sag.py:350: ConvergenceWarning: The max_iter was reached which means the coef_ did not converge\n",
            "  warnings.warn(\n",
            "/usr/local/lib/python3.10/dist-packages/sklearn/linear_model/_sag.py:350: ConvergenceWarning: The max_iter was reached which means the coef_ did not converge\n",
            "  warnings.warn(\n",
            "/usr/local/lib/python3.10/dist-packages/sklearn/linear_model/_sag.py:350: ConvergenceWarning: The max_iter was reached which means the coef_ did not converge\n",
            "  warnings.warn(\n"
          ]
        },
        {
          "output_type": "stream",
          "name": "stdout",
          "text": [
            "solver = sag C = 0.19 iterations = 100 auc = 0.5044097222222221\n",
            "solver = sag C = 0.19 iterations = 200 auc = 0.5045138888888889\n",
            "solver = sag C = 0.28 iterations = 50 auc = 0.5077951388888889\n",
            "solver = sag C = 0.28 iterations = 70 auc = 0.5052430555555555\n"
          ]
        },
        {
          "output_type": "stream",
          "name": "stderr",
          "text": [
            "/usr/local/lib/python3.10/dist-packages/sklearn/linear_model/_sag.py:350: ConvergenceWarning: The max_iter was reached which means the coef_ did not converge\n",
            "  warnings.warn(\n",
            "/usr/local/lib/python3.10/dist-packages/sklearn/linear_model/_sag.py:350: ConvergenceWarning: The max_iter was reached which means the coef_ did not converge\n",
            "  warnings.warn(\n",
            "/usr/local/lib/python3.10/dist-packages/sklearn/linear_model/_sag.py:350: ConvergenceWarning: The max_iter was reached which means the coef_ did not converge\n",
            "  warnings.warn(\n",
            "/usr/local/lib/python3.10/dist-packages/sklearn/linear_model/_sag.py:350: ConvergenceWarning: The max_iter was reached which means the coef_ did not converge\n",
            "  warnings.warn(\n"
          ]
        },
        {
          "output_type": "stream",
          "name": "stdout",
          "text": [
            "solver = sag C = 0.28 iterations = 100 auc = 0.5044097222222221\n",
            "solver = sag C = 0.28 iterations = 200 auc = 0.5045138888888889\n",
            "solver = sag C = 0.37 iterations = 50 auc = 0.5077951388888889\n",
            "solver = sag C = 0.37 iterations = 70 auc = 0.5052430555555555\n"
          ]
        },
        {
          "output_type": "stream",
          "name": "stderr",
          "text": [
            "/usr/local/lib/python3.10/dist-packages/sklearn/linear_model/_sag.py:350: ConvergenceWarning: The max_iter was reached which means the coef_ did not converge\n",
            "  warnings.warn(\n",
            "/usr/local/lib/python3.10/dist-packages/sklearn/linear_model/_sag.py:350: ConvergenceWarning: The max_iter was reached which means the coef_ did not converge\n",
            "  warnings.warn(\n",
            "/usr/local/lib/python3.10/dist-packages/sklearn/linear_model/_sag.py:350: ConvergenceWarning: The max_iter was reached which means the coef_ did not converge\n",
            "  warnings.warn(\n",
            "/usr/local/lib/python3.10/dist-packages/sklearn/linear_model/_sag.py:350: ConvergenceWarning: The max_iter was reached which means the coef_ did not converge\n",
            "  warnings.warn(\n"
          ]
        },
        {
          "output_type": "stream",
          "name": "stdout",
          "text": [
            "solver = sag C = 0.37 iterations = 100 auc = 0.5044097222222221\n",
            "solver = sag C = 0.37 iterations = 200 auc = 0.5045138888888889\n",
            "solver = sag C = 0.45999999999999996 iterations = 50 auc = 0.5077951388888889\n",
            "solver = sag C = 0.45999999999999996 iterations = 70 auc = 0.5052430555555555\n"
          ]
        },
        {
          "output_type": "stream",
          "name": "stderr",
          "text": [
            "/usr/local/lib/python3.10/dist-packages/sklearn/linear_model/_sag.py:350: ConvergenceWarning: The max_iter was reached which means the coef_ did not converge\n",
            "  warnings.warn(\n",
            "/usr/local/lib/python3.10/dist-packages/sklearn/linear_model/_sag.py:350: ConvergenceWarning: The max_iter was reached which means the coef_ did not converge\n",
            "  warnings.warn(\n",
            "/usr/local/lib/python3.10/dist-packages/sklearn/linear_model/_sag.py:350: ConvergenceWarning: The max_iter was reached which means the coef_ did not converge\n",
            "  warnings.warn(\n",
            "/usr/local/lib/python3.10/dist-packages/sklearn/linear_model/_sag.py:350: ConvergenceWarning: The max_iter was reached which means the coef_ did not converge\n",
            "  warnings.warn(\n"
          ]
        },
        {
          "output_type": "stream",
          "name": "stdout",
          "text": [
            "solver = sag C = 0.45999999999999996 iterations = 100 auc = 0.5044097222222221\n",
            "solver = sag C = 0.45999999999999996 iterations = 200 auc = 0.5045138888888889\n",
            "solver = sag C = 0.5499999999999999 iterations = 50 auc = 0.5077951388888889\n",
            "solver = sag C = 0.5499999999999999 iterations = 70 auc = 0.5052430555555555\n"
          ]
        },
        {
          "output_type": "stream",
          "name": "stderr",
          "text": [
            "/usr/local/lib/python3.10/dist-packages/sklearn/linear_model/_sag.py:350: ConvergenceWarning: The max_iter was reached which means the coef_ did not converge\n",
            "  warnings.warn(\n",
            "/usr/local/lib/python3.10/dist-packages/sklearn/linear_model/_sag.py:350: ConvergenceWarning: The max_iter was reached which means the coef_ did not converge\n",
            "  warnings.warn(\n",
            "/usr/local/lib/python3.10/dist-packages/sklearn/linear_model/_sag.py:350: ConvergenceWarning: The max_iter was reached which means the coef_ did not converge\n",
            "  warnings.warn(\n",
            "/usr/local/lib/python3.10/dist-packages/sklearn/linear_model/_sag.py:350: ConvergenceWarning: The max_iter was reached which means the coef_ did not converge\n",
            "  warnings.warn(\n"
          ]
        },
        {
          "output_type": "stream",
          "name": "stdout",
          "text": [
            "solver = sag C = 0.5499999999999999 iterations = 100 auc = 0.5044097222222221\n",
            "solver = sag C = 0.5499999999999999 iterations = 200 auc = 0.5045138888888889\n",
            "solver = sag C = 0.64 iterations = 50 auc = 0.5077951388888889\n",
            "solver = sag C = 0.64 iterations = 70 auc = 0.5052430555555555\n"
          ]
        },
        {
          "output_type": "stream",
          "name": "stderr",
          "text": [
            "/usr/local/lib/python3.10/dist-packages/sklearn/linear_model/_sag.py:350: ConvergenceWarning: The max_iter was reached which means the coef_ did not converge\n",
            "  warnings.warn(\n",
            "/usr/local/lib/python3.10/dist-packages/sklearn/linear_model/_sag.py:350: ConvergenceWarning: The max_iter was reached which means the coef_ did not converge\n",
            "  warnings.warn(\n",
            "/usr/local/lib/python3.10/dist-packages/sklearn/linear_model/_sag.py:350: ConvergenceWarning: The max_iter was reached which means the coef_ did not converge\n",
            "  warnings.warn(\n",
            "/usr/local/lib/python3.10/dist-packages/sklearn/linear_model/_sag.py:350: ConvergenceWarning: The max_iter was reached which means the coef_ did not converge\n",
            "  warnings.warn(\n"
          ]
        },
        {
          "output_type": "stream",
          "name": "stdout",
          "text": [
            "solver = sag C = 0.64 iterations = 100 auc = 0.5044097222222221\n",
            "solver = sag C = 0.64 iterations = 200 auc = 0.5045138888888889\n",
            "solver = sag C = 0.73 iterations = 50 auc = 0.5077951388888889\n",
            "solver = sag C = 0.73 iterations = 70 auc = 0.5052430555555555\n"
          ]
        },
        {
          "output_type": "stream",
          "name": "stderr",
          "text": [
            "/usr/local/lib/python3.10/dist-packages/sklearn/linear_model/_sag.py:350: ConvergenceWarning: The max_iter was reached which means the coef_ did not converge\n",
            "  warnings.warn(\n",
            "/usr/local/lib/python3.10/dist-packages/sklearn/linear_model/_sag.py:350: ConvergenceWarning: The max_iter was reached which means the coef_ did not converge\n",
            "  warnings.warn(\n",
            "/usr/local/lib/python3.10/dist-packages/sklearn/linear_model/_sag.py:350: ConvergenceWarning: The max_iter was reached which means the coef_ did not converge\n",
            "  warnings.warn(\n",
            "/usr/local/lib/python3.10/dist-packages/sklearn/linear_model/_sag.py:350: ConvergenceWarning: The max_iter was reached which means the coef_ did not converge\n",
            "  warnings.warn(\n"
          ]
        },
        {
          "output_type": "stream",
          "name": "stdout",
          "text": [
            "solver = sag C = 0.73 iterations = 100 auc = 0.5044097222222221\n",
            "solver = sag C = 0.73 iterations = 200 auc = 0.5045138888888889\n",
            "solver = sag C = 0.82 iterations = 50 auc = 0.5077951388888889\n",
            "solver = sag C = 0.82 iterations = 70 auc = 0.5052430555555555\n"
          ]
        },
        {
          "output_type": "stream",
          "name": "stderr",
          "text": [
            "/usr/local/lib/python3.10/dist-packages/sklearn/linear_model/_sag.py:350: ConvergenceWarning: The max_iter was reached which means the coef_ did not converge\n",
            "  warnings.warn(\n",
            "/usr/local/lib/python3.10/dist-packages/sklearn/linear_model/_sag.py:350: ConvergenceWarning: The max_iter was reached which means the coef_ did not converge\n",
            "  warnings.warn(\n",
            "/usr/local/lib/python3.10/dist-packages/sklearn/linear_model/_sag.py:350: ConvergenceWarning: The max_iter was reached which means the coef_ did not converge\n",
            "  warnings.warn(\n",
            "/usr/local/lib/python3.10/dist-packages/sklearn/linear_model/_sag.py:350: ConvergenceWarning: The max_iter was reached which means the coef_ did not converge\n",
            "  warnings.warn(\n"
          ]
        },
        {
          "output_type": "stream",
          "name": "stdout",
          "text": [
            "solver = sag C = 0.82 iterations = 100 auc = 0.5044097222222221\n",
            "solver = sag C = 0.82 iterations = 200 auc = 0.5045138888888889\n",
            "solver = sag C = 0.9099999999999999 iterations = 50 auc = 0.5077951388888889\n",
            "solver = sag C = 0.9099999999999999 iterations = 70 auc = 0.5052430555555555\n"
          ]
        },
        {
          "output_type": "stream",
          "name": "stderr",
          "text": [
            "/usr/local/lib/python3.10/dist-packages/sklearn/linear_model/_sag.py:350: ConvergenceWarning: The max_iter was reached which means the coef_ did not converge\n",
            "  warnings.warn(\n",
            "/usr/local/lib/python3.10/dist-packages/sklearn/linear_model/_sag.py:350: ConvergenceWarning: The max_iter was reached which means the coef_ did not converge\n",
            "  warnings.warn(\n",
            "/usr/local/lib/python3.10/dist-packages/sklearn/linear_model/_sag.py:350: ConvergenceWarning: The max_iter was reached which means the coef_ did not converge\n",
            "  warnings.warn(\n",
            "/usr/local/lib/python3.10/dist-packages/sklearn/linear_model/_sag.py:350: ConvergenceWarning: The max_iter was reached which means the coef_ did not converge\n",
            "  warnings.warn(\n"
          ]
        },
        {
          "output_type": "stream",
          "name": "stdout",
          "text": [
            "solver = sag C = 0.9099999999999999 iterations = 100 auc = 0.5044097222222221\n",
            "solver = sag C = 0.9099999999999999 iterations = 200 auc = 0.5045138888888889\n",
            "solver = sag C = 1.0 iterations = 50 auc = 0.5077951388888889\n",
            "solver = sag C = 1.0 iterations = 70 auc = 0.5052430555555555\n"
          ]
        },
        {
          "output_type": "stream",
          "name": "stderr",
          "text": [
            "/usr/local/lib/python3.10/dist-packages/sklearn/linear_model/_sag.py:350: ConvergenceWarning: The max_iter was reached which means the coef_ did not converge\n",
            "  warnings.warn(\n",
            "/usr/local/lib/python3.10/dist-packages/sklearn/linear_model/_sag.py:350: ConvergenceWarning: The max_iter was reached which means the coef_ did not converge\n",
            "  warnings.warn(\n",
            "/usr/local/lib/python3.10/dist-packages/sklearn/linear_model/_sag.py:350: ConvergenceWarning: The max_iter was reached which means the coef_ did not converge\n",
            "  warnings.warn(\n",
            "/usr/local/lib/python3.10/dist-packages/sklearn/linear_model/_sag.py:350: ConvergenceWarning: The max_iter was reached which means the coef_ did not converge\n",
            "  warnings.warn(\n"
          ]
        },
        {
          "output_type": "stream",
          "name": "stdout",
          "text": [
            "solver = sag C = 1.0 iterations = 100 auc = 0.5044097222222221\n",
            "solver = sag C = 1.0 iterations = 200 auc = 0.5045138888888889\n",
            "solver = saga C = 0.1 iterations = 50 auc = 0.5125347222222222\n",
            "solver = saga C = 0.1 iterations = 70 auc = 0.5125173611111111\n"
          ]
        },
        {
          "output_type": "stream",
          "name": "stderr",
          "text": [
            "/usr/local/lib/python3.10/dist-packages/sklearn/linear_model/_sag.py:350: ConvergenceWarning: The max_iter was reached which means the coef_ did not converge\n",
            "  warnings.warn(\n",
            "/usr/local/lib/python3.10/dist-packages/sklearn/linear_model/_sag.py:350: ConvergenceWarning: The max_iter was reached which means the coef_ did not converge\n",
            "  warnings.warn(\n",
            "/usr/local/lib/python3.10/dist-packages/sklearn/linear_model/_sag.py:350: ConvergenceWarning: The max_iter was reached which means the coef_ did not converge\n",
            "  warnings.warn(\n",
            "/usr/local/lib/python3.10/dist-packages/sklearn/linear_model/_sag.py:350: ConvergenceWarning: The max_iter was reached which means the coef_ did not converge\n",
            "  warnings.warn(\n"
          ]
        },
        {
          "output_type": "stream",
          "name": "stdout",
          "text": [
            "solver = saga C = 0.1 iterations = 100 auc = 0.5076562499999999\n",
            "solver = saga C = 0.1 iterations = 200 auc = 0.5043229166666667\n",
            "solver = saga C = 0.19 iterations = 50 auc = 0.5125347222222222\n",
            "solver = saga C = 0.19 iterations = 70 auc = 0.5125173611111111\n"
          ]
        },
        {
          "output_type": "stream",
          "name": "stderr",
          "text": [
            "/usr/local/lib/python3.10/dist-packages/sklearn/linear_model/_sag.py:350: ConvergenceWarning: The max_iter was reached which means the coef_ did not converge\n",
            "  warnings.warn(\n",
            "/usr/local/lib/python3.10/dist-packages/sklearn/linear_model/_sag.py:350: ConvergenceWarning: The max_iter was reached which means the coef_ did not converge\n",
            "  warnings.warn(\n",
            "/usr/local/lib/python3.10/dist-packages/sklearn/linear_model/_sag.py:350: ConvergenceWarning: The max_iter was reached which means the coef_ did not converge\n",
            "  warnings.warn(\n",
            "/usr/local/lib/python3.10/dist-packages/sklearn/linear_model/_sag.py:350: ConvergenceWarning: The max_iter was reached which means the coef_ did not converge\n",
            "  warnings.warn(\n"
          ]
        },
        {
          "output_type": "stream",
          "name": "stdout",
          "text": [
            "solver = saga C = 0.19 iterations = 100 auc = 0.5076562499999999\n",
            "solver = saga C = 0.19 iterations = 200 auc = 0.5043229166666667\n",
            "solver = saga C = 0.28 iterations = 50 auc = 0.5125347222222222\n",
            "solver = saga C = 0.28 iterations = 70 auc = 0.5125173611111111\n"
          ]
        },
        {
          "output_type": "stream",
          "name": "stderr",
          "text": [
            "/usr/local/lib/python3.10/dist-packages/sklearn/linear_model/_sag.py:350: ConvergenceWarning: The max_iter was reached which means the coef_ did not converge\n",
            "  warnings.warn(\n",
            "/usr/local/lib/python3.10/dist-packages/sklearn/linear_model/_sag.py:350: ConvergenceWarning: The max_iter was reached which means the coef_ did not converge\n",
            "  warnings.warn(\n",
            "/usr/local/lib/python3.10/dist-packages/sklearn/linear_model/_sag.py:350: ConvergenceWarning: The max_iter was reached which means the coef_ did not converge\n",
            "  warnings.warn(\n",
            "/usr/local/lib/python3.10/dist-packages/sklearn/linear_model/_sag.py:350: ConvergenceWarning: The max_iter was reached which means the coef_ did not converge\n",
            "  warnings.warn(\n"
          ]
        },
        {
          "output_type": "stream",
          "name": "stdout",
          "text": [
            "solver = saga C = 0.28 iterations = 100 auc = 0.5076562499999999\n",
            "solver = saga C = 0.28 iterations = 200 auc = 0.5043229166666667\n",
            "solver = saga C = 0.37 iterations = 50 auc = 0.5125347222222222\n"
          ]
        },
        {
          "output_type": "stream",
          "name": "stderr",
          "text": [
            "/usr/local/lib/python3.10/dist-packages/sklearn/linear_model/_sag.py:350: ConvergenceWarning: The max_iter was reached which means the coef_ did not converge\n",
            "  warnings.warn(\n",
            "/usr/local/lib/python3.10/dist-packages/sklearn/linear_model/_sag.py:350: ConvergenceWarning: The max_iter was reached which means the coef_ did not converge\n",
            "  warnings.warn(\n",
            "/usr/local/lib/python3.10/dist-packages/sklearn/linear_model/_sag.py:350: ConvergenceWarning: The max_iter was reached which means the coef_ did not converge\n",
            "  warnings.warn(\n",
            "/usr/local/lib/python3.10/dist-packages/sklearn/linear_model/_sag.py:350: ConvergenceWarning: The max_iter was reached which means the coef_ did not converge\n",
            "  warnings.warn(\n"
          ]
        },
        {
          "output_type": "stream",
          "name": "stdout",
          "text": [
            "solver = saga C = 0.37 iterations = 70 auc = 0.5125173611111111\n",
            "solver = saga C = 0.37 iterations = 100 auc = 0.5076562499999999\n",
            "solver = saga C = 0.37 iterations = 200 auc = 0.5043229166666667\n"
          ]
        },
        {
          "output_type": "stream",
          "name": "stderr",
          "text": [
            "/usr/local/lib/python3.10/dist-packages/sklearn/linear_model/_sag.py:350: ConvergenceWarning: The max_iter was reached which means the coef_ did not converge\n",
            "  warnings.warn(\n",
            "/usr/local/lib/python3.10/dist-packages/sklearn/linear_model/_sag.py:350: ConvergenceWarning: The max_iter was reached which means the coef_ did not converge\n",
            "  warnings.warn(\n",
            "/usr/local/lib/python3.10/dist-packages/sklearn/linear_model/_sag.py:350: ConvergenceWarning: The max_iter was reached which means the coef_ did not converge\n",
            "  warnings.warn(\n",
            "/usr/local/lib/python3.10/dist-packages/sklearn/linear_model/_sag.py:350: ConvergenceWarning: The max_iter was reached which means the coef_ did not converge\n",
            "  warnings.warn(\n"
          ]
        },
        {
          "output_type": "stream",
          "name": "stdout",
          "text": [
            "solver = saga C = 0.45999999999999996 iterations = 50 auc = 0.5125347222222222\n",
            "solver = saga C = 0.45999999999999996 iterations = 70 auc = 0.5125173611111111\n",
            "solver = saga C = 0.45999999999999996 iterations = 100 auc = 0.5076562499999999\n"
          ]
        },
        {
          "output_type": "stream",
          "name": "stderr",
          "text": [
            "/usr/local/lib/python3.10/dist-packages/sklearn/linear_model/_sag.py:350: ConvergenceWarning: The max_iter was reached which means the coef_ did not converge\n",
            "  warnings.warn(\n",
            "/usr/local/lib/python3.10/dist-packages/sklearn/linear_model/_sag.py:350: ConvergenceWarning: The max_iter was reached which means the coef_ did not converge\n",
            "  warnings.warn(\n",
            "/usr/local/lib/python3.10/dist-packages/sklearn/linear_model/_sag.py:350: ConvergenceWarning: The max_iter was reached which means the coef_ did not converge\n",
            "  warnings.warn(\n",
            "/usr/local/lib/python3.10/dist-packages/sklearn/linear_model/_sag.py:350: ConvergenceWarning: The max_iter was reached which means the coef_ did not converge\n",
            "  warnings.warn(\n"
          ]
        },
        {
          "output_type": "stream",
          "name": "stdout",
          "text": [
            "solver = saga C = 0.45999999999999996 iterations = 200 auc = 0.5043229166666667\n",
            "solver = saga C = 0.5499999999999999 iterations = 50 auc = 0.5125347222222222\n",
            "solver = saga C = 0.5499999999999999 iterations = 70 auc = 0.5125173611111111\n",
            "solver = saga C = 0.5499999999999999 iterations = 100 auc = 0.5076562499999999\n"
          ]
        },
        {
          "output_type": "stream",
          "name": "stderr",
          "text": [
            "/usr/local/lib/python3.10/dist-packages/sklearn/linear_model/_sag.py:350: ConvergenceWarning: The max_iter was reached which means the coef_ did not converge\n",
            "  warnings.warn(\n",
            "/usr/local/lib/python3.10/dist-packages/sklearn/linear_model/_sag.py:350: ConvergenceWarning: The max_iter was reached which means the coef_ did not converge\n",
            "  warnings.warn(\n",
            "/usr/local/lib/python3.10/dist-packages/sklearn/linear_model/_sag.py:350: ConvergenceWarning: The max_iter was reached which means the coef_ did not converge\n",
            "  warnings.warn(\n",
            "/usr/local/lib/python3.10/dist-packages/sklearn/linear_model/_sag.py:350: ConvergenceWarning: The max_iter was reached which means the coef_ did not converge\n",
            "  warnings.warn(\n"
          ]
        },
        {
          "output_type": "stream",
          "name": "stdout",
          "text": [
            "solver = saga C = 0.5499999999999999 iterations = 200 auc = 0.5043229166666667\n",
            "solver = saga C = 0.64 iterations = 50 auc = 0.5125347222222222\n",
            "solver = saga C = 0.64 iterations = 70 auc = 0.5125173611111111\n",
            "solver = saga C = 0.64 iterations = 100 auc = 0.5076562499999999\n"
          ]
        },
        {
          "output_type": "stream",
          "name": "stderr",
          "text": [
            "/usr/local/lib/python3.10/dist-packages/sklearn/linear_model/_sag.py:350: ConvergenceWarning: The max_iter was reached which means the coef_ did not converge\n",
            "  warnings.warn(\n",
            "/usr/local/lib/python3.10/dist-packages/sklearn/linear_model/_sag.py:350: ConvergenceWarning: The max_iter was reached which means the coef_ did not converge\n",
            "  warnings.warn(\n",
            "/usr/local/lib/python3.10/dist-packages/sklearn/linear_model/_sag.py:350: ConvergenceWarning: The max_iter was reached which means the coef_ did not converge\n",
            "  warnings.warn(\n",
            "/usr/local/lib/python3.10/dist-packages/sklearn/linear_model/_sag.py:350: ConvergenceWarning: The max_iter was reached which means the coef_ did not converge\n",
            "  warnings.warn(\n"
          ]
        },
        {
          "output_type": "stream",
          "name": "stdout",
          "text": [
            "solver = saga C = 0.64 iterations = 200 auc = 0.5043229166666667\n",
            "solver = saga C = 0.73 iterations = 50 auc = 0.5125347222222222\n",
            "solver = saga C = 0.73 iterations = 70 auc = 0.5125173611111111\n",
            "solver = saga C = 0.73 iterations = 100 auc = 0.5076562499999999\n"
          ]
        },
        {
          "output_type": "stream",
          "name": "stderr",
          "text": [
            "/usr/local/lib/python3.10/dist-packages/sklearn/linear_model/_sag.py:350: ConvergenceWarning: The max_iter was reached which means the coef_ did not converge\n",
            "  warnings.warn(\n",
            "/usr/local/lib/python3.10/dist-packages/sklearn/linear_model/_sag.py:350: ConvergenceWarning: The max_iter was reached which means the coef_ did not converge\n",
            "  warnings.warn(\n",
            "/usr/local/lib/python3.10/dist-packages/sklearn/linear_model/_sag.py:350: ConvergenceWarning: The max_iter was reached which means the coef_ did not converge\n",
            "  warnings.warn(\n",
            "/usr/local/lib/python3.10/dist-packages/sklearn/linear_model/_sag.py:350: ConvergenceWarning: The max_iter was reached which means the coef_ did not converge\n",
            "  warnings.warn(\n"
          ]
        },
        {
          "output_type": "stream",
          "name": "stdout",
          "text": [
            "solver = saga C = 0.73 iterations = 200 auc = 0.5043229166666667\n",
            "solver = saga C = 0.82 iterations = 50 auc = 0.5125347222222222\n",
            "solver = saga C = 0.82 iterations = 70 auc = 0.5125173611111111\n",
            "solver = saga C = 0.82 iterations = 100 auc = 0.5076562499999999\n"
          ]
        },
        {
          "output_type": "stream",
          "name": "stderr",
          "text": [
            "/usr/local/lib/python3.10/dist-packages/sklearn/linear_model/_sag.py:350: ConvergenceWarning: The max_iter was reached which means the coef_ did not converge\n",
            "  warnings.warn(\n",
            "/usr/local/lib/python3.10/dist-packages/sklearn/linear_model/_sag.py:350: ConvergenceWarning: The max_iter was reached which means the coef_ did not converge\n",
            "  warnings.warn(\n",
            "/usr/local/lib/python3.10/dist-packages/sklearn/linear_model/_sag.py:350: ConvergenceWarning: The max_iter was reached which means the coef_ did not converge\n",
            "  warnings.warn(\n",
            "/usr/local/lib/python3.10/dist-packages/sklearn/linear_model/_sag.py:350: ConvergenceWarning: The max_iter was reached which means the coef_ did not converge\n",
            "  warnings.warn(\n"
          ]
        },
        {
          "output_type": "stream",
          "name": "stdout",
          "text": [
            "solver = saga C = 0.82 iterations = 200 auc = 0.5043229166666667\n",
            "solver = saga C = 0.9099999999999999 iterations = 50 auc = 0.5125347222222222\n",
            "solver = saga C = 0.9099999999999999 iterations = 70 auc = 0.5125173611111111\n",
            "solver = saga C = 0.9099999999999999 iterations = 100 auc = 0.5076562499999999\n"
          ]
        },
        {
          "output_type": "stream",
          "name": "stderr",
          "text": [
            "/usr/local/lib/python3.10/dist-packages/sklearn/linear_model/_sag.py:350: ConvergenceWarning: The max_iter was reached which means the coef_ did not converge\n",
            "  warnings.warn(\n",
            "/usr/local/lib/python3.10/dist-packages/sklearn/linear_model/_sag.py:350: ConvergenceWarning: The max_iter was reached which means the coef_ did not converge\n",
            "  warnings.warn(\n",
            "/usr/local/lib/python3.10/dist-packages/sklearn/linear_model/_sag.py:350: ConvergenceWarning: The max_iter was reached which means the coef_ did not converge\n",
            "  warnings.warn(\n",
            "/usr/local/lib/python3.10/dist-packages/sklearn/linear_model/_sag.py:350: ConvergenceWarning: The max_iter was reached which means the coef_ did not converge\n",
            "  warnings.warn(\n"
          ]
        },
        {
          "output_type": "stream",
          "name": "stdout",
          "text": [
            "solver = saga C = 0.9099999999999999 iterations = 200 auc = 0.5043229166666667\n",
            "solver = saga C = 1.0 iterations = 50 auc = 0.5125347222222222\n",
            "solver = saga C = 1.0 iterations = 70 auc = 0.5125173611111111\n",
            "solver = saga C = 1.0 iterations = 100 auc = 0.5076562499999999\n",
            "solver = saga C = 1.0 iterations = 200 auc = 0.5043229166666667\n",
            "Best model is:  ['newton-cg', 0.9099999999999999, 50, 0.51625]\n"
          ]
        },
        {
          "output_type": "stream",
          "name": "stderr",
          "text": [
            "/usr/local/lib/python3.10/dist-packages/sklearn/linear_model/_sag.py:350: ConvergenceWarning: The max_iter was reached which means the coef_ did not converge\n",
            "  warnings.warn(\n"
          ]
        }
      ]
    },
    {
      "cell_type": "code",
      "source": [
        "from sklearn.ensemble import RandomForestClassifier"
      ],
      "metadata": {
        "id": "yDIJFqiIwzp6"
      },
      "execution_count": 31,
      "outputs": []
    },
    {
      "cell_type": "code",
      "source": [
        "criterias = ['gini', 'entropy', 'log_loss']\n",
        "estimators = [10, 50, 100, 200, 500]\n",
        "depths = range(1, len(x_train.columns) + 1)\n",
        "\n",
        "best = [0,0,0,0]\n",
        "\n",
        "for criteria in criterias:\n",
        "  for estimator in estimators:\n",
        "    for depth in depths:\n",
        "      dt = RandomForestClassifier(criterion=criteria, n_estimators= estimator, max_depth= depth, random_state = 7)\n",
        "      dt.fit(x_train, y_train)\n",
        "      y_pred = dt.predict_proba(x_test)[:,1]\n",
        "      auc = roc_auc_score(y_test, y_pred)\n",
        "\n",
        "      print(f'Criterion = {criteria} n_estimators = {estimator} max_depth = {depth} auc = {auc}')\n",
        "\n",
        "      if auc > best[3]:\n",
        "        best = [criteria, estimator, depth, auc]\n",
        "\n",
        "print('Best model is: ', best)"
      ],
      "metadata": {
        "colab": {
          "base_uri": "https://localhost:8080/"
        },
        "id": "IZAZlbY3xIcF",
        "outputId": "efd65327-84c8-4e34-9782-4f52083e1b7c"
      },
      "execution_count": 32,
      "outputs": [
        {
          "output_type": "stream",
          "name": "stdout",
          "text": [
            "Criterion = gini n_estimators = 10 max_depth = 1 auc = 0.63765625\n",
            "Criterion = gini n_estimators = 10 max_depth = 2 auc = 0.74703125\n",
            "Criterion = gini n_estimators = 10 max_depth = 3 auc = 0.8107812500000001\n",
            "Criterion = gini n_estimators = 10 max_depth = 4 auc = 0.8325086805555555\n",
            "Criterion = gini n_estimators = 10 max_depth = 5 auc = 0.8501736111111111\n",
            "Criterion = gini n_estimators = 10 max_depth = 6 auc = 0.8614062499999999\n",
            "Criterion = gini n_estimators = 10 max_depth = 7 auc = 0.8720659722222223\n",
            "Criterion = gini n_estimators = 10 max_depth = 8 auc = 0.8564756944444444\n",
            "Criterion = gini n_estimators = 10 max_depth = 9 auc = 0.8592534722222223\n",
            "Criterion = gini n_estimators = 50 max_depth = 1 auc = 0.6553559027777777\n",
            "Criterion = gini n_estimators = 50 max_depth = 2 auc = 0.7708506944444444\n",
            "Criterion = gini n_estimators = 50 max_depth = 3 auc = 0.8425607638888889\n",
            "Criterion = gini n_estimators = 50 max_depth = 4 auc = 0.84671875\n",
            "Criterion = gini n_estimators = 50 max_depth = 5 auc = 0.8584027777777777\n",
            "Criterion = gini n_estimators = 50 max_depth = 6 auc = 0.8736458333333332\n",
            "Criterion = gini n_estimators = 50 max_depth = 7 auc = 0.8745486111111112\n",
            "Criterion = gini n_estimators = 50 max_depth = 8 auc = 0.8830555555555557\n",
            "Criterion = gini n_estimators = 50 max_depth = 9 auc = 0.8821354166666668\n",
            "Criterion = gini n_estimators = 100 max_depth = 1 auc = 0.6637326388888889\n",
            "Criterion = gini n_estimators = 100 max_depth = 2 auc = 0.7661284722222221\n",
            "Criterion = gini n_estimators = 100 max_depth = 3 auc = 0.8389583333333334\n",
            "Criterion = gini n_estimators = 100 max_depth = 4 auc = 0.8530729166666667\n",
            "Criterion = gini n_estimators = 100 max_depth = 5 auc = 0.8615798611111111\n",
            "Criterion = gini n_estimators = 100 max_depth = 6 auc = 0.8739583333333334\n",
            "Criterion = gini n_estimators = 100 max_depth = 7 auc = 0.8746527777777777\n",
            "Criterion = gini n_estimators = 100 max_depth = 8 auc = 0.8829166666666666\n",
            "Criterion = gini n_estimators = 100 max_depth = 9 auc = 0.8822916666666666\n",
            "Criterion = gini n_estimators = 200 max_depth = 1 auc = 0.66234375\n",
            "Criterion = gini n_estimators = 200 max_depth = 2 auc = 0.7602256944444445\n",
            "Criterion = gini n_estimators = 200 max_depth = 3 auc = 0.8381944444444445\n",
            "Criterion = gini n_estimators = 200 max_depth = 4 auc = 0.8555381944444443\n",
            "Criterion = gini n_estimators = 200 max_depth = 5 auc = 0.8653125\n",
            "Criterion = gini n_estimators = 200 max_depth = 6 auc = 0.872517361111111\n",
            "Criterion = gini n_estimators = 200 max_depth = 7 auc = 0.8793576388888888\n",
            "Criterion = gini n_estimators = 200 max_depth = 8 auc = 0.8816145833333334\n",
            "Criterion = gini n_estimators = 200 max_depth = 9 auc = 0.8830555555555555\n",
            "Criterion = gini n_estimators = 500 max_depth = 1 auc = 0.6635503472222222\n",
            "Criterion = gini n_estimators = 500 max_depth = 2 auc = 0.7653472222222223\n",
            "Criterion = gini n_estimators = 500 max_depth = 3 auc = 0.8400520833333333\n",
            "Criterion = gini n_estimators = 500 max_depth = 4 auc = 0.8546701388888889\n",
            "Criterion = gini n_estimators = 500 max_depth = 5 auc = 0.8651041666666667\n",
            "Criterion = gini n_estimators = 500 max_depth = 6 auc = 0.8746354166666667\n",
            "Criterion = gini n_estimators = 500 max_depth = 7 auc = 0.8796875000000001\n",
            "Criterion = gini n_estimators = 500 max_depth = 8 auc = 0.8827604166666667\n",
            "Criterion = gini n_estimators = 500 max_depth = 9 auc = 0.8842361111111111\n",
            "Criterion = entropy n_estimators = 10 max_depth = 1 auc = 0.6500260416666667\n",
            "Criterion = entropy n_estimators = 10 max_depth = 2 auc = 0.7430295138888888\n",
            "Criterion = entropy n_estimators = 10 max_depth = 3 auc = 0.8015711805555554\n",
            "Criterion = entropy n_estimators = 10 max_depth = 4 auc = 0.8424739583333334\n",
            "Criterion = entropy n_estimators = 10 max_depth = 5 auc = 0.8505555555555555\n",
            "Criterion = entropy n_estimators = 10 max_depth = 6 auc = 0.8637673611111112\n",
            "Criterion = entropy n_estimators = 10 max_depth = 7 auc = 0.8706597222222223\n",
            "Criterion = entropy n_estimators = 10 max_depth = 8 auc = 0.866328125\n",
            "Criterion = entropy n_estimators = 10 max_depth = 9 auc = 0.8787152777777778\n",
            "Criterion = entropy n_estimators = 50 max_depth = 1 auc = 0.6584114583333334\n",
            "Criterion = entropy n_estimators = 50 max_depth = 2 auc = 0.7752690972222221\n",
            "Criterion = entropy n_estimators = 50 max_depth = 3 auc = 0.8414930555555555\n",
            "Criterion = entropy n_estimators = 50 max_depth = 4 auc = 0.8590798611111111\n",
            "Criterion = entropy n_estimators = 50 max_depth = 5 auc = 0.8702256944444444\n",
            "Criterion = entropy n_estimators = 50 max_depth = 6 auc = 0.8790972222222222\n",
            "Criterion = entropy n_estimators = 50 max_depth = 7 auc = 0.8859722222222223\n",
            "Criterion = entropy n_estimators = 50 max_depth = 8 auc = 0.8940104166666667\n",
            "Criterion = entropy n_estimators = 50 max_depth = 9 auc = 0.8932812500000001\n",
            "Criterion = entropy n_estimators = 100 max_depth = 1 auc = 0.6669010416666666\n",
            "Criterion = entropy n_estimators = 100 max_depth = 2 auc = 0.7664322916666666\n",
            "Criterion = entropy n_estimators = 100 max_depth = 3 auc = 0.8411805555555555\n",
            "Criterion = entropy n_estimators = 100 max_depth = 4 auc = 0.8613715277777778\n",
            "Criterion = entropy n_estimators = 100 max_depth = 5 auc = 0.8696180555555555\n",
            "Criterion = entropy n_estimators = 100 max_depth = 6 auc = 0.8789756944444445\n",
            "Criterion = entropy n_estimators = 100 max_depth = 7 auc = 0.8830729166666667\n",
            "Criterion = entropy n_estimators = 100 max_depth = 8 auc = 0.8871875\n",
            "Criterion = entropy n_estimators = 100 max_depth = 9 auc = 0.8911979166666667\n",
            "Criterion = entropy n_estimators = 200 max_depth = 1 auc = 0.6637239583333335\n",
            "Criterion = entropy n_estimators = 200 max_depth = 2 auc = 0.7603819444444444\n",
            "Criterion = entropy n_estimators = 200 max_depth = 3 auc = 0.840590277777778\n",
            "Criterion = entropy n_estimators = 200 max_depth = 4 auc = 0.8627604166666667\n",
            "Criterion = entropy n_estimators = 200 max_depth = 5 auc = 0.8717881944444444\n",
            "Criterion = entropy n_estimators = 200 max_depth = 6 auc = 0.8780208333333334\n",
            "Criterion = entropy n_estimators = 200 max_depth = 7 auc = 0.8858680555555555\n",
            "Criterion = entropy n_estimators = 200 max_depth = 8 auc = 0.8888368055555554\n",
            "Criterion = entropy n_estimators = 200 max_depth = 9 auc = 0.8921006944444445\n",
            "Criterion = entropy n_estimators = 500 max_depth = 1 auc = 0.6653993055555556\n",
            "Criterion = entropy n_estimators = 500 max_depth = 2 auc = 0.7648611111111111\n",
            "Criterion = entropy n_estimators = 500 max_depth = 3 auc = 0.8414930555555555\n",
            "Criterion = entropy n_estimators = 500 max_depth = 4 auc = 0.8615277777777777\n",
            "Criterion = entropy n_estimators = 500 max_depth = 5 auc = 0.8701041666666667\n",
            "Criterion = entropy n_estimators = 500 max_depth = 6 auc = 0.8788368055555555\n",
            "Criterion = entropy n_estimators = 500 max_depth = 7 auc = 0.8859548611111111\n",
            "Criterion = entropy n_estimators = 500 max_depth = 8 auc = 0.8883854166666667\n",
            "Criterion = entropy n_estimators = 500 max_depth = 9 auc = 0.892048611111111\n",
            "Criterion = log_loss n_estimators = 10 max_depth = 1 auc = 0.6500260416666667\n",
            "Criterion = log_loss n_estimators = 10 max_depth = 2 auc = 0.7430295138888888\n",
            "Criterion = log_loss n_estimators = 10 max_depth = 3 auc = 0.8015711805555554\n",
            "Criterion = log_loss n_estimators = 10 max_depth = 4 auc = 0.8424739583333334\n",
            "Criterion = log_loss n_estimators = 10 max_depth = 5 auc = 0.8505555555555555\n",
            "Criterion = log_loss n_estimators = 10 max_depth = 6 auc = 0.8637673611111112\n",
            "Criterion = log_loss n_estimators = 10 max_depth = 7 auc = 0.8706597222222223\n",
            "Criterion = log_loss n_estimators = 10 max_depth = 8 auc = 0.866328125\n",
            "Criterion = log_loss n_estimators = 10 max_depth = 9 auc = 0.8787152777777778\n",
            "Criterion = log_loss n_estimators = 50 max_depth = 1 auc = 0.6584114583333334\n",
            "Criterion = log_loss n_estimators = 50 max_depth = 2 auc = 0.7752690972222221\n",
            "Criterion = log_loss n_estimators = 50 max_depth = 3 auc = 0.8414930555555555\n",
            "Criterion = log_loss n_estimators = 50 max_depth = 4 auc = 0.8590798611111111\n",
            "Criterion = log_loss n_estimators = 50 max_depth = 5 auc = 0.8702256944444444\n",
            "Criterion = log_loss n_estimators = 50 max_depth = 6 auc = 0.8790972222222222\n",
            "Criterion = log_loss n_estimators = 50 max_depth = 7 auc = 0.8859722222222223\n",
            "Criterion = log_loss n_estimators = 50 max_depth = 8 auc = 0.8940104166666667\n",
            "Criterion = log_loss n_estimators = 50 max_depth = 9 auc = 0.8932812500000001\n",
            "Criterion = log_loss n_estimators = 100 max_depth = 1 auc = 0.6669010416666666\n",
            "Criterion = log_loss n_estimators = 100 max_depth = 2 auc = 0.7664322916666666\n",
            "Criterion = log_loss n_estimators = 100 max_depth = 3 auc = 0.8411805555555555\n",
            "Criterion = log_loss n_estimators = 100 max_depth = 4 auc = 0.8613715277777778\n",
            "Criterion = log_loss n_estimators = 100 max_depth = 5 auc = 0.8696180555555555\n",
            "Criterion = log_loss n_estimators = 100 max_depth = 6 auc = 0.8789756944444445\n",
            "Criterion = log_loss n_estimators = 100 max_depth = 7 auc = 0.8830729166666667\n",
            "Criterion = log_loss n_estimators = 100 max_depth = 8 auc = 0.8871875\n",
            "Criterion = log_loss n_estimators = 100 max_depth = 9 auc = 0.8911979166666667\n",
            "Criterion = log_loss n_estimators = 200 max_depth = 1 auc = 0.6637239583333335\n",
            "Criterion = log_loss n_estimators = 200 max_depth = 2 auc = 0.7603819444444444\n",
            "Criterion = log_loss n_estimators = 200 max_depth = 3 auc = 0.840590277777778\n",
            "Criterion = log_loss n_estimators = 200 max_depth = 4 auc = 0.8627604166666667\n",
            "Criterion = log_loss n_estimators = 200 max_depth = 5 auc = 0.8717881944444444\n",
            "Criterion = log_loss n_estimators = 200 max_depth = 6 auc = 0.8780208333333334\n",
            "Criterion = log_loss n_estimators = 200 max_depth = 7 auc = 0.8858680555555555\n",
            "Criterion = log_loss n_estimators = 200 max_depth = 8 auc = 0.8888368055555554\n",
            "Criterion = log_loss n_estimators = 200 max_depth = 9 auc = 0.8921006944444445\n",
            "Criterion = log_loss n_estimators = 500 max_depth = 1 auc = 0.6653993055555556\n",
            "Criterion = log_loss n_estimators = 500 max_depth = 2 auc = 0.7648611111111111\n",
            "Criterion = log_loss n_estimators = 500 max_depth = 3 auc = 0.8414930555555555\n",
            "Criterion = log_loss n_estimators = 500 max_depth = 4 auc = 0.8615277777777777\n",
            "Criterion = log_loss n_estimators = 500 max_depth = 5 auc = 0.8701041666666667\n",
            "Criterion = log_loss n_estimators = 500 max_depth = 6 auc = 0.8788368055555555\n",
            "Criterion = log_loss n_estimators = 500 max_depth = 7 auc = 0.8859548611111111\n",
            "Criterion = log_loss n_estimators = 500 max_depth = 8 auc = 0.8883854166666667\n",
            "Criterion = log_loss n_estimators = 500 max_depth = 9 auc = 0.892048611111111\n",
            "Best model is:  ['entropy', 50, 8, 0.8940104166666667]\n"
          ]
        }
      ]
    },
    {
      "cell_type": "code",
      "source": [
        "import xgboost as xgb"
      ],
      "metadata": {
        "id": "GPhiadt8fCbS"
      },
      "execution_count": 33,
      "outputs": []
    },
    {
      "cell_type": "code",
      "source": [
        "features = list(x_train.columns)\n",
        "dtrain = xgb.DMatrix(x_train, label=y_train, feature_names=features)\n",
        "dval = xgb.DMatrix(x_test, label=y_test, feature_names=features)"
      ],
      "metadata": {
        "id": "61-DEazufH7U"
      },
      "execution_count": 34,
      "outputs": []
    },
    {
      "cell_type": "code",
      "source": [
        "etas = np.linspace(0,1,11)\n",
        "estimators = [10, 50, 100, 200, 500]\n",
        "depths = range(1, len(x_train.columns) + 1)\n",
        "best = [0,0,0,0]\n",
        "\n",
        "for eta in etas:\n",
        "  for estimator in estimators:\n",
        "    for depth in depths:\n",
        "      model = xgb.XGBClassifier(n_estimators = estimator, max_depth = depth, learning_rate = eta, random_state = 7)\n",
        "      model.fit(x_train, y_train)\n",
        "      y_pred = model.predict_proba(x_test)[:,1]\n",
        "      auc = roc_auc_score(y_test, y_pred)\n",
        "\n",
        "      print(f'ETA = {eta} n_estimators = {estimator} max_depth = {depth} auc = {auc}')\n",
        "\n",
        "      if auc > best[3]:\n",
        "        best = [eta, estimator, depth, auc]\n",
        "\n",
        "print('Best model is: ', best)"
      ],
      "metadata": {
        "colab": {
          "base_uri": "https://localhost:8080/"
        },
        "id": "teGdCkbPfh1k",
        "outputId": "05342c36-264c-4f0e-d043-201edb88dc00"
      },
      "execution_count": 36,
      "outputs": [
        {
          "output_type": "stream",
          "name": "stdout",
          "text": [
            "ETA = 0.0 n_estimators = 10 max_depth = 1 auc = 0.5\n",
            "ETA = 0.0 n_estimators = 10 max_depth = 2 auc = 0.5\n",
            "ETA = 0.0 n_estimators = 10 max_depth = 3 auc = 0.5\n",
            "ETA = 0.0 n_estimators = 10 max_depth = 4 auc = 0.5\n",
            "ETA = 0.0 n_estimators = 10 max_depth = 5 auc = 0.5\n",
            "ETA = 0.0 n_estimators = 10 max_depth = 6 auc = 0.5\n",
            "ETA = 0.0 n_estimators = 10 max_depth = 7 auc = 0.5\n",
            "ETA = 0.0 n_estimators = 10 max_depth = 8 auc = 0.5\n",
            "ETA = 0.0 n_estimators = 10 max_depth = 9 auc = 0.5\n",
            "ETA = 0.0 n_estimators = 50 max_depth = 1 auc = 0.5\n",
            "ETA = 0.0 n_estimators = 50 max_depth = 2 auc = 0.5\n",
            "ETA = 0.0 n_estimators = 50 max_depth = 3 auc = 0.5\n",
            "ETA = 0.0 n_estimators = 50 max_depth = 4 auc = 0.5\n",
            "ETA = 0.0 n_estimators = 50 max_depth = 5 auc = 0.5\n",
            "ETA = 0.0 n_estimators = 50 max_depth = 6 auc = 0.5\n",
            "ETA = 0.0 n_estimators = 50 max_depth = 7 auc = 0.5\n",
            "ETA = 0.0 n_estimators = 50 max_depth = 8 auc = 0.5\n",
            "ETA = 0.0 n_estimators = 50 max_depth = 9 auc = 0.5\n",
            "ETA = 0.0 n_estimators = 100 max_depth = 1 auc = 0.5\n",
            "ETA = 0.0 n_estimators = 100 max_depth = 2 auc = 0.5\n",
            "ETA = 0.0 n_estimators = 100 max_depth = 3 auc = 0.5\n",
            "ETA = 0.0 n_estimators = 100 max_depth = 4 auc = 0.5\n",
            "ETA = 0.0 n_estimators = 100 max_depth = 5 auc = 0.5\n",
            "ETA = 0.0 n_estimators = 100 max_depth = 6 auc = 0.5\n",
            "ETA = 0.0 n_estimators = 100 max_depth = 7 auc = 0.5\n",
            "ETA = 0.0 n_estimators = 100 max_depth = 8 auc = 0.5\n",
            "ETA = 0.0 n_estimators = 100 max_depth = 9 auc = 0.5\n",
            "ETA = 0.0 n_estimators = 200 max_depth = 1 auc = 0.5\n",
            "ETA = 0.0 n_estimators = 200 max_depth = 2 auc = 0.5\n",
            "ETA = 0.0 n_estimators = 200 max_depth = 3 auc = 0.5\n",
            "ETA = 0.0 n_estimators = 200 max_depth = 4 auc = 0.5\n",
            "ETA = 0.0 n_estimators = 200 max_depth = 5 auc = 0.5\n",
            "ETA = 0.0 n_estimators = 200 max_depth = 6 auc = 0.5\n",
            "ETA = 0.0 n_estimators = 200 max_depth = 7 auc = 0.5\n",
            "ETA = 0.0 n_estimators = 200 max_depth = 8 auc = 0.5\n",
            "ETA = 0.0 n_estimators = 200 max_depth = 9 auc = 0.5\n",
            "ETA = 0.0 n_estimators = 500 max_depth = 1 auc = 0.5\n",
            "ETA = 0.0 n_estimators = 500 max_depth = 2 auc = 0.5\n",
            "ETA = 0.0 n_estimators = 500 max_depth = 3 auc = 0.5\n",
            "ETA = 0.0 n_estimators = 500 max_depth = 4 auc = 0.5\n",
            "ETA = 0.0 n_estimators = 500 max_depth = 5 auc = 0.5\n",
            "ETA = 0.0 n_estimators = 500 max_depth = 6 auc = 0.5\n",
            "ETA = 0.0 n_estimators = 500 max_depth = 7 auc = 0.5\n",
            "ETA = 0.0 n_estimators = 500 max_depth = 8 auc = 0.5\n",
            "ETA = 0.0 n_estimators = 500 max_depth = 9 auc = 0.5\n",
            "ETA = 0.1 n_estimators = 10 max_depth = 1 auc = 0.6575694444444444\n",
            "ETA = 0.1 n_estimators = 10 max_depth = 2 auc = 0.7711197916666668\n",
            "ETA = 0.1 n_estimators = 10 max_depth = 3 auc = 0.8271527777777777\n",
            "ETA = 0.1 n_estimators = 10 max_depth = 4 auc = 0.8538194444444445\n",
            "ETA = 0.1 n_estimators = 10 max_depth = 5 auc = 0.8705208333333333\n",
            "ETA = 0.1 n_estimators = 10 max_depth = 6 auc = 0.8833940972222222\n",
            "ETA = 0.1 n_estimators = 10 max_depth = 7 auc = 0.8786805555555556\n",
            "ETA = 0.1 n_estimators = 10 max_depth = 8 auc = 0.8766232638888888\n",
            "ETA = 0.1 n_estimators = 10 max_depth = 9 auc = 0.8670659722222223\n",
            "ETA = 0.1 n_estimators = 50 max_depth = 1 auc = 0.7105295138888889\n",
            "ETA = 0.1 n_estimators = 50 max_depth = 2 auc = 0.8580815972222221\n",
            "ETA = 0.1 n_estimators = 50 max_depth = 3 auc = 0.8798524305555556\n",
            "ETA = 0.1 n_estimators = 50 max_depth = 4 auc = 0.8894097222222223\n",
            "ETA = 0.1 n_estimators = 50 max_depth = 5 auc = 0.8950520833333334\n",
            "ETA = 0.1 n_estimators = 50 max_depth = 6 auc = 0.8975173611111111\n",
            "ETA = 0.1 n_estimators = 50 max_depth = 7 auc = 0.887170138888889\n",
            "ETA = 0.1 n_estimators = 50 max_depth = 8 auc = 0.8881944444444445\n",
            "ETA = 0.1 n_estimators = 50 max_depth = 9 auc = 0.8909722222222222\n",
            "ETA = 0.1 n_estimators = 100 max_depth = 1 auc = 0.7451822916666667\n",
            "ETA = 0.1 n_estimators = 100 max_depth = 2 auc = 0.8697569444444444\n",
            "ETA = 0.1 n_estimators = 100 max_depth = 3 auc = 0.886545138888889\n",
            "ETA = 0.1 n_estimators = 100 max_depth = 4 auc = 0.8898784722222223\n",
            "ETA = 0.1 n_estimators = 100 max_depth = 5 auc = 0.8956597222222222\n",
            "ETA = 0.1 n_estimators = 100 max_depth = 6 auc = 0.8992881944444444\n",
            "ETA = 0.1 n_estimators = 100 max_depth = 7 auc = 0.892986111111111\n",
            "ETA = 0.1 n_estimators = 100 max_depth = 8 auc = 0.8925694444444444\n",
            "ETA = 0.1 n_estimators = 100 max_depth = 9 auc = 0.8914236111111111\n",
            "ETA = 0.1 n_estimators = 200 max_depth = 1 auc = 0.792092013888889\n",
            "ETA = 0.1 n_estimators = 200 max_depth = 2 auc = 0.8819444444444444\n",
            "ETA = 0.1 n_estimators = 200 max_depth = 3 auc = 0.8891145833333334\n",
            "ETA = 0.1 n_estimators = 200 max_depth = 4 auc = 0.8920138888888889\n",
            "ETA = 0.1 n_estimators = 200 max_depth = 5 auc = 0.8946701388888889\n",
            "ETA = 0.1 n_estimators = 200 max_depth = 6 auc = 0.8981597222222222\n",
            "ETA = 0.1 n_estimators = 200 max_depth = 7 auc = 0.8908854166666667\n",
            "ETA = 0.1 n_estimators = 200 max_depth = 8 auc = 0.8894618055555555\n",
            "ETA = 0.1 n_estimators = 200 max_depth = 9 auc = 0.8891493055555555\n",
            "ETA = 0.1 n_estimators = 500 max_depth = 1 auc = 0.8215364583333333\n",
            "ETA = 0.1 n_estimators = 500 max_depth = 2 auc = 0.8843576388888889\n",
            "ETA = 0.1 n_estimators = 500 max_depth = 3 auc = 0.8927256944444445\n",
            "ETA = 0.1 n_estimators = 500 max_depth = 4 auc = 0.8911979166666666\n",
            "ETA = 0.1 n_estimators = 500 max_depth = 5 auc = 0.8983854166666667\n",
            "ETA = 0.1 n_estimators = 500 max_depth = 6 auc = 0.8944270833333334\n",
            "ETA = 0.1 n_estimators = 500 max_depth = 7 auc = 0.8889930555555555\n",
            "ETA = 0.1 n_estimators = 500 max_depth = 8 auc = 0.8867534722222223\n",
            "ETA = 0.1 n_estimators = 500 max_depth = 9 auc = 0.8843229166666666\n",
            "ETA = 0.2 n_estimators = 10 max_depth = 1 auc = 0.6625173611111111\n",
            "ETA = 0.2 n_estimators = 10 max_depth = 2 auc = 0.8148871527777777\n",
            "ETA = 0.2 n_estimators = 10 max_depth = 3 auc = 0.8742013888888889\n",
            "ETA = 0.2 n_estimators = 10 max_depth = 4 auc = 0.8826041666666667\n",
            "ETA = 0.2 n_estimators = 10 max_depth = 5 auc = 0.8898003472222222\n",
            "ETA = 0.2 n_estimators = 10 max_depth = 6 auc = 0.8906597222222221\n",
            "ETA = 0.2 n_estimators = 10 max_depth = 7 auc = 0.8782204861111111\n",
            "ETA = 0.2 n_estimators = 10 max_depth = 8 auc = 0.8760503472222222\n",
            "ETA = 0.2 n_estimators = 10 max_depth = 9 auc = 0.8672829861111111\n",
            "ETA = 0.2 n_estimators = 50 max_depth = 1 auc = 0.7513368055555556\n",
            "ETA = 0.2 n_estimators = 50 max_depth = 2 auc = 0.8640538194444445\n",
            "ETA = 0.2 n_estimators = 50 max_depth = 3 auc = 0.8942361111111111\n",
            "ETA = 0.2 n_estimators = 50 max_depth = 4 auc = 0.8885416666666668\n",
            "ETA = 0.2 n_estimators = 50 max_depth = 5 auc = 0.8940104166666667\n",
            "ETA = 0.2 n_estimators = 50 max_depth = 6 auc = 0.8989409722222221\n",
            "ETA = 0.2 n_estimators = 50 max_depth = 7 auc = 0.8958333333333334\n",
            "ETA = 0.2 n_estimators = 50 max_depth = 8 auc = 0.8864583333333333\n",
            "ETA = 0.2 n_estimators = 50 max_depth = 9 auc = 0.8798784722222223\n",
            "ETA = 0.2 n_estimators = 100 max_depth = 1 auc = 0.7942708333333334\n",
            "ETA = 0.2 n_estimators = 100 max_depth = 2 auc = 0.8766319444444445\n",
            "ETA = 0.2 n_estimators = 100 max_depth = 3 auc = 0.8937847222222223\n",
            "ETA = 0.2 n_estimators = 100 max_depth = 4 auc = 0.8915451388888889\n",
            "ETA = 0.2 n_estimators = 100 max_depth = 5 auc = 0.8937152777777778\n",
            "ETA = 0.2 n_estimators = 100 max_depth = 6 auc = 0.8993749999999999\n",
            "ETA = 0.2 n_estimators = 100 max_depth = 7 auc = 0.8914756944444444\n",
            "ETA = 0.2 n_estimators = 100 max_depth = 8 auc = 0.8852604166666665\n",
            "ETA = 0.2 n_estimators = 100 max_depth = 9 auc = 0.8828645833333334\n",
            "ETA = 0.2 n_estimators = 200 max_depth = 1 auc = 0.8172135416666667\n",
            "ETA = 0.2 n_estimators = 200 max_depth = 2 auc = 0.8843055555555556\n",
            "ETA = 0.2 n_estimators = 200 max_depth = 3 auc = 0.8943402777777779\n",
            "ETA = 0.2 n_estimators = 200 max_depth = 4 auc = 0.8876215277777778\n",
            "ETA = 0.2 n_estimators = 200 max_depth = 5 auc = 0.8903993055555555\n",
            "ETA = 0.2 n_estimators = 200 max_depth = 6 auc = 0.8963888888888889\n",
            "ETA = 0.2 n_estimators = 200 max_depth = 7 auc = 0.8913715277777778\n",
            "ETA = 0.2 n_estimators = 200 max_depth = 8 auc = 0.8849652777777778\n",
            "ETA = 0.2 n_estimators = 200 max_depth = 9 auc = 0.8840798611111111\n",
            "ETA = 0.2 n_estimators = 500 max_depth = 1 auc = 0.8327517361111112\n",
            "ETA = 0.2 n_estimators = 500 max_depth = 2 auc = 0.8859895833333333\n",
            "ETA = 0.2 n_estimators = 500 max_depth = 3 auc = 0.8907465277777777\n",
            "ETA = 0.2 n_estimators = 500 max_depth = 4 auc = 0.8872569444444445\n",
            "ETA = 0.2 n_estimators = 500 max_depth = 5 auc = 0.8867708333333334\n",
            "ETA = 0.2 n_estimators = 500 max_depth = 6 auc = 0.8933333333333333\n",
            "ETA = 0.2 n_estimators = 500 max_depth = 7 auc = 0.8867881944444445\n",
            "ETA = 0.2 n_estimators = 500 max_depth = 8 auc = 0.8800347222222222\n",
            "ETA = 0.2 n_estimators = 500 max_depth = 9 auc = 0.8824652777777777\n",
            "ETA = 0.30000000000000004 n_estimators = 10 max_depth = 1 auc = 0.7000434027777778\n",
            "ETA = 0.30000000000000004 n_estimators = 10 max_depth = 2 auc = 0.8286805555555555\n",
            "ETA = 0.30000000000000004 n_estimators = 10 max_depth = 3 auc = 0.8637152777777778\n",
            "ETA = 0.30000000000000004 n_estimators = 10 max_depth = 4 auc = 0.8857118055555556\n",
            "ETA = 0.30000000000000004 n_estimators = 10 max_depth = 5 auc = 0.8858333333333335\n",
            "ETA = 0.30000000000000004 n_estimators = 10 max_depth = 6 auc = 0.8901649305555555\n",
            "ETA = 0.30000000000000004 n_estimators = 10 max_depth = 7 auc = 0.8887152777777778\n",
            "ETA = 0.30000000000000004 n_estimators = 10 max_depth = 8 auc = 0.871970486111111\n",
            "ETA = 0.30000000000000004 n_estimators = 10 max_depth = 9 auc = 0.8848524305555556\n",
            "ETA = 0.30000000000000004 n_estimators = 50 max_depth = 1 auc = 0.7709895833333333\n",
            "ETA = 0.30000000000000004 n_estimators = 50 max_depth = 2 auc = 0.8820486111111111\n",
            "ETA = 0.30000000000000004 n_estimators = 50 max_depth = 3 auc = 0.88578125\n",
            "ETA = 0.30000000000000004 n_estimators = 50 max_depth = 4 auc = 0.8880729166666665\n",
            "ETA = 0.30000000000000004 n_estimators = 50 max_depth = 5 auc = 0.8933680555555555\n",
            "ETA = 0.30000000000000004 n_estimators = 50 max_depth = 6 auc = 0.8893055555555555\n",
            "ETA = 0.30000000000000004 n_estimators = 50 max_depth = 7 auc = 0.8869444444444444\n",
            "ETA = 0.30000000000000004 n_estimators = 50 max_depth = 8 auc = 0.8811631944444445\n",
            "ETA = 0.30000000000000004 n_estimators = 50 max_depth = 9 auc = 0.8875\n",
            "ETA = 0.30000000000000004 n_estimators = 100 max_depth = 1 auc = 0.8019010416666666\n",
            "ETA = 0.30000000000000004 n_estimators = 100 max_depth = 2 auc = 0.8882118055555556\n",
            "ETA = 0.30000000000000004 n_estimators = 100 max_depth = 3 auc = 0.8862152777777779\n",
            "ETA = 0.30000000000000004 n_estimators = 100 max_depth = 4 auc = 0.889548611111111\n",
            "ETA = 0.30000000000000004 n_estimators = 100 max_depth = 5 auc = 0.8967013888888888\n",
            "ETA = 0.30000000000000004 n_estimators = 100 max_depth = 6 auc = 0.8929513888888889\n",
            "ETA = 0.30000000000000004 n_estimators = 100 max_depth = 7 auc = 0.8911979166666667\n",
            "ETA = 0.30000000000000004 n_estimators = 100 max_depth = 8 auc = 0.8791319444444444\n",
            "ETA = 0.30000000000000004 n_estimators = 100 max_depth = 9 auc = 0.88671875\n",
            "ETA = 0.30000000000000004 n_estimators = 200 max_depth = 1 auc = 0.823203125\n",
            "ETA = 0.30000000000000004 n_estimators = 200 max_depth = 2 auc = 0.89015625\n",
            "ETA = 0.30000000000000004 n_estimators = 200 max_depth = 3 auc = 0.8813541666666667\n",
            "ETA = 0.30000000000000004 n_estimators = 200 max_depth = 4 auc = 0.8914930555555556\n",
            "ETA = 0.30000000000000004 n_estimators = 200 max_depth = 5 auc = 0.8947743055555555\n",
            "ETA = 0.30000000000000004 n_estimators = 200 max_depth = 6 auc = 0.8875868055555556\n",
            "ETA = 0.30000000000000004 n_estimators = 200 max_depth = 7 auc = 0.8888715277777777\n",
            "ETA = 0.30000000000000004 n_estimators = 200 max_depth = 8 auc = 0.8792187499999999\n",
            "ETA = 0.30000000000000004 n_estimators = 200 max_depth = 9 auc = 0.8865798611111112\n",
            "ETA = 0.30000000000000004 n_estimators = 500 max_depth = 1 auc = 0.8426562500000001\n",
            "ETA = 0.30000000000000004 n_estimators = 500 max_depth = 2 auc = 0.8909722222222223\n",
            "ETA = 0.30000000000000004 n_estimators = 500 max_depth = 3 auc = 0.8903993055555557\n",
            "ETA = 0.30000000000000004 n_estimators = 500 max_depth = 4 auc = 0.8864236111111111\n",
            "ETA = 0.30000000000000004 n_estimators = 500 max_depth = 5 auc = 0.8879861111111111\n",
            "ETA = 0.30000000000000004 n_estimators = 500 max_depth = 6 auc = 0.8790451388888888\n",
            "ETA = 0.30000000000000004 n_estimators = 500 max_depth = 7 auc = 0.8835243055555556\n",
            "ETA = 0.30000000000000004 n_estimators = 500 max_depth = 8 auc = 0.8795659722222222\n",
            "ETA = 0.30000000000000004 n_estimators = 500 max_depth = 9 auc = 0.8825347222222222\n",
            "ETA = 0.4 n_estimators = 10 max_depth = 1 auc = 0.72296875\n",
            "ETA = 0.4 n_estimators = 10 max_depth = 2 auc = 0.8595659722222222\n",
            "ETA = 0.4 n_estimators = 10 max_depth = 3 auc = 0.8755208333333333\n",
            "ETA = 0.4 n_estimators = 10 max_depth = 4 auc = 0.8886805555555555\n",
            "ETA = 0.4 n_estimators = 10 max_depth = 5 auc = 0.8859722222222223\n",
            "ETA = 0.4 n_estimators = 10 max_depth = 6 auc = 0.8897395833333334\n",
            "ETA = 0.4 n_estimators = 10 max_depth = 7 auc = 0.882170138888889\n",
            "ETA = 0.4 n_estimators = 10 max_depth = 8 auc = 0.8784375\n",
            "ETA = 0.4 n_estimators = 10 max_depth = 9 auc = 0.87609375\n",
            "ETA = 0.4 n_estimators = 50 max_depth = 1 auc = 0.7991319444444445\n",
            "ETA = 0.4 n_estimators = 50 max_depth = 2 auc = 0.88625\n",
            "ETA = 0.4 n_estimators = 50 max_depth = 3 auc = 0.8940798611111112\n",
            "ETA = 0.4 n_estimators = 50 max_depth = 4 auc = 0.8834722222222222\n",
            "ETA = 0.4 n_estimators = 50 max_depth = 5 auc = 0.8893055555555556\n",
            "ETA = 0.4 n_estimators = 50 max_depth = 6 auc = 0.8921354166666666\n",
            "ETA = 0.4 n_estimators = 50 max_depth = 7 auc = 0.8917708333333334\n",
            "ETA = 0.4 n_estimators = 50 max_depth = 8 auc = 0.88203125\n",
            "ETA = 0.4 n_estimators = 50 max_depth = 9 auc = 0.8860590277777778\n",
            "ETA = 0.4 n_estimators = 100 max_depth = 1 auc = 0.8166753472222222\n",
            "ETA = 0.4 n_estimators = 100 max_depth = 2 auc = 0.8855729166666667\n",
            "ETA = 0.4 n_estimators = 100 max_depth = 3 auc = 0.8935243055555555\n",
            "ETA = 0.4 n_estimators = 100 max_depth = 4 auc = 0.8856423611111112\n",
            "ETA = 0.4 n_estimators = 100 max_depth = 5 auc = 0.8844618055555554\n",
            "ETA = 0.4 n_estimators = 100 max_depth = 6 auc = 0.8925173611111111\n",
            "ETA = 0.4 n_estimators = 100 max_depth = 7 auc = 0.8875347222222222\n",
            "ETA = 0.4 n_estimators = 100 max_depth = 8 auc = 0.8814930555555556\n",
            "ETA = 0.4 n_estimators = 100 max_depth = 9 auc = 0.8828819444444443\n",
            "ETA = 0.4 n_estimators = 200 max_depth = 1 auc = 0.8305208333333334\n",
            "ETA = 0.4 n_estimators = 200 max_depth = 2 auc = 0.88625\n",
            "ETA = 0.4 n_estimators = 200 max_depth = 3 auc = 0.8950868055555555\n",
            "ETA = 0.4 n_estimators = 200 max_depth = 4 auc = 0.8878298611111112\n",
            "ETA = 0.4 n_estimators = 200 max_depth = 5 auc = 0.8908506944444444\n",
            "ETA = 0.4 n_estimators = 200 max_depth = 6 auc = 0.8879166666666667\n",
            "ETA = 0.4 n_estimators = 200 max_depth = 7 auc = 0.8867881944444445\n",
            "ETA = 0.4 n_estimators = 200 max_depth = 8 auc = 0.8810763888888888\n",
            "ETA = 0.4 n_estimators = 200 max_depth = 9 auc = 0.8823263888888888\n",
            "ETA = 0.4 n_estimators = 500 max_depth = 1 auc = 0.8442013888888888\n",
            "ETA = 0.4 n_estimators = 500 max_depth = 2 auc = 0.8901041666666667\n",
            "ETA = 0.4 n_estimators = 500 max_depth = 3 auc = 0.8852083333333333\n",
            "ETA = 0.4 n_estimators = 500 max_depth = 4 auc = 0.8888368055555556\n",
            "ETA = 0.4 n_estimators = 500 max_depth = 5 auc = 0.8862673611111112\n",
            "ETA = 0.4 n_estimators = 500 max_depth = 6 auc = 0.8838541666666666\n",
            "ETA = 0.4 n_estimators = 500 max_depth = 7 auc = 0.8826736111111111\n",
            "ETA = 0.4 n_estimators = 500 max_depth = 8 auc = 0.8810243055555556\n",
            "ETA = 0.4 n_estimators = 500 max_depth = 9 auc = 0.8790625000000001\n",
            "ETA = 0.5 n_estimators = 10 max_depth = 1 auc = 0.7004427083333333\n",
            "ETA = 0.5 n_estimators = 10 max_depth = 2 auc = 0.853064236111111\n",
            "ETA = 0.5 n_estimators = 10 max_depth = 3 auc = 0.8833072916666667\n",
            "ETA = 0.5 n_estimators = 10 max_depth = 4 auc = 0.890642361111111\n",
            "ETA = 0.5 n_estimators = 10 max_depth = 5 auc = 0.8883767361111112\n",
            "ETA = 0.5 n_estimators = 10 max_depth = 6 auc = 0.8969618055555556\n",
            "ETA = 0.5 n_estimators = 10 max_depth = 7 auc = 0.8879427083333332\n",
            "ETA = 0.5 n_estimators = 10 max_depth = 8 auc = 0.8631944444444444\n",
            "ETA = 0.5 n_estimators = 10 max_depth = 9 auc = 0.8804166666666667\n",
            "ETA = 0.5 n_estimators = 50 max_depth = 1 auc = 0.8060850694444445\n",
            "ETA = 0.5 n_estimators = 50 max_depth = 2 auc = 0.8803819444444445\n",
            "ETA = 0.5 n_estimators = 50 max_depth = 3 auc = 0.8915972222222222\n",
            "ETA = 0.5 n_estimators = 50 max_depth = 4 auc = 0.8899131944444445\n",
            "ETA = 0.5 n_estimators = 50 max_depth = 5 auc = 0.8742708333333332\n",
            "ETA = 0.5 n_estimators = 50 max_depth = 6 auc = 0.8973784722222221\n",
            "ETA = 0.5 n_estimators = 50 max_depth = 7 auc = 0.882482638888889\n",
            "ETA = 0.5 n_estimators = 50 max_depth = 8 auc = 0.8713020833333333\n",
            "ETA = 0.5 n_estimators = 50 max_depth = 9 auc = 0.8870833333333332\n",
            "ETA = 0.5 n_estimators = 100 max_depth = 1 auc = 0.8184722222222223\n",
            "ETA = 0.5 n_estimators = 100 max_depth = 2 auc = 0.8849131944444445\n",
            "ETA = 0.5 n_estimators = 100 max_depth = 3 auc = 0.8862326388888889\n",
            "ETA = 0.5 n_estimators = 100 max_depth = 4 auc = 0.8891145833333333\n",
            "ETA = 0.5 n_estimators = 100 max_depth = 5 auc = 0.8805381944444445\n",
            "ETA = 0.5 n_estimators = 100 max_depth = 6 auc = 0.8940798611111112\n",
            "ETA = 0.5 n_estimators = 100 max_depth = 7 auc = 0.8789583333333333\n",
            "ETA = 0.5 n_estimators = 100 max_depth = 8 auc = 0.8695312500000001\n",
            "ETA = 0.5 n_estimators = 100 max_depth = 9 auc = 0.8819097222222223\n",
            "ETA = 0.5 n_estimators = 200 max_depth = 1 auc = 0.8328906250000001\n",
            "ETA = 0.5 n_estimators = 200 max_depth = 2 auc = 0.8843923611111111\n",
            "ETA = 0.5 n_estimators = 200 max_depth = 3 auc = 0.8846180555555555\n",
            "ETA = 0.5 n_estimators = 200 max_depth = 4 auc = 0.8908506944444444\n",
            "ETA = 0.5 n_estimators = 200 max_depth = 5 auc = 0.8796875\n",
            "ETA = 0.5 n_estimators = 200 max_depth = 6 auc = 0.8947569444444444\n",
            "ETA = 0.5 n_estimators = 200 max_depth = 7 auc = 0.8765451388888889\n",
            "ETA = 0.5 n_estimators = 200 max_depth = 8 auc = 0.8719965277777778\n",
            "ETA = 0.5 n_estimators = 200 max_depth = 9 auc = 0.8816145833333333\n",
            "ETA = 0.5 n_estimators = 500 max_depth = 1 auc = 0.8444270833333332\n",
            "ETA = 0.5 n_estimators = 500 max_depth = 2 auc = 0.8827256944444444\n",
            "ETA = 0.5 n_estimators = 500 max_depth = 3 auc = 0.8884722222222222\n",
            "ETA = 0.5 n_estimators = 500 max_depth = 4 auc = 0.8855034722222221\n",
            "ETA = 0.5 n_estimators = 500 max_depth = 5 auc = 0.8763715277777778\n",
            "ETA = 0.5 n_estimators = 500 max_depth = 6 auc = 0.8902256944444444\n",
            "ETA = 0.5 n_estimators = 500 max_depth = 7 auc = 0.8731423611111111\n",
            "ETA = 0.5 n_estimators = 500 max_depth = 8 auc = 0.8710590277777778\n",
            "ETA = 0.5 n_estimators = 500 max_depth = 9 auc = 0.8823784722222222\n",
            "ETA = 0.6000000000000001 n_estimators = 10 max_depth = 1 auc = 0.7099131944444445\n",
            "ETA = 0.6000000000000001 n_estimators = 10 max_depth = 2 auc = 0.8614236111111111\n",
            "ETA = 0.6000000000000001 n_estimators = 10 max_depth = 3 auc = 0.8801128472222222\n",
            "ETA = 0.6000000000000001 n_estimators = 10 max_depth = 4 auc = 0.8794791666666666\n",
            "ETA = 0.6000000000000001 n_estimators = 10 max_depth = 5 auc = 0.8905208333333334\n",
            "ETA = 0.6000000000000001 n_estimators = 10 max_depth = 6 auc = 0.8781597222222222\n",
            "ETA = 0.6000000000000001 n_estimators = 10 max_depth = 7 auc = 0.8878211805555556\n",
            "ETA = 0.6000000000000001 n_estimators = 10 max_depth = 8 auc = 0.8675694444444443\n",
            "ETA = 0.6000000000000001 n_estimators = 10 max_depth = 9 auc = 0.8723263888888889\n",
            "ETA = 0.6000000000000001 n_estimators = 50 max_depth = 1 auc = 0.8088194444444445\n",
            "ETA = 0.6000000000000001 n_estimators = 50 max_depth = 2 auc = 0.8855902777777778\n",
            "ETA = 0.6000000000000001 n_estimators = 50 max_depth = 3 auc = 0.8838020833333333\n",
            "ETA = 0.6000000000000001 n_estimators = 50 max_depth = 4 auc = 0.8787847222222223\n",
            "ETA = 0.6000000000000001 n_estimators = 50 max_depth = 5 auc = 0.8873263888888889\n",
            "ETA = 0.6000000000000001 n_estimators = 50 max_depth = 6 auc = 0.8825520833333333\n",
            "ETA = 0.6000000000000001 n_estimators = 50 max_depth = 7 auc = 0.8884895833333334\n",
            "ETA = 0.6000000000000001 n_estimators = 50 max_depth = 8 auc = 0.8811284722222221\n",
            "ETA = 0.6000000000000001 n_estimators = 50 max_depth = 9 auc = 0.8842187499999999\n",
            "ETA = 0.6000000000000001 n_estimators = 100 max_depth = 1 auc = 0.8345572916666666\n",
            "ETA = 0.6000000000000001 n_estimators = 100 max_depth = 2 auc = 0.8899999999999999\n",
            "ETA = 0.6000000000000001 n_estimators = 100 max_depth = 3 auc = 0.8776909722222224\n",
            "ETA = 0.6000000000000001 n_estimators = 100 max_depth = 4 auc = 0.8826388888888889\n",
            "ETA = 0.6000000000000001 n_estimators = 100 max_depth = 5 auc = 0.88171875\n",
            "ETA = 0.6000000000000001 n_estimators = 100 max_depth = 6 auc = 0.8841493055555556\n",
            "ETA = 0.6000000000000001 n_estimators = 100 max_depth = 7 auc = 0.8865104166666666\n",
            "ETA = 0.6000000000000001 n_estimators = 100 max_depth = 8 auc = 0.8790625\n",
            "ETA = 0.6000000000000001 n_estimators = 100 max_depth = 9 auc = 0.8849826388888888\n",
            "ETA = 0.6000000000000001 n_estimators = 200 max_depth = 1 auc = 0.8382552083333334\n",
            "ETA = 0.6000000000000001 n_estimators = 200 max_depth = 2 auc = 0.8837326388888889\n",
            "ETA = 0.6000000000000001 n_estimators = 200 max_depth = 3 auc = 0.8782291666666667\n",
            "ETA = 0.6000000000000001 n_estimators = 200 max_depth = 4 auc = 0.8868923611111111\n",
            "ETA = 0.6000000000000001 n_estimators = 200 max_depth = 5 auc = 0.8790625\n",
            "ETA = 0.6000000000000001 n_estimators = 200 max_depth = 6 auc = 0.8783680555555555\n",
            "ETA = 0.6000000000000001 n_estimators = 200 max_depth = 7 auc = 0.8868576388888889\n",
            "ETA = 0.6000000000000001 n_estimators = 200 max_depth = 8 auc = 0.8794965277777779\n",
            "ETA = 0.6000000000000001 n_estimators = 200 max_depth = 9 auc = 0.884375\n",
            "ETA = 0.6000000000000001 n_estimators = 500 max_depth = 1 auc = 0.844826388888889\n",
            "ETA = 0.6000000000000001 n_estimators = 500 max_depth = 2 auc = 0.88296875\n",
            "ETA = 0.6000000000000001 n_estimators = 500 max_depth = 3 auc = 0.8743402777777778\n",
            "ETA = 0.6000000000000001 n_estimators = 500 max_depth = 4 auc = 0.8819791666666666\n",
            "ETA = 0.6000000000000001 n_estimators = 500 max_depth = 5 auc = 0.8780208333333334\n",
            "ETA = 0.6000000000000001 n_estimators = 500 max_depth = 6 auc = 0.8790104166666665\n",
            "ETA = 0.6000000000000001 n_estimators = 500 max_depth = 7 auc = 0.8858333333333334\n",
            "ETA = 0.6000000000000001 n_estimators = 500 max_depth = 8 auc = 0.8781423611111111\n",
            "ETA = 0.6000000000000001 n_estimators = 500 max_depth = 9 auc = 0.8833854166666667\n",
            "ETA = 0.7000000000000001 n_estimators = 10 max_depth = 1 auc = 0.7278472222222223\n",
            "ETA = 0.7000000000000001 n_estimators = 10 max_depth = 2 auc = 0.8321527777777777\n",
            "ETA = 0.7000000000000001 n_estimators = 10 max_depth = 3 auc = 0.8938715277777778\n",
            "ETA = 0.7000000000000001 n_estimators = 10 max_depth = 4 auc = 0.8831336805555555\n",
            "ETA = 0.7000000000000001 n_estimators = 10 max_depth = 5 auc = 0.8831857638888889\n",
            "ETA = 0.7000000000000001 n_estimators = 10 max_depth = 6 auc = 0.8829166666666667\n",
            "ETA = 0.7000000000000001 n_estimators = 10 max_depth = 7 auc = 0.8769791666666666\n",
            "ETA = 0.7000000000000001 n_estimators = 10 max_depth = 8 auc = 0.8719270833333335\n",
            "ETA = 0.7000000000000001 n_estimators = 10 max_depth = 9 auc = 0.866796875\n",
            "ETA = 0.7000000000000001 n_estimators = 50 max_depth = 1 auc = 0.8151822916666667\n",
            "ETA = 0.7000000000000001 n_estimators = 50 max_depth = 2 auc = 0.8866145833333333\n",
            "ETA = 0.7000000000000001 n_estimators = 50 max_depth = 3 auc = 0.8861979166666667\n",
            "ETA = 0.7000000000000001 n_estimators = 50 max_depth = 4 auc = 0.8697916666666667\n",
            "ETA = 0.7000000000000001 n_estimators = 50 max_depth = 5 auc = 0.8730555555555556\n",
            "ETA = 0.7000000000000001 n_estimators = 50 max_depth = 6 auc = 0.8859895833333333\n",
            "ETA = 0.7000000000000001 n_estimators = 50 max_depth = 7 auc = 0.8795659722222222\n",
            "ETA = 0.7000000000000001 n_estimators = 50 max_depth = 8 auc = 0.8784895833333334\n",
            "ETA = 0.7000000000000001 n_estimators = 50 max_depth = 9 auc = 0.8771354166666667\n",
            "ETA = 0.7000000000000001 n_estimators = 100 max_depth = 1 auc = 0.8323177083333333\n",
            "ETA = 0.7000000000000001 n_estimators = 100 max_depth = 2 auc = 0.8882638888888889\n",
            "ETA = 0.7000000000000001 n_estimators = 100 max_depth = 3 auc = 0.8827951388888888\n",
            "ETA = 0.7000000000000001 n_estimators = 100 max_depth = 4 auc = 0.8792708333333333\n",
            "ETA = 0.7000000000000001 n_estimators = 100 max_depth = 5 auc = 0.87171875\n",
            "ETA = 0.7000000000000001 n_estimators = 100 max_depth = 6 auc = 0.8828472222222222\n",
            "ETA = 0.7000000000000001 n_estimators = 100 max_depth = 7 auc = 0.877361111111111\n",
            "ETA = 0.7000000000000001 n_estimators = 100 max_depth = 8 auc = 0.8733506944444444\n",
            "ETA = 0.7000000000000001 n_estimators = 100 max_depth = 9 auc = 0.8769965277777779\n",
            "ETA = 0.7000000000000001 n_estimators = 200 max_depth = 1 auc = 0.8429687499999999\n",
            "ETA = 0.7000000000000001 n_estimators = 200 max_depth = 2 auc = 0.8920486111111112\n",
            "ETA = 0.7000000000000001 n_estimators = 200 max_depth = 3 auc = 0.8857118055555556\n",
            "ETA = 0.7000000000000001 n_estimators = 200 max_depth = 4 auc = 0.8822222222222222\n",
            "ETA = 0.7000000000000001 n_estimators = 200 max_depth = 5 auc = 0.8686805555555555\n",
            "ETA = 0.7000000000000001 n_estimators = 200 max_depth = 6 auc = 0.88046875\n",
            "ETA = 0.7000000000000001 n_estimators = 200 max_depth = 7 auc = 0.8755729166666666\n",
            "ETA = 0.7000000000000001 n_estimators = 200 max_depth = 8 auc = 0.8738715277777779\n",
            "ETA = 0.7000000000000001 n_estimators = 200 max_depth = 9 auc = 0.877170138888889\n",
            "ETA = 0.7000000000000001 n_estimators = 500 max_depth = 1 auc = 0.8422569444444444\n",
            "ETA = 0.7000000000000001 n_estimators = 500 max_depth = 2 auc = 0.8820312499999999\n",
            "ETA = 0.7000000000000001 n_estimators = 500 max_depth = 3 auc = 0.8780381944444444\n",
            "ETA = 0.7000000000000001 n_estimators = 500 max_depth = 4 auc = 0.875625\n",
            "ETA = 0.7000000000000001 n_estimators = 500 max_depth = 5 auc = 0.8673784722222223\n",
            "ETA = 0.7000000000000001 n_estimators = 500 max_depth = 6 auc = 0.8794270833333333\n",
            "ETA = 0.7000000000000001 n_estimators = 500 max_depth = 7 auc = 0.8764583333333333\n",
            "ETA = 0.7000000000000001 n_estimators = 500 max_depth = 8 auc = 0.8760763888888888\n",
            "ETA = 0.7000000000000001 n_estimators = 500 max_depth = 9 auc = 0.8789583333333333\n",
            "ETA = 0.8 n_estimators = 10 max_depth = 1 auc = 0.7434548611111111\n",
            "ETA = 0.8 n_estimators = 10 max_depth = 2 auc = 0.8264409722222221\n",
            "ETA = 0.8 n_estimators = 10 max_depth = 3 auc = 0.8811718749999999\n",
            "ETA = 0.8 n_estimators = 10 max_depth = 4 auc = 0.8775173611111111\n",
            "ETA = 0.8 n_estimators = 10 max_depth = 5 auc = 0.876796875\n",
            "ETA = 0.8 n_estimators = 10 max_depth = 6 auc = 0.8889930555555556\n",
            "ETA = 0.8 n_estimators = 10 max_depth = 7 auc = 0.8777083333333333\n",
            "ETA = 0.8 n_estimators = 10 max_depth = 8 auc = 0.8701909722222222\n",
            "ETA = 0.8 n_estimators = 10 max_depth = 9 auc = 0.8686805555555556\n",
            "ETA = 0.8 n_estimators = 50 max_depth = 1 auc = 0.8102083333333333\n",
            "ETA = 0.8 n_estimators = 50 max_depth = 2 auc = 0.8734027777777778\n",
            "ETA = 0.8 n_estimators = 50 max_depth = 3 auc = 0.8939409722222222\n",
            "ETA = 0.8 n_estimators = 50 max_depth = 4 auc = 0.8728645833333334\n",
            "ETA = 0.8 n_estimators = 50 max_depth = 5 auc = 0.8684375\n",
            "ETA = 0.8 n_estimators = 50 max_depth = 6 auc = 0.8901909722222222\n",
            "ETA = 0.8 n_estimators = 50 max_depth = 7 auc = 0.8764583333333333\n",
            "ETA = 0.8 n_estimators = 50 max_depth = 8 auc = 0.8865104166666666\n",
            "ETA = 0.8 n_estimators = 50 max_depth = 9 auc = 0.8732638888888888\n",
            "ETA = 0.8 n_estimators = 100 max_depth = 1 auc = 0.8305295138888888\n",
            "ETA = 0.8 n_estimators = 100 max_depth = 2 auc = 0.8753819444444444\n",
            "ETA = 0.8 n_estimators = 100 max_depth = 3 auc = 0.8925\n",
            "ETA = 0.8 n_estimators = 100 max_depth = 4 auc = 0.8748611111111111\n",
            "ETA = 0.8 n_estimators = 100 max_depth = 5 auc = 0.8679340277777777\n",
            "ETA = 0.8 n_estimators = 100 max_depth = 6 auc = 0.8866840277777777\n",
            "ETA = 0.8 n_estimators = 100 max_depth = 7 auc = 0.8752256944444444\n",
            "ETA = 0.8 n_estimators = 100 max_depth = 8 auc = 0.8828645833333333\n",
            "ETA = 0.8 n_estimators = 100 max_depth = 9 auc = 0.8709895833333334\n",
            "ETA = 0.8 n_estimators = 200 max_depth = 1 auc = 0.8412152777777778\n",
            "ETA = 0.8 n_estimators = 200 max_depth = 2 auc = 0.8782118055555556\n",
            "ETA = 0.8 n_estimators = 200 max_depth = 3 auc = 0.8826909722222223\n",
            "ETA = 0.8 n_estimators = 200 max_depth = 4 auc = 0.8791145833333334\n",
            "ETA = 0.8 n_estimators = 200 max_depth = 5 auc = 0.8720486111111112\n",
            "ETA = 0.8 n_estimators = 200 max_depth = 6 auc = 0.8853125000000002\n",
            "ETA = 0.8 n_estimators = 200 max_depth = 7 auc = 0.8738368055555557\n",
            "ETA = 0.8 n_estimators = 200 max_depth = 8 auc = 0.8807465277777777\n",
            "ETA = 0.8 n_estimators = 200 max_depth = 9 auc = 0.87359375\n",
            "ETA = 0.8 n_estimators = 500 max_depth = 1 auc = 0.83578125\n",
            "ETA = 0.8 n_estimators = 500 max_depth = 2 auc = 0.8819965277777777\n",
            "ETA = 0.8 n_estimators = 500 max_depth = 3 auc = 0.8752256944444444\n",
            "ETA = 0.8 n_estimators = 500 max_depth = 4 auc = 0.8816493055555554\n",
            "ETA = 0.8 n_estimators = 500 max_depth = 5 auc = 0.8728125\n",
            "ETA = 0.8 n_estimators = 500 max_depth = 6 auc = 0.8859201388888889\n",
            "ETA = 0.8 n_estimators = 500 max_depth = 7 auc = 0.8771180555555556\n",
            "ETA = 0.8 n_estimators = 500 max_depth = 8 auc = 0.88109375\n",
            "ETA = 0.8 n_estimators = 500 max_depth = 9 auc = 0.8751909722222222\n",
            "ETA = 0.9 n_estimators = 10 max_depth = 1 auc = 0.7473784722222222\n",
            "ETA = 0.9 n_estimators = 10 max_depth = 2 auc = 0.8707812500000001\n",
            "ETA = 0.9 n_estimators = 10 max_depth = 3 auc = 0.8685416666666667\n",
            "ETA = 0.9 n_estimators = 10 max_depth = 4 auc = 0.8787760416666667\n",
            "ETA = 0.9 n_estimators = 10 max_depth = 5 auc = 0.8765711805555555\n",
            "ETA = 0.9 n_estimators = 10 max_depth = 6 auc = 0.86859375\n",
            "ETA = 0.9 n_estimators = 10 max_depth = 7 auc = 0.8623263888888889\n",
            "ETA = 0.9 n_estimators = 10 max_depth = 8 auc = 0.858923611111111\n",
            "ETA = 0.9 n_estimators = 10 max_depth = 9 auc = 0.8627430555555555\n",
            "ETA = 0.9 n_estimators = 50 max_depth = 1 auc = 0.8211284722222221\n",
            "ETA = 0.9 n_estimators = 50 max_depth = 2 auc = 0.8806770833333334\n",
            "ETA = 0.9 n_estimators = 50 max_depth = 3 auc = 0.8841493055555555\n",
            "ETA = 0.9 n_estimators = 50 max_depth = 4 auc = 0.8776736111111111\n",
            "ETA = 0.9 n_estimators = 50 max_depth = 5 auc = 0.8742187499999999\n",
            "ETA = 0.9 n_estimators = 50 max_depth = 6 auc = 0.8682465277777779\n",
            "ETA = 0.9 n_estimators = 50 max_depth = 7 auc = 0.8807465277777777\n",
            "ETA = 0.9 n_estimators = 50 max_depth = 8 auc = 0.8739756944444445\n",
            "ETA = 0.9 n_estimators = 50 max_depth = 9 auc = 0.8670920138888889\n",
            "ETA = 0.9 n_estimators = 100 max_depth = 1 auc = 0.83734375\n",
            "ETA = 0.9 n_estimators = 100 max_depth = 2 auc = 0.8846527777777777\n",
            "ETA = 0.9 n_estimators = 100 max_depth = 3 auc = 0.8750868055555555\n",
            "ETA = 0.9 n_estimators = 100 max_depth = 4 auc = 0.8759027777777778\n",
            "ETA = 0.9 n_estimators = 100 max_depth = 5 auc = 0.8783854166666667\n",
            "ETA = 0.9 n_estimators = 100 max_depth = 6 auc = 0.8702604166666666\n",
            "ETA = 0.9 n_estimators = 100 max_depth = 7 auc = 0.88078125\n",
            "ETA = 0.9 n_estimators = 100 max_depth = 8 auc = 0.8763368055555556\n",
            "ETA = 0.9 n_estimators = 100 max_depth = 9 auc = 0.8701736111111111\n",
            "ETA = 0.9 n_estimators = 200 max_depth = 1 auc = 0.8434722222222222\n",
            "ETA = 0.9 n_estimators = 200 max_depth = 2 auc = 0.8851736111111111\n",
            "ETA = 0.9 n_estimators = 200 max_depth = 3 auc = 0.8766840277777779\n",
            "ETA = 0.9 n_estimators = 200 max_depth = 4 auc = 0.8749305555555555\n",
            "ETA = 0.9 n_estimators = 200 max_depth = 5 auc = 0.8766493055555556\n",
            "ETA = 0.9 n_estimators = 200 max_depth = 6 auc = 0.8702777777777777\n",
            "ETA = 0.9 n_estimators = 200 max_depth = 7 auc = 0.8806944444444443\n",
            "ETA = 0.9 n_estimators = 200 max_depth = 8 auc = 0.8750173611111111\n",
            "ETA = 0.9 n_estimators = 200 max_depth = 9 auc = 0.86953125\n",
            "ETA = 0.9 n_estimators = 500 max_depth = 1 auc = 0.836579861111111\n",
            "ETA = 0.9 n_estimators = 500 max_depth = 2 auc = 0.8781944444444444\n",
            "ETA = 0.9 n_estimators = 500 max_depth = 3 auc = 0.8777083333333334\n",
            "ETA = 0.9 n_estimators = 500 max_depth = 4 auc = 0.8730902777777778\n",
            "ETA = 0.9 n_estimators = 500 max_depth = 5 auc = 0.8788715277777778\n",
            "ETA = 0.9 n_estimators = 500 max_depth = 6 auc = 0.8735763888888888\n",
            "ETA = 0.9 n_estimators = 500 max_depth = 7 auc = 0.8797395833333334\n",
            "ETA = 0.9 n_estimators = 500 max_depth = 8 auc = 0.87875\n",
            "ETA = 0.9 n_estimators = 500 max_depth = 9 auc = 0.8722222222222222\n",
            "ETA = 1.0 n_estimators = 10 max_depth = 1 auc = 0.7472743055555555\n",
            "ETA = 1.0 n_estimators = 10 max_depth = 2 auc = 0.8448177083333333\n",
            "ETA = 1.0 n_estimators = 10 max_depth = 3 auc = 0.8805295138888889\n",
            "ETA = 1.0 n_estimators = 10 max_depth = 4 auc = 0.8878211805555556\n",
            "ETA = 1.0 n_estimators = 10 max_depth = 5 auc = 0.8673263888888889\n",
            "ETA = 1.0 n_estimators = 10 max_depth = 6 auc = 0.866484375\n",
            "ETA = 1.0 n_estimators = 10 max_depth = 7 auc = 0.8717534722222222\n",
            "ETA = 1.0 n_estimators = 10 max_depth = 8 auc = 0.8525694444444445\n",
            "ETA = 1.0 n_estimators = 10 max_depth = 9 auc = 0.8542534722222224\n",
            "ETA = 1.0 n_estimators = 50 max_depth = 1 auc = 0.817282986111111\n",
            "ETA = 1.0 n_estimators = 50 max_depth = 2 auc = 0.8819444444444444\n",
            "ETA = 1.0 n_estimators = 50 max_depth = 3 auc = 0.875642361111111\n",
            "ETA = 1.0 n_estimators = 50 max_depth = 4 auc = 0.8828125\n",
            "ETA = 1.0 n_estimators = 50 max_depth = 5 auc = 0.8633680555555555\n",
            "ETA = 1.0 n_estimators = 50 max_depth = 6 auc = 0.8760416666666666\n",
            "ETA = 1.0 n_estimators = 50 max_depth = 7 auc = 0.8796006944444443\n",
            "ETA = 1.0 n_estimators = 50 max_depth = 8 auc = 0.8677777777777778\n",
            "ETA = 1.0 n_estimators = 50 max_depth = 9 auc = 0.8674652777777777\n",
            "ETA = 1.0 n_estimators = 100 max_depth = 1 auc = 0.8319010416666668\n",
            "ETA = 1.0 n_estimators = 100 max_depth = 2 auc = 0.8896354166666666\n",
            "ETA = 1.0 n_estimators = 100 max_depth = 3 auc = 0.8753993055555556\n",
            "ETA = 1.0 n_estimators = 100 max_depth = 4 auc = 0.8805902777777778\n",
            "ETA = 1.0 n_estimators = 100 max_depth = 5 auc = 0.8648090277777778\n",
            "ETA = 1.0 n_estimators = 100 max_depth = 6 auc = 0.8748090277777778\n",
            "ETA = 1.0 n_estimators = 100 max_depth = 7 auc = 0.8759114583333334\n",
            "ETA = 1.0 n_estimators = 100 max_depth = 8 auc = 0.8653993055555554\n",
            "ETA = 1.0 n_estimators = 100 max_depth = 9 auc = 0.8703472222222222\n",
            "ETA = 1.0 n_estimators = 200 max_depth = 1 auc = 0.8446875\n",
            "ETA = 1.0 n_estimators = 200 max_depth = 2 auc = 0.8778298611111112\n",
            "ETA = 1.0 n_estimators = 200 max_depth = 3 auc = 0.8703472222222223\n",
            "ETA = 1.0 n_estimators = 200 max_depth = 4 auc = 0.88015625\n",
            "ETA = 1.0 n_estimators = 200 max_depth = 5 auc = 0.8699652777777778\n",
            "ETA = 1.0 n_estimators = 200 max_depth = 6 auc = 0.8762673611111111\n",
            "ETA = 1.0 n_estimators = 200 max_depth = 7 auc = 0.8763888888888889\n",
            "ETA = 1.0 n_estimators = 200 max_depth = 8 auc = 0.8675347222222223\n",
            "ETA = 1.0 n_estimators = 200 max_depth = 9 auc = 0.8729166666666666\n",
            "ETA = 1.0 n_estimators = 500 max_depth = 1 auc = 0.8340624999999999\n",
            "ETA = 1.0 n_estimators = 500 max_depth = 2 auc = 0.8716666666666666\n",
            "ETA = 1.0 n_estimators = 500 max_depth = 3 auc = 0.8703645833333332\n",
            "ETA = 1.0 n_estimators = 500 max_depth = 4 auc = 0.8798263888888889\n",
            "ETA = 1.0 n_estimators = 500 max_depth = 5 auc = 0.8741145833333334\n",
            "ETA = 1.0 n_estimators = 500 max_depth = 6 auc = 0.8768055555555556\n",
            "ETA = 1.0 n_estimators = 500 max_depth = 7 auc = 0.8792708333333333\n",
            "ETA = 1.0 n_estimators = 500 max_depth = 8 auc = 0.8701736111111111\n",
            "ETA = 1.0 n_estimators = 500 max_depth = 9 auc = 0.8752604166666665\n",
            "Best model is:  [0.2, 100, 6, 0.8993749999999999]\n"
          ]
        }
      ]
    },
    {
      "cell_type": "code",
      "source": [
        "from sklearn.neural_network import MLPClassifier"
      ],
      "metadata": {
        "id": "7Q9p5e9f5pEt"
      },
      "execution_count": 65,
      "outputs": []
    },
    {
      "cell_type": "code",
      "source": [
        "hidden_layers = [50, 100, 200, 500]\n",
        "solvers = ['lbfgs', 'sgd', 'adam']\n",
        "alphas = [0.0001, 0.001, 0.01, 0.1, 10, 100]\n",
        "best = [0,0,0,0]\n",
        "\n",
        "for solver in solvers:\n",
        "  for hidden_layer in hidden_layers:\n",
        "    for alpha in alphas:\n",
        "      model = MLPClassifier(hidden_layer_sizes=(hidden_layer,), solver=solver, alpha = alpha, random_state=7)\n",
        "      model.fit(x_train, y_train)\n",
        "      y_pred = model.predict_proba(x_test)[:,1]\n",
        "      auc = roc_auc_score(y_test, y_pred)\n",
        "\n",
        "      print(f'Solver = {solver} hidden_layer_size = {hidden_layer} alpha = {alpha} auc = {auc}')\n",
        "\n",
        "      if auc > best[3]:\n",
        "        best = [solver, hidden_layer, alpha, auc]\n",
        "\n",
        "print('Best is: ', best)"
      ],
      "metadata": {
        "colab": {
          "base_uri": "https://localhost:8080/"
        },
        "id": "alifoL2L98EI",
        "outputId": "7564c8b3-e9ae-4d11-b1c0-cdf27fa06061"
      },
      "execution_count": 66,
      "outputs": [
        {
          "output_type": "stream",
          "name": "stderr",
          "text": [
            "/usr/local/lib/python3.10/dist-packages/sklearn/neural_network/_multilayer_perceptron.py:541: ConvergenceWarning: lbfgs failed to converge (status=2):\n",
            "ABNORMAL_TERMINATION_IN_LNSRCH.\n",
            "\n",
            "Increase the number of iterations (max_iter) or scale the data as shown in:\n",
            "    https://scikit-learn.org/stable/modules/preprocessing.html\n",
            "  self.n_iter_ = _check_optimize_result(\"lbfgs\", opt_res, self.max_iter)\n",
            "/usr/local/lib/python3.10/dist-packages/sklearn/neural_network/_multilayer_perceptron.py:541: ConvergenceWarning: lbfgs failed to converge (status=2):\n",
            "ABNORMAL_TERMINATION_IN_LNSRCH.\n",
            "\n",
            "Increase the number of iterations (max_iter) or scale the data as shown in:\n",
            "    https://scikit-learn.org/stable/modules/preprocessing.html\n",
            "  self.n_iter_ = _check_optimize_result(\"lbfgs\", opt_res, self.max_iter)\n"
          ]
        },
        {
          "output_type": "stream",
          "name": "stdout",
          "text": [
            "Solver = lbfgs hidden_layer_size = 50 alpha = 0.0001 auc = 0.5\n",
            "Solver = lbfgs hidden_layer_size = 50 alpha = 0.001 auc = 0.5\n"
          ]
        },
        {
          "output_type": "stream",
          "name": "stderr",
          "text": [
            "/usr/local/lib/python3.10/dist-packages/sklearn/neural_network/_multilayer_perceptron.py:541: ConvergenceWarning: lbfgs failed to converge (status=2):\n",
            "ABNORMAL_TERMINATION_IN_LNSRCH.\n",
            "\n",
            "Increase the number of iterations (max_iter) or scale the data as shown in:\n",
            "    https://scikit-learn.org/stable/modules/preprocessing.html\n",
            "  self.n_iter_ = _check_optimize_result(\"lbfgs\", opt_res, self.max_iter)\n"
          ]
        },
        {
          "output_type": "stream",
          "name": "stdout",
          "text": [
            "Solver = lbfgs hidden_layer_size = 50 alpha = 0.01 auc = 0.5\n"
          ]
        },
        {
          "output_type": "stream",
          "name": "stderr",
          "text": [
            "/usr/local/lib/python3.10/dist-packages/sklearn/neural_network/_multilayer_perceptron.py:541: ConvergenceWarning: lbfgs failed to converge (status=2):\n",
            "ABNORMAL_TERMINATION_IN_LNSRCH.\n",
            "\n",
            "Increase the number of iterations (max_iter) or scale the data as shown in:\n",
            "    https://scikit-learn.org/stable/modules/preprocessing.html\n",
            "  self.n_iter_ = _check_optimize_result(\"lbfgs\", opt_res, self.max_iter)\n",
            "/usr/local/lib/python3.10/dist-packages/sklearn/neural_network/_multilayer_perceptron.py:541: ConvergenceWarning: lbfgs failed to converge (status=2):\n",
            "ABNORMAL_TERMINATION_IN_LNSRCH.\n",
            "\n",
            "Increase the number of iterations (max_iter) or scale the data as shown in:\n",
            "    https://scikit-learn.org/stable/modules/preprocessing.html\n",
            "  self.n_iter_ = _check_optimize_result(\"lbfgs\", opt_res, self.max_iter)\n"
          ]
        },
        {
          "output_type": "stream",
          "name": "stdout",
          "text": [
            "Solver = lbfgs hidden_layer_size = 50 alpha = 0.1 auc = 0.5\n",
            "Solver = lbfgs hidden_layer_size = 50 alpha = 10 auc = 0.5\n"
          ]
        },
        {
          "output_type": "stream",
          "name": "stderr",
          "text": [
            "/usr/local/lib/python3.10/dist-packages/sklearn/neural_network/_multilayer_perceptron.py:541: ConvergenceWarning: lbfgs failed to converge (status=2):\n",
            "ABNORMAL_TERMINATION_IN_LNSRCH.\n",
            "\n",
            "Increase the number of iterations (max_iter) or scale the data as shown in:\n",
            "    https://scikit-learn.org/stable/modules/preprocessing.html\n",
            "  self.n_iter_ = _check_optimize_result(\"lbfgs\", opt_res, self.max_iter)\n",
            "/usr/local/lib/python3.10/dist-packages/sklearn/neural_network/_multilayer_perceptron.py:541: ConvergenceWarning: lbfgs failed to converge (status=2):\n",
            "ABNORMAL_TERMINATION_IN_LNSRCH.\n",
            "\n",
            "Increase the number of iterations (max_iter) or scale the data as shown in:\n",
            "    https://scikit-learn.org/stable/modules/preprocessing.html\n",
            "  self.n_iter_ = _check_optimize_result(\"lbfgs\", opt_res, self.max_iter)\n"
          ]
        },
        {
          "output_type": "stream",
          "name": "stdout",
          "text": [
            "Solver = lbfgs hidden_layer_size = 50 alpha = 100 auc = 0.5\n",
            "Solver = lbfgs hidden_layer_size = 100 alpha = 0.0001 auc = 0.49991319444444443\n"
          ]
        },
        {
          "output_type": "stream",
          "name": "stderr",
          "text": [
            "/usr/local/lib/python3.10/dist-packages/sklearn/neural_network/_multilayer_perceptron.py:541: ConvergenceWarning: lbfgs failed to converge (status=2):\n",
            "ABNORMAL_TERMINATION_IN_LNSRCH.\n",
            "\n",
            "Increase the number of iterations (max_iter) or scale the data as shown in:\n",
            "    https://scikit-learn.org/stable/modules/preprocessing.html\n",
            "  self.n_iter_ = _check_optimize_result(\"lbfgs\", opt_res, self.max_iter)\n",
            "/usr/local/lib/python3.10/dist-packages/sklearn/neural_network/_multilayer_perceptron.py:541: ConvergenceWarning: lbfgs failed to converge (status=2):\n",
            "ABNORMAL_TERMINATION_IN_LNSRCH.\n",
            "\n",
            "Increase the number of iterations (max_iter) or scale the data as shown in:\n",
            "    https://scikit-learn.org/stable/modules/preprocessing.html\n",
            "  self.n_iter_ = _check_optimize_result(\"lbfgs\", opt_res, self.max_iter)\n"
          ]
        },
        {
          "output_type": "stream",
          "name": "stdout",
          "text": [
            "Solver = lbfgs hidden_layer_size = 100 alpha = 0.001 auc = 0.49991319444444443\n",
            "Solver = lbfgs hidden_layer_size = 100 alpha = 0.01 auc = 0.49991319444444443\n"
          ]
        },
        {
          "output_type": "stream",
          "name": "stderr",
          "text": [
            "/usr/local/lib/python3.10/dist-packages/sklearn/neural_network/_multilayer_perceptron.py:541: ConvergenceWarning: lbfgs failed to converge (status=2):\n",
            "ABNORMAL_TERMINATION_IN_LNSRCH.\n",
            "\n",
            "Increase the number of iterations (max_iter) or scale the data as shown in:\n",
            "    https://scikit-learn.org/stable/modules/preprocessing.html\n",
            "  self.n_iter_ = _check_optimize_result(\"lbfgs\", opt_res, self.max_iter)\n",
            "/usr/local/lib/python3.10/dist-packages/sklearn/neural_network/_multilayer_perceptron.py:541: ConvergenceWarning: lbfgs failed to converge (status=2):\n",
            "ABNORMAL_TERMINATION_IN_LNSRCH.\n",
            "\n",
            "Increase the number of iterations (max_iter) or scale the data as shown in:\n",
            "    https://scikit-learn.org/stable/modules/preprocessing.html\n",
            "  self.n_iter_ = _check_optimize_result(\"lbfgs\", opt_res, self.max_iter)\n"
          ]
        },
        {
          "output_type": "stream",
          "name": "stdout",
          "text": [
            "Solver = lbfgs hidden_layer_size = 100 alpha = 0.1 auc = 0.49991319444444443\n",
            "Solver = lbfgs hidden_layer_size = 100 alpha = 10 auc = 0.49991319444444443\n"
          ]
        },
        {
          "output_type": "stream",
          "name": "stderr",
          "text": [
            "/usr/local/lib/python3.10/dist-packages/sklearn/neural_network/_multilayer_perceptron.py:541: ConvergenceWarning: lbfgs failed to converge (status=2):\n",
            "ABNORMAL_TERMINATION_IN_LNSRCH.\n",
            "\n",
            "Increase the number of iterations (max_iter) or scale the data as shown in:\n",
            "    https://scikit-learn.org/stable/modules/preprocessing.html\n",
            "  self.n_iter_ = _check_optimize_result(\"lbfgs\", opt_res, self.max_iter)\n"
          ]
        },
        {
          "output_type": "stream",
          "name": "stdout",
          "text": [
            "Solver = lbfgs hidden_layer_size = 100 alpha = 100 auc = 0.49991319444444443\n"
          ]
        },
        {
          "output_type": "stream",
          "name": "stderr",
          "text": [
            "/usr/local/lib/python3.10/dist-packages/sklearn/neural_network/_multilayer_perceptron.py:541: ConvergenceWarning: lbfgs failed to converge (status=2):\n",
            "ABNORMAL_TERMINATION_IN_LNSRCH.\n",
            "\n",
            "Increase the number of iterations (max_iter) or scale the data as shown in:\n",
            "    https://scikit-learn.org/stable/modules/preprocessing.html\n",
            "  self.n_iter_ = _check_optimize_result(\"lbfgs\", opt_res, self.max_iter)\n"
          ]
        },
        {
          "output_type": "stream",
          "name": "stdout",
          "text": [
            "Solver = lbfgs hidden_layer_size = 200 alpha = 0.0001 auc = 0.5055034722222221\n"
          ]
        },
        {
          "output_type": "stream",
          "name": "stderr",
          "text": [
            "/usr/local/lib/python3.10/dist-packages/sklearn/neural_network/_multilayer_perceptron.py:541: ConvergenceWarning: lbfgs failed to converge (status=2):\n",
            "ABNORMAL_TERMINATION_IN_LNSRCH.\n",
            "\n",
            "Increase the number of iterations (max_iter) or scale the data as shown in:\n",
            "    https://scikit-learn.org/stable/modules/preprocessing.html\n",
            "  self.n_iter_ = _check_optimize_result(\"lbfgs\", opt_res, self.max_iter)\n"
          ]
        },
        {
          "output_type": "stream",
          "name": "stdout",
          "text": [
            "Solver = lbfgs hidden_layer_size = 200 alpha = 0.001 auc = 0.5055034722222221\n"
          ]
        },
        {
          "output_type": "stream",
          "name": "stderr",
          "text": [
            "/usr/local/lib/python3.10/dist-packages/sklearn/neural_network/_multilayer_perceptron.py:541: ConvergenceWarning: lbfgs failed to converge (status=2):\n",
            "ABNORMAL_TERMINATION_IN_LNSRCH.\n",
            "\n",
            "Increase the number of iterations (max_iter) or scale the data as shown in:\n",
            "    https://scikit-learn.org/stable/modules/preprocessing.html\n",
            "  self.n_iter_ = _check_optimize_result(\"lbfgs\", opt_res, self.max_iter)\n"
          ]
        },
        {
          "output_type": "stream",
          "name": "stdout",
          "text": [
            "Solver = lbfgs hidden_layer_size = 200 alpha = 0.01 auc = 0.5055034722222221\n"
          ]
        },
        {
          "output_type": "stream",
          "name": "stderr",
          "text": [
            "/usr/local/lib/python3.10/dist-packages/sklearn/neural_network/_multilayer_perceptron.py:541: ConvergenceWarning: lbfgs failed to converge (status=2):\n",
            "ABNORMAL_TERMINATION_IN_LNSRCH.\n",
            "\n",
            "Increase the number of iterations (max_iter) or scale the data as shown in:\n",
            "    https://scikit-learn.org/stable/modules/preprocessing.html\n",
            "  self.n_iter_ = _check_optimize_result(\"lbfgs\", opt_res, self.max_iter)\n"
          ]
        },
        {
          "output_type": "stream",
          "name": "stdout",
          "text": [
            "Solver = lbfgs hidden_layer_size = 200 alpha = 0.1 auc = 0.5055034722222221\n"
          ]
        },
        {
          "output_type": "stream",
          "name": "stderr",
          "text": [
            "/usr/local/lib/python3.10/dist-packages/sklearn/neural_network/_multilayer_perceptron.py:541: ConvergenceWarning: lbfgs failed to converge (status=2):\n",
            "ABNORMAL_TERMINATION_IN_LNSRCH.\n",
            "\n",
            "Increase the number of iterations (max_iter) or scale the data as shown in:\n",
            "    https://scikit-learn.org/stable/modules/preprocessing.html\n",
            "  self.n_iter_ = _check_optimize_result(\"lbfgs\", opt_res, self.max_iter)\n"
          ]
        },
        {
          "output_type": "stream",
          "name": "stdout",
          "text": [
            "Solver = lbfgs hidden_layer_size = 200 alpha = 10 auc = 0.5055034722222221\n"
          ]
        },
        {
          "output_type": "stream",
          "name": "stderr",
          "text": [
            "/usr/local/lib/python3.10/dist-packages/sklearn/neural_network/_multilayer_perceptron.py:541: ConvergenceWarning: lbfgs failed to converge (status=2):\n",
            "ABNORMAL_TERMINATION_IN_LNSRCH.\n",
            "\n",
            "Increase the number of iterations (max_iter) or scale the data as shown in:\n",
            "    https://scikit-learn.org/stable/modules/preprocessing.html\n",
            "  self.n_iter_ = _check_optimize_result(\"lbfgs\", opt_res, self.max_iter)\n"
          ]
        },
        {
          "output_type": "stream",
          "name": "stdout",
          "text": [
            "Solver = lbfgs hidden_layer_size = 200 alpha = 100 auc = 0.5055034722222221\n"
          ]
        },
        {
          "output_type": "stream",
          "name": "stderr",
          "text": [
            "/usr/local/lib/python3.10/dist-packages/sklearn/neural_network/_multilayer_perceptron.py:541: ConvergenceWarning: lbfgs failed to converge (status=2):\n",
            "ABNORMAL_TERMINATION_IN_LNSRCH.\n",
            "\n",
            "Increase the number of iterations (max_iter) or scale the data as shown in:\n",
            "    https://scikit-learn.org/stable/modules/preprocessing.html\n",
            "  self.n_iter_ = _check_optimize_result(\"lbfgs\", opt_res, self.max_iter)\n"
          ]
        },
        {
          "output_type": "stream",
          "name": "stdout",
          "text": [
            "Solver = lbfgs hidden_layer_size = 500 alpha = 0.0001 auc = 0.4994270833333333\n"
          ]
        },
        {
          "output_type": "stream",
          "name": "stderr",
          "text": [
            "/usr/local/lib/python3.10/dist-packages/sklearn/neural_network/_multilayer_perceptron.py:541: ConvergenceWarning: lbfgs failed to converge (status=2):\n",
            "ABNORMAL_TERMINATION_IN_LNSRCH.\n",
            "\n",
            "Increase the number of iterations (max_iter) or scale the data as shown in:\n",
            "    https://scikit-learn.org/stable/modules/preprocessing.html\n",
            "  self.n_iter_ = _check_optimize_result(\"lbfgs\", opt_res, self.max_iter)\n"
          ]
        },
        {
          "output_type": "stream",
          "name": "stdout",
          "text": [
            "Solver = lbfgs hidden_layer_size = 500 alpha = 0.001 auc = 0.4994270833333333\n"
          ]
        },
        {
          "output_type": "stream",
          "name": "stderr",
          "text": [
            "/usr/local/lib/python3.10/dist-packages/sklearn/neural_network/_multilayer_perceptron.py:541: ConvergenceWarning: lbfgs failed to converge (status=2):\n",
            "ABNORMAL_TERMINATION_IN_LNSRCH.\n",
            "\n",
            "Increase the number of iterations (max_iter) or scale the data as shown in:\n",
            "    https://scikit-learn.org/stable/modules/preprocessing.html\n",
            "  self.n_iter_ = _check_optimize_result(\"lbfgs\", opt_res, self.max_iter)\n"
          ]
        },
        {
          "output_type": "stream",
          "name": "stdout",
          "text": [
            "Solver = lbfgs hidden_layer_size = 500 alpha = 0.01 auc = 0.4994270833333333\n"
          ]
        },
        {
          "output_type": "stream",
          "name": "stderr",
          "text": [
            "/usr/local/lib/python3.10/dist-packages/sklearn/neural_network/_multilayer_perceptron.py:541: ConvergenceWarning: lbfgs failed to converge (status=2):\n",
            "ABNORMAL_TERMINATION_IN_LNSRCH.\n",
            "\n",
            "Increase the number of iterations (max_iter) or scale the data as shown in:\n",
            "    https://scikit-learn.org/stable/modules/preprocessing.html\n",
            "  self.n_iter_ = _check_optimize_result(\"lbfgs\", opt_res, self.max_iter)\n"
          ]
        },
        {
          "output_type": "stream",
          "name": "stdout",
          "text": [
            "Solver = lbfgs hidden_layer_size = 500 alpha = 0.1 auc = 0.4994270833333333\n"
          ]
        },
        {
          "output_type": "stream",
          "name": "stderr",
          "text": [
            "/usr/local/lib/python3.10/dist-packages/sklearn/neural_network/_multilayer_perceptron.py:541: ConvergenceWarning: lbfgs failed to converge (status=2):\n",
            "ABNORMAL_TERMINATION_IN_LNSRCH.\n",
            "\n",
            "Increase the number of iterations (max_iter) or scale the data as shown in:\n",
            "    https://scikit-learn.org/stable/modules/preprocessing.html\n",
            "  self.n_iter_ = _check_optimize_result(\"lbfgs\", opt_res, self.max_iter)\n"
          ]
        },
        {
          "output_type": "stream",
          "name": "stdout",
          "text": [
            "Solver = lbfgs hidden_layer_size = 500 alpha = 10 auc = 0.4994270833333333\n"
          ]
        },
        {
          "output_type": "stream",
          "name": "stderr",
          "text": [
            "/usr/local/lib/python3.10/dist-packages/sklearn/neural_network/_multilayer_perceptron.py:541: ConvergenceWarning: lbfgs failed to converge (status=2):\n",
            "ABNORMAL_TERMINATION_IN_LNSRCH.\n",
            "\n",
            "Increase the number of iterations (max_iter) or scale the data as shown in:\n",
            "    https://scikit-learn.org/stable/modules/preprocessing.html\n",
            "  self.n_iter_ = _check_optimize_result(\"lbfgs\", opt_res, self.max_iter)\n"
          ]
        },
        {
          "output_type": "stream",
          "name": "stdout",
          "text": [
            "Solver = lbfgs hidden_layer_size = 500 alpha = 100 auc = 0.4994270833333333\n",
            "Solver = sgd hidden_layer_size = 50 alpha = 0.0001 auc = 0.4973958333333333\n",
            "Solver = sgd hidden_layer_size = 50 alpha = 0.001 auc = 0.4973958333333333\n",
            "Solver = sgd hidden_layer_size = 50 alpha = 0.01 auc = 0.4973958333333333\n",
            "Solver = sgd hidden_layer_size = 50 alpha = 0.1 auc = 0.4973958333333333\n",
            "Solver = sgd hidden_layer_size = 50 alpha = 10 auc = 0.4973958333333333\n",
            "Solver = sgd hidden_layer_size = 50 alpha = 100 auc = 0.5087673611111111\n",
            "Solver = sgd hidden_layer_size = 100 alpha = 0.0001 auc = 0.4942708333333333\n",
            "Solver = sgd hidden_layer_size = 100 alpha = 0.001 auc = 0.49293402777777784\n",
            "Solver = sgd hidden_layer_size = 100 alpha = 0.01 auc = 0.49293402777777784\n",
            "Solver = sgd hidden_layer_size = 100 alpha = 0.1 auc = 0.49293402777777784\n",
            "Solver = sgd hidden_layer_size = 100 alpha = 10 auc = 0.49454861111111115\n",
            "Solver = sgd hidden_layer_size = 100 alpha = 100 auc = 0.5087673611111111\n",
            "Solver = sgd hidden_layer_size = 200 alpha = 0.0001 auc = 0.5026041666666666\n",
            "Solver = sgd hidden_layer_size = 200 alpha = 0.001 auc = 0.5026041666666666\n",
            "Solver = sgd hidden_layer_size = 200 alpha = 0.01 auc = 0.5026041666666666\n",
            "Solver = sgd hidden_layer_size = 200 alpha = 0.1 auc = 0.5026041666666666\n",
            "Solver = sgd hidden_layer_size = 200 alpha = 10 auc = 0.5026041666666666\n",
            "Solver = sgd hidden_layer_size = 200 alpha = 100 auc = 0.5087673611111111\n",
            "Solver = sgd hidden_layer_size = 500 alpha = 0.0001 auc = 0.4981076388888889\n",
            "Solver = sgd hidden_layer_size = 500 alpha = 0.001 auc = 0.4981076388888889\n",
            "Solver = sgd hidden_layer_size = 500 alpha = 0.01 auc = 0.4981076388888889\n",
            "Solver = sgd hidden_layer_size = 500 alpha = 0.1 auc = 0.4981076388888889\n",
            "Solver = sgd hidden_layer_size = 500 alpha = 10 auc = 0.49265625\n",
            "Solver = sgd hidden_layer_size = 500 alpha = 100 auc = 0.5087673611111111\n",
            "Solver = adam hidden_layer_size = 50 alpha = 0.0001 auc = 0.45876736111111105\n",
            "Solver = adam hidden_layer_size = 50 alpha = 0.001 auc = 0.46892361111111114\n",
            "Solver = adam hidden_layer_size = 50 alpha = 0.01 auc = 0.4588715277777778\n",
            "Solver = adam hidden_layer_size = 50 alpha = 0.1 auc = 0.48020833333333335\n",
            "Solver = adam hidden_layer_size = 50 alpha = 10 auc = 0.46428819444444447\n",
            "Solver = adam hidden_layer_size = 50 alpha = 100 auc = 0.48649305555555555\n",
            "Solver = adam hidden_layer_size = 100 alpha = 0.0001 auc = 0.5047309027777778\n",
            "Solver = adam hidden_layer_size = 100 alpha = 0.001 auc = 0.5083333333333333\n",
            "Solver = adam hidden_layer_size = 100 alpha = 0.01 auc = 0.5015972222222222\n",
            "Solver = adam hidden_layer_size = 100 alpha = 0.1 auc = 0.5029513888888889\n",
            "Solver = adam hidden_layer_size = 100 alpha = 10 auc = 0.4924739583333334\n",
            "Solver = adam hidden_layer_size = 100 alpha = 100 auc = 0.5034201388888889\n",
            "Solver = adam hidden_layer_size = 200 alpha = 0.0001 auc = 0.5019444444444444\n",
            "Solver = adam hidden_layer_size = 200 alpha = 0.001 auc = 0.4911111111111111\n",
            "Solver = adam hidden_layer_size = 200 alpha = 0.01 auc = 0.5031597222222222\n",
            "Solver = adam hidden_layer_size = 200 alpha = 0.1 auc = 0.5029427083333333\n",
            "Solver = adam hidden_layer_size = 200 alpha = 10 auc = 0.5051475694444445\n",
            "Solver = adam hidden_layer_size = 200 alpha = 100 auc = 0.5016493055555555\n",
            "Solver = adam hidden_layer_size = 500 alpha = 0.0001 auc = 0.5058506944444444\n",
            "Solver = adam hidden_layer_size = 500 alpha = 0.001 auc = 0.49973958333333335\n",
            "Solver = adam hidden_layer_size = 500 alpha = 0.01 auc = 0.5016145833333334\n",
            "Solver = adam hidden_layer_size = 500 alpha = 0.1 auc = 0.4853993055555556\n",
            "Solver = adam hidden_layer_size = 500 alpha = 10 auc = 0.49571180555555555\n",
            "Solver = adam hidden_layer_size = 500 alpha = 100 auc = 0.5053645833333333\n",
            "Best is:  ['sgd', 50, 100, 0.5087673611111111]\n"
          ]
        }
      ]
    }
  ]
}